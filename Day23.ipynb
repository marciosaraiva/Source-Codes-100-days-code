{
 "cells": [
  {
   "cell_type": "markdown",
   "metadata": {},
   "source": [
    "**Exercise: Squared and Cubic**\n",
    "\n",
    "Write a program that reads an integer N (1 < N < 1000). This N is the number of output lines printed by this program.\n",
    "\n",
    "**Input:**\n",
    "The input file contains an integer N.\n",
    "\n",
    "5 \n",
    "\n",
    "**Output:**\n",
    "Print the output according to the given example.\n",
    "\n",
    "1 1 1\n",
    "\n",
    "2 4 8\n",
    "\n",
    "3 9 27\n",
    "\n",
    "4 16 64\n",
    "\n",
    "5 25 125\n",
    "\n"
   ]
  },
  {
   "cell_type": "code",
   "execution_count": 1,
   "metadata": {},
   "outputs": [
    {
     "name": "stdout",
     "output_type": "stream",
     "text": [
      "5\n",
      "1 1 1\n",
      "2 4 8\n",
      "3 9 27\n",
      "4 16 64\n",
      "5 25 125\n"
     ]
    }
   ],
   "source": [
    "n = int(input())\n",
    "\n",
    "for x in range(1,n+1):\n",
    "    print(x, x**2,  x**3)"
   ]
  },
  {
   "cell_type": "markdown",
   "metadata": {},
   "source": [
    "**Exercise: Logical Sequence**\n",
    "\n",
    "Write a program that reads an integer N. N * 2 lines must be printed by this program according to the example below. For numbers with more than 6 digits, all digits must be printed (no cientific notation allowed).\n",
    "\n",
    "**Input:**\n",
    "The input file contains an integer N (1 < N < 1000).\n",
    "\n",
    "5\n",
    "\n",
    "**Output:**\n",
    "Print the output according to the given example.\n",
    "\n",
    "1 1 1\n",
    "\n",
    "1 2 2\n",
    "\n",
    "2 4 8\n",
    "\n",
    "2 5 9\n",
    "\n",
    "3 9 27\n",
    "\n",
    "3 10 28\n",
    "\n",
    "4 16 64\n",
    "\n",
    "4 17 65\n",
    "\n",
    "5 25 125\n",
    "\n",
    "5 26 126"
   ]
  },
  {
   "cell_type": "code",
   "execution_count": 2,
   "metadata": {},
   "outputs": [
    {
     "name": "stdout",
     "output_type": "stream",
     "text": [
      "5\n",
      "1 1 1\n",
      "1 2 2\n",
      "2 4 8\n",
      "2 5 9\n",
      "3 9 27\n",
      "3 10 28\n",
      "4 16 64\n",
      "4 17 65\n",
      "5 25 125\n",
      "5 26 126\n"
     ]
    }
   ],
   "source": [
    "n = int(input())\n",
    "\n",
    "for x in range(1,n+1):\n",
    "    print(x, x**2, x**3)\n",
    "    print(x, x**2+1, x**3+1)"
   ]
  },
  {
   "cell_type": "markdown",
   "metadata": {},
   "source": [
    "**Exercise: Logical Sequence 2**\n",
    "\n",
    "Write an program that reads two numbers X and Y (X < Y). After this, show a sequence of 1 to y, passing to the next line to each X numbers.\n",
    "\n",
    "**Input:**\n",
    "The input contains two integer numbers X (1 < X < 20) and Y (X < Y < 100000).\n",
    "\n",
    "3\n",
    "\n",
    "**Output:**\n",
    "Each sequence must be printed in one line, with a blank space between each number, like the following example.\n",
    "\n",
    "1 2 3\n",
    "\n",
    "4 5 6\n",
    "\n",
    "7 8 9\n",
    "\n",
    "10 11 12\n",
    "\n",
    "...\n",
    "\n",
    "97 98 99"
   ]
  },
  {
   "cell_type": "code",
   "execution_count": 3,
   "metadata": {},
   "outputs": [
    {
     "name": "stdout",
     "output_type": "stream",
     "text": [
      "3 99\n",
      "1 2 3\n",
      "4 5 6\n",
      "7 8 9\n",
      "10 11 12\n",
      "13 14 15\n",
      "16 17 18\n",
      "19 20 21\n",
      "22 23 24\n",
      "25 26 27\n",
      "28 29 30\n",
      "31 32 33\n",
      "34 35 36\n",
      "37 38 39\n",
      "40 41 42\n",
      "43 44 45\n",
      "46 47 48\n",
      "49 50 51\n",
      "52 53 54\n",
      "55 56 57\n",
      "58 59 60\n",
      "61 62 63\n",
      "64 65 66\n",
      "67 68 69\n",
      "70 71 72\n",
      "73 74 75\n",
      "76 77 78\n",
      "79 80 81\n",
      "82 83 84\n",
      "85 86 87\n",
      "88 89 90\n",
      "91 92 93\n",
      "94 95 96\n",
      "97 98 99\n"
     ]
    }
   ],
   "source": [
    "x, y = map(int, input().split())\n",
    "qtd = 0\n",
    "result= \"\"\n",
    "for n in range(1, y+1):\n",
    "    result+=str(n)+\" \"\n",
    "    qtd+=1\n",
    "    if qtd == x:\n",
    "        qtd=0\n",
    "        print(result[:-1])\n",
    "        result = \"\""
   ]
  }
 ],
 "metadata": {
  "kernelspec": {
   "display_name": "Python 3",
   "language": "python",
   "name": "python3"
  },
  "language_info": {
   "codemirror_mode": {
    "name": "ipython",
    "version": 3
   },
   "file_extension": ".py",
   "mimetype": "text/x-python",
   "name": "python",
   "nbconvert_exporter": "python",
   "pygments_lexer": "ipython3",
   "version": "3.6.8"
  }
 },
 "nbformat": 4,
 "nbformat_minor": 2
}
