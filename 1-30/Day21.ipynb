{
 "cells": [
  {
   "cell_type": "markdown",
   "metadata": {},
   "source": [
    "**Exercise: Several Scores with Validation**\n",
    "    \n",
    "Write an program to read two scores of a student. Calculate and print the semester average. The program must accept only valid scores (a score must fit in the range [0.10]). Each score must be validated separately.\n",
    "\n",
    "The program must print a message \"novo calculo (1-sim 2-nao)\" that means \"new calculate (1-yes 2-no)\". After, the input will be (1 or 2). 1 means a new calculation, 2 means that the execution must be finished.\n",
    "\n",
    "**Input:**\n",
    "The input file contains several positive or negative floating-point (double) values​. After the input of 2 valid scores, an integer number X will be read. Your program must stop when X = 2.\n",
    "\n",
    "**Output:**\n",
    "If an invalid score is read, must be printed the message \"nota invalida\". When two valid scores are read, the message \"media = \" must be printed folowed by the average between these 2 scores. The message \"novo calculo (1-sim 2-nao)\" must be printed after reading X. This message should be displayed again if the standard input number for X is less than 1 or greater than 2, as example below.\n",
    "\n",
    "The output average must be printed with 2 digits after the decimal point."
   ]
  },
  {
   "cell_type": "code",
   "execution_count": 1,
   "metadata": {},
   "outputs": [
    {
     "name": "stdout",
     "output_type": "stream",
     "text": [
      "-3.5\n",
      "nota invalida\n",
      "3.5\n",
      "11.0\n",
      "nota invalida\n",
      "10.0\n",
      "media = 6.75\n",
      "novo calculo (1-sim 2-nao)\n",
      "4\n",
      "novo calculo (1-sim 2-nao)\n",
      "1\n",
      "8.0\n",
      "9.0\n",
      "media = 8.50\n",
      "novo calculo (1-sim 2-nao)\n",
      "2\n"
     ]
    }
   ],
   "source": [
    "def several_scores():\n",
    "    number_scores = 0\n",
    "    sum_score = 0\n",
    "    while number_scores<2:\n",
    "        score = float(input())\n",
    "        if 0<=score<=10:\n",
    "            sum_score+=score\n",
    "            number_scores+=1\n",
    "        else:\n",
    "            print(\"nota invalida\")\n",
    "    print(\"media = {:.2f}\".format(sum_score/2))\n",
    "    print(\"novo calculo (1-sim 2-nao)\")\n",
    "    x = float(input())\n",
    "    while x<1 or x>2:\n",
    "        print(\"novo calculo (1-sim 2-nao)\")\n",
    "        x = float(input())\n",
    "    if x == 1:\n",
    "        several_scores()\n",
    "        \n",
    "several_scores()       "
   ]
  },
  {
   "cell_type": "markdown",
   "metadata": {},
   "source": [
    "**Exercise: Grenais**\n",
    "\n",
    "The Federação Gaúcha de Futebol invited you to write a program to present a statistical result of several GRENAIS. Write a program that read the number of goals scored by Inter and the number of goals scored by Gremio in a GRENAL. Write the message \"Novo grenal (1-sim 2-nao)\" and request a response. If the answer is 1, two new numbers must be read (another input case) asking the number of goals scored by the teams in a new departure, otherwise the program must be finished, printing:\n",
    "\n",
    "- How many GRENAIS were part of the statistics.\n",
    "- The number of victories of Inter.\n",
    "- The number of victories of Gremio.\n",
    "- The number of Draws.\n",
    "- A message indicating the team that won the largest number of GRENAIS (or the message: \"Não houve vencedor\" if both team won the same quantity of GRENAIS).\n",
    "\n",
    "**Input:**\n",
    "The input contains two integer values​​, corresponding to the goals scored by both teams. Then there is an integer (1 or 2), corresponding to the repetition of the algorithm.\n",
    "\n",
    "**Output:**\n",
    "After each reading of the goals it must be printed the message \"Novo grenal (1-sim 2-nao)\". When the program is finished, the program must print the statistics as the example below."
   ]
  },
  {
   "cell_type": "code",
   "execution_count": 2,
   "metadata": {},
   "outputs": [
    {
     "name": "stdout",
     "output_type": "stream",
     "text": [
      "2 0\n",
      "Novo grenal (1-sim 2-nao)\n",
      "1\n",
      "0 2\n",
      "Novo grenal (1-sim 2-nao)\n",
      "1\n",
      "1 1\n",
      "Novo grenal (1-sim 2-nao)\n",
      "2\n",
      "3 grenais\n",
      "Inter:1\n",
      "Gremio:1\n",
      "Empates:1\n",
      "Nao houve vencedor\n"
     ]
    }
   ],
   "source": [
    "victories_inter = 0 \n",
    "victories_gremio = 0\n",
    "draws = 0\n",
    "repetition = 1\n",
    "total = 0 \n",
    "\n",
    "while repetition==1:\n",
    "    score_inter, score_gremio = map(int, input().split())\n",
    "    total+=1\n",
    "    if score_inter > score_gremio:\n",
    "        victories_inter+=1\n",
    "    elif score_inter < score_gremio:\n",
    "        victories_gremio+=1\n",
    "    elif score_inter == score_gremio:\n",
    "        draws+=1\n",
    "    print(\"Novo grenal (1-sim 2-nao)\")\n",
    "    repetition = int(input())\n",
    "    \n",
    "    \n",
    "print(\"%d grenais\" %total)\n",
    "print(\"Inter:%d\" %victories_inter)\n",
    "print(\"Gremio:%d\" %victories_gremio)\n",
    "print(\"Empates:%d\" %draws)\n",
    "if victories_inter > victories_gremio:\n",
    "    print(\"Inter venceu mais\")\n",
    "elif victories_gremio > victories_inter:\n",
    "    print(\"Gremio venceu mais\")\n",
    "else:\n",
    "    print(\"Nao houve vencedor\")"
   ]
  },
  {
   "cell_type": "markdown",
   "metadata": {},
   "source": [
    "**Exercise:Multiples of 13**\n",
    "\n",
    "Write a program that reads two integer numbers X and Y and calculate the sum of all number not divisible by 13 between them, including both.\n",
    "\n",
    "**Input:**\n",
    "The input file contains 2 integer numbers X and Y without any order.\n",
    "\n",
    "**Output:**\n",
    "Print the sum of all numbers between X and Y not divisible by 13, including them if it is the case."
   ]
  },
  {
   "cell_type": "code",
   "execution_count": 3,
   "metadata": {},
   "outputs": [
    {
     "name": "stdout",
     "output_type": "stream",
     "text": [
      "100\n",
      "200\n",
      "13954\n"
     ]
    }
   ],
   "source": [
    "x = int(input())\n",
    "y = int(input())\n",
    "total = 0\n",
    "if x<y:\n",
    "    for n in range(x,y+1):\n",
    "        if n%13!=0:\n",
    "            total+=n\n",
    "else:\n",
    "    for n in range(y,x+1):\n",
    "        if n%13!=0:\n",
    "            total+=n\n",
    "\n",
    "print(total)"
   ]
  }
 ],
 "metadata": {
  "kernelspec": {
   "display_name": "Python 3",
   "language": "python",
   "name": "python3"
  },
  "language_info": {
   "codemirror_mode": {
    "name": "ipython",
    "version": 3
   },
   "file_extension": ".py",
   "mimetype": "text/x-python",
   "name": "python",
   "nbconvert_exporter": "python",
   "pygments_lexer": "ipython3",
   "version": "3.6.8"
  }
 },
 "nbformat": 4,
 "nbformat_minor": 2
}
