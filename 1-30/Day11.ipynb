{
 "cells": [
  {
   "cell_type": "markdown",
   "metadata": {},
   "source": [
    "Exercise: **Taxes**\n",
    "\n",
    "In an imaginary country called Lisarb, all the people are very happy to pay their taxes because they know that doesn’t exist corrupt politicians and the taxes are used to benefit the population, without any misappropriation. The currency of this country is Rombus, whose symbol is R$.\n",
    "\n",
    "Read a value with 2 digits after the decimal point, equivalent to the salary of a Lisarb inhabitant. Then print the due value that this person must pay of taxes, according to the table: https://resources.urionlinejudge.com.br/gallery/images/problems/UOJ_1051_en.png\n",
    "\n",
    "Remember, if the salary is 3002.00 for  example, the rate of 8\\% is only over 1000.00, because the salary from 0.00 to 2,000.00 is tax free. In the follow example, the total rate is 8\\% over 1000.00 + 18\\% over 2.00, resulting in 80.36 at all. The answer must be printed with 2 digits after the decimal point.\n",
    "\n",
    "**Input:**\n",
    "The input contains only a float-point number, with 2 digits after the decimal point.\n",
    "\n",
    "**Output:**\n",
    "Print the message \"R$\" followed by a blank space and the total tax to be payed, with two digits after the decimal point. If the value is up to 2000, print the message \"Isento\"."
   ]
  },
  {
   "cell_type": "code",
   "execution_count": 1,
   "metadata": {},
   "outputs": [
    {
     "name": "stdout",
     "output_type": "stream",
     "text": [
      "500\n",
      "Isento\n"
     ]
    }
   ],
   "source": [
    "salary = float(input())\n",
    "\n",
    "total_rate = 0\n",
    "\n",
    "if salary<=2000:\n",
    "    print(\"Isento\")\n",
    "    \n",
    "else:\n",
    "    if 2000 < salary <=3000:\n",
    "        salary-=2000\n",
    "        total_rate += salary*0.08\n",
    "        \n",
    "    \n",
    "    elif 3000 < salary <=4500:\n",
    "        free= 2000\n",
    "        first_tax = 1000\n",
    "        rest = salary - free - first_tax\n",
    "        \n",
    "        total_rate += first_tax*0.08\n",
    "        total_rate += rest*0.18\n",
    "            \n",
    "    elif salary>4500:\n",
    "        free= 2000\n",
    "        first_tax = 1000\n",
    "        second_tax = 1500\n",
    "        rest = salary - free - first_tax - second_tax\n",
    "        \n",
    "        total_rate += first_tax*0.08\n",
    "        total_rate += second_tax*0.18\n",
    "        total_rate += rest* 0.28\n",
    "    \n",
    "    print(\"R$ {:.2f}\".format(total_rate))\n",
    "\n"
   ]
  },
  {
   "cell_type": "markdown",
   "metadata": {},
   "source": [
    "Exercise:**Month**\n",
    "\n",
    "Read an integer number between 1 and 12, including. Corresponding to this number, you must print the month of the year, in english, with the first letter in uppercase.\n",
    "\n",
    "**Input:**\n",
    "The input contains only an integer number.\n",
    "\n",
    "**Output:**\n",
    "Print the name of the month according to the input number, with the first letter in uppercase."
   ]
  },
  {
   "cell_type": "code",
   "execution_count": 2,
   "metadata": {},
   "outputs": [
    {
     "name": "stdout",
     "output_type": "stream",
     "text": [
      "10\n",
      "October\n"
     ]
    }
   ],
   "source": [
    "number = int(input())\n",
    "\n",
    "calendar = {\n",
    "        1: \"January\",\n",
    "        2: \"February\",\n",
    "        3: \"March\",\n",
    "        4: \"April\",\n",
    "        5: \"May\",\n",
    "        6: \"June\",\n",
    "        7: \"July\",\n",
    "        8: \"August\",\n",
    "        9: \"September\",\n",
    "        10: \"October\",\n",
    "        11: \"November\",\n",
    "        12: \"December\"\n",
    "    }\n",
    "\n",
    "print(calendar[number])"
   ]
  },
  {
   "cell_type": "markdown",
   "metadata": {},
   "source": [
    "Exercise:**Even Numbers**\n",
    "\n",
    "Write a program that prints all even numbers between 1 and 100, including them if it is the case.\n",
    "\n",
    "Input\n",
    "In this extremely simple problem there is no input.\n",
    "\n",
    "Output\n",
    "Print all even numbers between 1 and 100, including them, one by row."
   ]
  },
  {
   "cell_type": "code",
   "execution_count": 3,
   "metadata": {},
   "outputs": [
    {
     "name": "stdout",
     "output_type": "stream",
     "text": [
      "2\n",
      "4\n",
      "6\n",
      "8\n",
      "10\n",
      "12\n",
      "14\n",
      "16\n",
      "18\n",
      "20\n",
      "22\n",
      "24\n",
      "26\n",
      "28\n",
      "30\n",
      "32\n",
      "34\n",
      "36\n",
      "38\n",
      "40\n",
      "42\n",
      "44\n",
      "46\n",
      "48\n",
      "50\n",
      "52\n",
      "54\n",
      "56\n",
      "58\n",
      "60\n",
      "62\n",
      "64\n",
      "66\n",
      "68\n",
      "70\n",
      "72\n",
      "74\n",
      "76\n",
      "78\n",
      "80\n",
      "82\n",
      "84\n",
      "86\n",
      "88\n",
      "90\n",
      "92\n",
      "94\n",
      "96\n",
      "98\n",
      "100\n"
     ]
    }
   ],
   "source": [
    "for x in range(1,101):\n",
    "    if x%2==0:\n",
    "        print(x)"
   ]
  }
 ],
 "metadata": {
  "kernelspec": {
   "display_name": "Python 3",
   "language": "python",
   "name": "python3"
  },
  "language_info": {
   "codemirror_mode": {
    "name": "ipython",
    "version": 3
   },
   "file_extension": ".py",
   "mimetype": "text/x-python",
   "name": "python",
   "nbconvert_exporter": "python",
   "pygments_lexer": "ipython3",
   "version": "3.6.8"
  }
 },
 "nbformat": 4,
 "nbformat_minor": 2
}
