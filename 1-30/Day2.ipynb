{
 "cells": [
  {
   "cell_type": "markdown",
   "metadata": {},
   "source": [
    "Exercise: **Simple Product**\n",
    "\n",
    "Read two integer values. After this, calculate the product between them and store the result in a variable named PROD. Print the result like the example below. Do not forget to print the end of line after the result, otherwise you will receive “Presentation Error”.\n",
    "\n",
    "Input:\n",
    "\n",
    "The input file contains 2 integer numbers.\n",
    "\n",
    "Output:\n",
    "\n",
    "Print PROD according to the following example, with a blank space before and after the equal signal."
   ]
  },
  {
   "cell_type": "code",
   "execution_count": 1,
   "metadata": {},
   "outputs": [
    {
     "name": "stdout",
     "output_type": "stream",
     "text": [
      "-30\n",
      "10\n",
      "PROD = -300\n"
     ]
    }
   ],
   "source": [
    "x = int(input())\n",
    "y = int(input())\n",
    "\n",
    "print(\"PROD =\",x*y)"
   ]
  },
  {
   "cell_type": "markdown",
   "metadata": {},
   "source": [
    "Exercise: **Average 1**\n",
    "\n",
    "Read two floating points' values of double precision A and B, corresponding to two student's grades. After this, calculate the student's average, considering that grade A has weight 3.5 and B has weight 7.5. Each grade can be from zero to ten, always with one digit after the decimal point. Don’t forget to print the end of line after the result, otherwise you will receive “Presentation Error”. Don’t forget the space before and after the equal sign.\n",
    "\n",
    "Input:\n",
    "\n",
    "The input file contains 2 floating points' values with one digit after the decimal point.\n",
    "\n",
    "Output:\n",
    "\n",
    "Print MEDIA(average in Portuguese) according to the following example, with 5 digits after the decimal point and with a blank space before and after the equal signal."
   ]
  },
  {
   "cell_type": "code",
   "execution_count": 2,
   "metadata": {},
   "outputs": [
    {
     "name": "stdout",
     "output_type": "stream",
     "text": [
      "7.5\n",
      "8.7\n",
      "MEDIA = 8.31818\n"
     ]
    }
   ],
   "source": [
    "gradeA = float(input())*3.5\n",
    "gradeB = float(input())*7.5\n",
    "\n",
    "print(\"MEDIA = {:.5f}\".format((gradeA+gradeB)/11))"
   ]
  },
  {
   "cell_type": "markdown",
   "metadata": {},
   "source": [
    "Exercise: **Average 2**\n",
    "\n",
    "Read three values (variables A, B and C), which are the three student's grades. Then, calculate the average, considering that grade A has weight 2, grade B has weight 3 and the grade C has weight 5. Consider that each grade can go from 0 to 10.0, always with one decimal place.\n",
    "\n",
    "Input:\n",
    "\n",
    "The input file contains 3 values of floating points with one digit after the decimal point.\n",
    "\n",
    "Output:\n",
    "\n",
    "Print MEDIA(average in Portuguese) according to the following example, with a blank space before and after the equal signal."
   ]
  },
  {
   "cell_type": "code",
   "execution_count": null,
   "metadata": {},
   "outputs": [],
   "source": [
    "A = float(input())\n",
    "B = float(input())\n",
    "C = float(input())\n",
    "\n",
    "MEDIA = (A*2+B*3+C*5)/10\n",
    "\n",
    "print(\"MEDIA =\",\"{0:.1f}\".format(MEDIA))"
   ]
  },
  {
   "cell_type": "code",
   "execution_count": null,
   "metadata": {},
   "outputs": [],
   "source": []
  }
 ],
 "metadata": {
  "kernelspec": {
   "display_name": "Python 3",
   "language": "python",
   "name": "python3"
  },
  "language_info": {
   "codemirror_mode": {
    "name": "ipython",
    "version": 3
   },
   "file_extension": ".py",
   "mimetype": "text/x-python",
   "name": "python",
   "nbconvert_exporter": "python",
   "pygments_lexer": "ipython3",
   "version": "3.6.8"
  }
 },
 "nbformat": 4,
 "nbformat_minor": 2
}
