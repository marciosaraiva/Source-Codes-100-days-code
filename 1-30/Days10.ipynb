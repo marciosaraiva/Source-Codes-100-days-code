{
 "cells": [
  {
   "cell_type": "markdown",
   "metadata": {},
   "source": [
    "Exercise: **Salary Increase**\n",
    "\n",
    "The company ABC decided to give a salary increase to its employees, according to the following table:\n",
    "\n",
    "\n",
    "Salary            | Readjustment Rate\n",
    "\n",
    "0 - 400.00        |      15% \n",
    "\n",
    "400.01 - 800.00   |      12%\n",
    "\n",
    "800.01 - 1200.00  |      10%\n",
    "\n",
    "1200.01 - 2000.00 |       7%\n",
    "\n",
    "Above 2000.00     |       4%\n",
    "\n",
    "\n",
    "Read the employees salary, calculate and print the new employee's salary, as well the money earned and the increase percentual obtained by the employee, with corresponding messages in Portuguese, as the below example.\n",
    "\n",
    "Input:\n",
    "The input contains only a floating-point number, with 2 digits after the decimal point.\n",
    "\n",
    "Output:\n",
    "Print 3 messages followed by the corresponding numbers (see example) informing the new salary, the among of money earned and the percentual obtained by the employee. Note:\n",
    "\n",
    "*Novo salario: means New Salary*\n",
    "\n",
    "*Reajuste ganho: means Money earned*\n",
    "\n",
    "*Em percentual: means In percentage*"
   ]
  },
  {
   "cell_type": "code",
   "execution_count": 1,
   "metadata": {},
   "outputs": [
    {
     "name": "stdout",
     "output_type": "stream",
     "text": [
      "850.50\n",
      "Novo salario: 935.55\n",
      "Reajuste ganho: 85.05\n",
      "Em percentual: 10 %\n"
     ]
    }
   ],
   "source": [
    "salary = float(input())\n",
    "\n",
    "if 0 <= salary <= 400:\n",
    "    new_salary = salary * 1.15\n",
    "    money_earned =  new_salary - salary\n",
    "    increase_percentual = 15\n",
    "elif 400.01 <=salary <= 800.00:\n",
    "    new_salary = salary * 1.12\n",
    "    money_earned =  new_salary - salary\n",
    "    increase_percentual = 12\n",
    "elif 800.01 <=salary<= 1200.00:\n",
    "    new_salary = salary * 1.1\n",
    "    money_earned =  new_salary - salary\n",
    "    increase_percentual = 10\n",
    "elif 1200.01 <=salary<= 2000.00:\n",
    "    new_salary = salary * 1.07\n",
    "    money_earned =  new_salary - salary\n",
    "    increase_percentual = 7\n",
    "elif salary> 2000.00:\n",
    "    new_salary = salary * 1.04\n",
    "    money_earned =  new_salary - salary\n",
    "    increase_percentual = 4\n",
    "    \n",
    "print(\"Novo salario: {:.2f}\".format(new_salary))\n",
    "print(\"Reajuste ganho: {:.2f}\".format(money_earned))\n",
    "print(\"Em percentual: {} %\".format(increase_percentual))"
   ]
  },
  {
   "cell_type": "markdown",
   "metadata": {},
   "source": [
    "Exercise: **Animal**\n",
    "\n",
    "In this problem, your job is to read three Portuguese words. These words define an animal according to the table (link: https://resources.urionlinejudge.com.br/gallery/images/problems/UOJ_1049_b.png), from left to right. After, print the chosen animal defined by these three words.\n",
    "\n",
    "Input:\n",
    "The input contains 3 words, one by line, that will be used to identify the animal, according to the above table, with all letters in lowercase.\n",
    "\n",
    "Output:\n",
    "Print the animal name according to the given input."
   ]
  },
  {
   "cell_type": "code",
   "execution_count": 2,
   "metadata": {},
   "outputs": [
    {
     "name": "stdout",
     "output_type": "stream",
     "text": [
      "vertebrado\n",
      "mamifero\n",
      "onivoro\n",
      "homem\n"
     ]
    }
   ],
   "source": [
    "w1 = input()\n",
    "w2 = input()\n",
    "w3 = input()\n",
    "\n",
    "if w1==\"vertebrado\" and w2==\"ave\" and w3 == \"carnivoro\":\n",
    "    print(\"aguia\")\n",
    "if w1 == \"vertebrado\" and w2==\"ave\" and w3 == \"onivoro\":\n",
    "    print(\"pomba\")\n",
    "if w1 == \"vertebrado\" and w2 == \"mamifero\" and w3==\"onivoro\":\n",
    "    print(\"homem\")\n",
    "if w1 == (\"vertebrado\") and w2==\"mamifero\" and w3==\"herbivoro\":\n",
    "    print(\"vaca\")\n",
    "if w1 ==\"invertebrado\" and w2==\"inseto\" and w3==\"hematofago\":\n",
    "    print(\"pulga\")\n",
    "if w1 == \"invertebrado\" and w2 == \"inseto\" and w3==\"herbivoro\":\n",
    "    print(\"lagarta\")\n",
    "if w1 == \"invertebrado\" and w2==\"anelideo\" and w3==\"hematofago\":\n",
    "    print(\"sanguessuga\")\n",
    "if w1 ==\"invertebrado\" and w2==\"anelideo\" and w3==\"onivoro\":\n",
    "    print(\"minhoca\")"
   ]
  },
  {
   "cell_type": "markdown",
   "metadata": {},
   "source": [
    "Exercise: **DDD**\n",
    "\n",
    "Read an integer number that is the code number for phone dialing. Then, print the destination according to the following table: https://resources.urionlinejudge.com.br/gallery/images/problems/UOJ_1050.png\n",
    "\n",
    "\n",
    "If the input number isn’t found in the above table, the output must be:\n",
    "DDD nao cadastrado\n",
    "That means “DDD not found” in Portuguese language.\n",
    "\n",
    "Input:\n",
    "The input consists in a unique integer number.\n",
    "\n",
    "Output:\n",
    "Print the city name corresponding to the input DDD. Print DDD nao cadastrado if doesn't exist corresponding DDD to the typed number."
   ]
  },
  {
   "cell_type": "code",
   "execution_count": 3,
   "metadata": {},
   "outputs": [
    {
     "name": "stdout",
     "output_type": "stream",
     "text": [
      "11\n",
      "Sao Paulo\n"
     ]
    }
   ],
   "source": [
    "ddd = int(input())\n",
    "\n",
    "if ddd==61:\n",
    "    print(\"Brasilia\")\n",
    "elif ddd == 71:\n",
    "    print(\"Salvador\")\n",
    "elif ddd == 11:\n",
    "    print(\"Sao Paulo\")\n",
    "elif ddd == 21:\n",
    "    print(\"Rio de Janeiro\")\n",
    "elif ddd == 32:\n",
    "    print(\"Juiz de Fora\")\n",
    "elif ddd == 19:\n",
    "    print(\"Campinas\")\n",
    "elif ddd == 27:\n",
    "    print(\"Vitoria\")\n",
    "elif ddd == 31:\n",
    "    print(\"Belo Horizonte\")\n",
    "else:\n",
    "    print(\"DDD nao cadastrado\")"
   ]
  }
 ],
 "metadata": {
  "kernelspec": {
   "display_name": "Python 3",
   "language": "python",
   "name": "python3"
  },
  "language_info": {
   "codemirror_mode": {
    "name": "ipython",
    "version": 3
   },
   "file_extension": ".py",
   "mimetype": "text/x-python",
   "name": "python",
   "nbconvert_exporter": "python",
   "pygments_lexer": "ipython3",
   "version": "3.6.8"
  }
 },
 "nbformat": 4,
 "nbformat_minor": 2
}
