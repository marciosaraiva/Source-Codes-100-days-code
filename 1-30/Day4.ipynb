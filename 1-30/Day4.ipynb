{
 "cells": [
  {
   "cell_type": "markdown",
   "metadata": {},
   "source": [
    "Exercise: **Sphere**\n",
    "\n",
    "Make a program that calculates and shows the volume of a sphere being provided the value of its radius (R) . The formula to calculate the volume is: (4/3) * pi * R3. Consider (assign) for pi the value 3.14159.\n",
    "\n",
    "Tip: Use (4/3.0) or (4.0/3) in your formula, because some languages (including C++) assume that the division's result between two integers is another integer. :)\n",
    "\n",
    "Input:\n",
    "The input contains a value of floating point (double precision).\n",
    "\n",
    "Output:\n",
    "The output must be a message \"VOLUME\" like the following example with a space before and after the equal signal. The value must be presented with 3 digits after the decimal point."
   ]
  },
  {
   "cell_type": "code",
   "execution_count": 5,
   "metadata": {},
   "outputs": [
    {
     "name": "stdout",
     "output_type": "stream",
     "text": [
      "1523\n",
      "VOLUME = 14797486501.627\n"
     ]
    }
   ],
   "source": [
    "R = float(input())\n",
    "pi = 3.14159\n",
    "print(\"VOLUME = {:.3f}\".format((4/3)*pi*R**3))"
   ]
  },
  {
   "cell_type": "markdown",
   "metadata": {},
   "source": [
    "Exercise: **Area**\n",
    "\n",
    "Make a program that reads three floating point values: A, B and C. Then, calculate and show:\n",
    "a) the area of the rectangled triangle that has base A and height C.\n",
    "b) the area of the radius's circle C. (pi = 3.14159)\n",
    "c) the area of the trapezium which has A and B by base, and C by height.\n",
    "d) the area of the square that has side B.\n",
    "e) the area of the rectangle that has sides A and B.\n",
    "\n",
    "Input:\n",
    "The input file contains three double values with one digit after the decimal point.\n",
    "\n",
    "Output:\n",
    "The output file must contain 5 lines of data. Each line corresponds to one of the areas described above, always with a corresponding message (in Portuguese) and one space between the two points and the value. The value calculated must be presented with 3 digits after the decimal point."
   ]
  },
  {
   "cell_type": "code",
   "execution_count": 11,
   "metadata": {},
   "outputs": [
    {
     "name": "stdout",
     "output_type": "stream",
     "text": [
      "12.7 10.4 15.2\n",
      "TRIANGULO: 96.520\n",
      "CIRCULO: 725.833\n",
      "TRAPEZIO: 175.560\n",
      "QUADRADO: 108.160\n",
      "RETANGULO: 132.080\n"
     ]
    }
   ],
   "source": [
    "A, B, C = map(float, input().split())\n",
    "pi = 3.14159\n",
    "\n",
    "print(\"TRIANGULO: {:.3f}\".format((A*C)/2))\n",
    "print(\"CIRCULO: {:.3f}\".format(pi*C**2))\n",
    "print(\"TRAPEZIO: {:.3f}\".format((A+B)/2*C))\n",
    "print(\"QUADRADO: {:.3f}\".format(B**2))\n",
    "print(\"RETANGULO: {:.3f}\".format(A*B))"
   ]
  },
  {
   "cell_type": "markdown",
   "metadata": {},
   "source": [
    "Exercise: **The Greatest**\n",
    "\n",
    "Make a program that reads 3 integer values and present the greatest one followed by the message \"eh o maior\". Use the following formula:\n",
    "\n",
    "MaiorAB = (a+b+abs(a-b))/2\n",
    "\n",
    "Input: The input file contains 3 integer values.\n",
    "\n",
    "Output: Print the greatest of these three values followed by a space and the message “eh o maior”."
   ]
  },
  {
   "cell_type": "code",
   "execution_count": 14,
   "metadata": {},
   "outputs": [
    {
     "name": "stdout",
     "output_type": "stream",
     "text": [
      " 217 14 6\n",
      "217 eh o maior\n"
     ]
    }
   ],
   "source": [
    "v1, v2, v3 = map(int, input().split())\n",
    "\n",
    "def maiorAB(a, b):\n",
    "    return (a+b+abs(a-b))/2\n",
    "    \n",
    "print(\"{} eh o maior\".format(int(maiorAB(maiorAB(v1,v2),v3))))"
   ]
  }
 ],
 "metadata": {
  "kernelspec": {
   "display_name": "Python 3",
   "language": "python",
   "name": "python3"
  },
  "language_info": {
   "codemirror_mode": {
    "name": "ipython",
    "version": 3
   },
   "file_extension": ".py",
   "mimetype": "text/x-python",
   "name": "python",
   "nbconvert_exporter": "python",
   "pygments_lexer": "ipython3",
   "version": "3.6.8"
  }
 },
 "nbformat": 4,
 "nbformat_minor": 2
}
