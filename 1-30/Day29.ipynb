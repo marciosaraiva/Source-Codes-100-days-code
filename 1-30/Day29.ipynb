{
 "cells": [
  {
   "cell_type": "markdown",
   "metadata": {},
   "source": [
    "**Exercise: Array fill I**\n",
    "\n",
    "Read a number and make a program which puts this number in the first position of an array N[10]. In each subsequent position, put the double of the previous position. For example, if the input number is 1, the array numbers ​​must be 1,2,4,8, and so on.\n",
    "\n",
    "**Input:**\n",
    "The input contains an integer number V (V < 50).\n",
    "\n",
    "**Output:**\n",
    "Print the stored number of each array position, in the form \"N[i] = X\", where i is the position of the array and x is the stored number at the position i. The first number for X is V."
   ]
  },
  {
   "cell_type": "code",
   "execution_count": 1,
   "metadata": {},
   "outputs": [
    {
     "name": "stdout",
     "output_type": "stream",
     "text": [
      "1\n",
      "N[0] = 1\n",
      "N[1] = 2\n",
      "N[2] = 4\n",
      "N[3] = 8\n",
      "N[4] = 16\n",
      "N[5] = 32\n",
      "N[6] = 64\n",
      "N[7] = 128\n",
      "N[8] = 256\n",
      "N[9] = 512\n"
     ]
    }
   ],
   "source": [
    "array = []\n",
    "v = int(input())\n",
    "for x in range(10):\n",
    "    array.append(v)\n",
    "    v*=2\n",
    "\n",
    "for x in range(10):\n",
    "    print(\"N[{}] = {}\".format(x,array[x]))\n"
   ]
  },
  {
   "cell_type": "markdown",
   "metadata": {},
   "source": [
    "**Exercise: Array Selection I**\n",
    "\n",
    "In this problem, your task is to read an array A[100]. At the end, print all array positions that store a number less or equal to 10 and the number stored in that position.\n",
    "\n",
    "**Input:**\n",
    "The input contains 100 numbers. Each number can be integer, floating-point number, positive or negative.\n",
    "\n",
    "**Output:**\n",
    "For each number of the array that is equal to 10 or less, print \"A [i] = x\", where i is the position of the array and x is the number stored in the position, with one digit after the decimal point."
   ]
  },
  {
   "cell_type": "code",
   "execution_count": 2,
   "metadata": {},
   "outputs": [
    {
     "name": "stdout",
     "output_type": "stream",
     "text": [
      "5\n",
      "0\n",
      "80\n",
      "10\n",
      "90\n",
      "A[0] = 5.0\n",
      "A[1] = 0.0\n",
      "A[3] = 10.0\n"
     ]
    }
   ],
   "source": [
    "array = []\n",
    "#for x in range(100):\n",
    "for x in range(5):\n",
    "    number = float(input())\n",
    "    array.append(number)\n",
    "\n",
    "#for x in range(100):\n",
    "for x in range(5):\n",
    "    if array[x]<=10:\n",
    "        print(\"A[{}] = {}\".format(x,array[x]))\n"
   ]
  },
  {
   "cell_type": "markdown",
   "metadata": {},
   "source": [
    "**Exercise: Array change I**\n",
    "\n",
    "Write a program that reads an array N [20]. After, change the first element by the last, the second element by the last but one, etc.., Up to change the 10th to the 11th. print the modified array.\n",
    "\n",
    "**Input:**\n",
    "The input contains 20 integer numbers, positive or negative.\n",
    "\n",
    "**Output:**\n",
    "For each position of the array N print \"N[i] = Y\", where i is the array position and Y is the number stored in that position."
   ]
  },
  {
   "cell_type": "code",
   "execution_count": 3,
   "metadata": {},
   "outputs": [
    {
     "name": "stdout",
     "output_type": "stream",
     "text": [
      "-5\n",
      "10\n",
      "89\n",
      "73\n",
      "-8\n",
      "8\n",
      "65\n",
      "1\n",
      "2\n",
      "3\n",
      "-7\n",
      "-8\n",
      "30\n",
      "-90\n",
      "10\n",
      "45\n",
      "56\n",
      "78\n",
      "88\n",
      "100\n",
      "N[0] = 100\n",
      "N[1] = 88\n",
      "N[2] = 78\n",
      "N[3] = 56\n",
      "N[4] = 45\n",
      "N[5] = 10\n",
      "N[6] = -90\n",
      "N[7] = 30\n",
      "N[8] = -8\n",
      "N[9] = -7\n",
      "N[10] = 3\n",
      "N[11] = 2\n",
      "N[12] = 1\n",
      "N[13] = 65\n",
      "N[14] = 8\n",
      "N[15] = -8\n",
      "N[16] = 73\n",
      "N[17] = 89\n",
      "N[18] = 10\n",
      "N[19] = -5\n"
     ]
    }
   ],
   "source": [
    "array = []\n",
    "for x in range(20):\n",
    "    number = int(input())\n",
    "    array.append(number)\n",
    "\n",
    "array.reverse()\n",
    "\n",
    "for x in range(20):\n",
    "    print(\"N[{}] = {}\".format(x,array[x]))"
   ]
  }
 ],
 "metadata": {
  "kernelspec": {
   "display_name": "Python 3",
   "language": "python",
   "name": "python3"
  },
  "language_info": {
   "codemirror_mode": {
    "name": "ipython",
    "version": 3
   },
   "file_extension": ".py",
   "mimetype": "text/x-python",
   "name": "python",
   "nbconvert_exporter": "python",
   "pygments_lexer": "ipython3",
   "version": "3.6.8"
  }
 },
 "nbformat": 4,
 "nbformat_minor": 2
}
