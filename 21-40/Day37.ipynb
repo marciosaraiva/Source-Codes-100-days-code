{
 "cells": [
  {
   "cell_type": "markdown",
   "metadata": {},
   "source": [
    "**Exercise: Ho Ho Ho**\n",
    "\n",
    "Santa Claus is playing with his elves to entertain them during the Christmas Eve. The game consists of the elves writing numbers on pieces of paper and place on the cap of Santa Claus. After all finished to put the numbers, Santa draws a number and that number is how many \"Ho\" he should say.\n",
    "\n",
    "Your job is to help Santa Claus by making a problem that shows all the \"Ho\" that he should speak given the number drawn.\n",
    "\n",
    "**Input:**\n",
    "The input consists of a single integer N (0 < N ≤ 106) representing how many \"Ho\" will be spoken by Santa.\n",
    "\n",
    "**Output:**\n",
    "The output consists of all \"Ho\" that Santa should speak separated by a space. After the last \"Ho\" you must present an \"!\" ending the program."
   ]
  },
  {
   "cell_type": "code",
   "execution_count": 1,
   "metadata": {},
   "outputs": [
    {
     "name": "stdout",
     "output_type": "stream",
     "text": [
      "5\n",
      "Ho Ho Ho Ho Ho!\n"
     ]
    }
   ],
   "source": [
    "txt = \"\"\n",
    "for x in range(int(input())-1):\n",
    "    txt+=\"Ho \"\n",
    "txt+=\"Ho!\"\n",
    "\n",
    "print(txt)"
   ]
  },
  {
   "cell_type": "markdown",
   "metadata": {},
   "source": [
    "**Exercise: The Race of Slugs**\n",
    "\n",
    "The slugs racing is a sport that has grown in recent years, causing several people dedicate their lives trying to capture fast slugs, and trains them to make millions in races around the world. But the task of capturing fast slugs is not an easy task, since almost all the slugs are very slow. Each slug is classified at a level depending on their speed:\n",
    "\n",
    "\n",
    "Level 1: If speed is less than 10 cm/h.\n",
    "Level 2: If speed is greater than or equal to 10 cm/h and lower than 20 cm/h.\n",
    "Level 3: If speed is greater than or equal to 20 cm/h.\n",
    "\n",
    "\n",
    "Your task is to identify which level of speed faster slug of a group of slugs.\n",
    "\n",
    "**Input:**\n",
    "The entry consists consists multiple test cases, and each consists of two lines: The first line contains an integer L (1 ≤ L ≤ 500) representing the number of slugs of the group, and the second line contains L integers Vi (1 ≤ Vi ≤ 50) representing the speeds of each slug.\n",
    "The input ends with end of file (EOF).\n",
    "\n",
    "**Output:**\n",
    "For each test case, output a single line with the level of speed faster slug of a group of slugs."
   ]
  },
  {
   "cell_type": "code",
   "execution_count": 2,
   "metadata": {},
   "outputs": [
    {
     "name": "stdout",
     "output_type": "stream",
     "text": [
      "10\n",
      "10 10 10 10 15 18 20 15 11 10\n",
      "3\n",
      "10\n",
      "1 5 2 9 5 5 8 4 4 3\n",
      "1\n",
      "10\n",
      "19 9 1 4 5 8 6 11 9 7\n",
      "2\n",
      "end\n"
     ]
    }
   ],
   "source": [
    "while True:\n",
    "    try:\n",
    "        number_of_slugs = int(input())\n",
    "        speeds = [int(i) for i in input().split()] \n",
    "        if max(speeds)<10:\n",
    "            print(1)\n",
    "        elif 10<=max(speeds)<20:\n",
    "            print(2)\n",
    "        elif max(speeds)>=20:\n",
    "            print(3)    \n",
    "    except:\n",
    "        break     "
   ]
  },
  {
   "cell_type": "markdown",
   "metadata": {},
   "source": [
    "**Exercise: Square Array IV**\n",
    "\n",
    "Your work in this program is to read an integer number that is the size of a square matrix (width and height) to be filled as follows: the outer part is filled with 0 in the inner part is filled with 1, the main diagonal is filled with 2, the secondary diagonal is filled with 3 and the central element is 4, as the examples below.\n",
    "\n",
    "Obs: square with '1' always starts at position size / 3, considering width and height and both begin in 0 (zero).\n",
    "\n",
    "**Input:**\n",
    "The input contains a number of test cases and ends with EOF (end of file). Each test case consists of an odd integer number N (5 ≤ N ≤ 101) that is the size of the array. For each test case, print the corresponding array as below. After each test case, print a blank line.\n",
    "\n",
    "**Output:**\n",
    "For each test case, print the corresponding array as below. After each test case, print a blank line."
   ]
  },
  {
   "cell_type": "code",
   "execution_count": 3,
   "metadata": {},
   "outputs": [
    {
     "name": "stdout",
     "output_type": "stream",
     "text": [
      "5\n",
      "20003\n",
      "01110\n",
      "01410\n",
      "01110\n",
      "30002\n",
      "\n",
      "11\n",
      "20000000003\n",
      "02000000030\n",
      "00200000300\n",
      "00011111000\n",
      "00011111000\n",
      "00011411000\n",
      "00011111000\n",
      "00011111000\n",
      "00300000200\n",
      "03000000020\n",
      "30000000002\n",
      "\n",
      "end\n"
     ]
    }
   ],
   "source": [
    "def matrix():\n",
    "    n = int(input())\n",
    "    m = list()\n",
    "    for i in range(n):\n",
    "        m.append([])\n",
    "        for j in range(n):\n",
    "            m[i].append('0')\n",
    "    return n,m\n",
    "\n",
    "    \n",
    "def diagonal(n,m):\n",
    "    for i in range(n):\n",
    "        m[i][i] = '2'\n",
    "    for i in range(n):\n",
    "        m[i][n - 1 - i] = '3'\n",
    "    return m\n",
    "\n",
    "    \n",
    "def matrix_1(n,m):\n",
    "    for i in range(n // 3,n - n // 3):\n",
    "        for j in range(n // 3,n - n // 3):\n",
    "            m[i][j] = '1'\n",
    "    return m\n",
    "\n",
    "            \n",
    "def matrix_4(n,m):\n",
    "    m[n // 2][n // 2] = '4'\n",
    "    return m\n",
    "\n",
    "\n",
    "def print_matrix(n,m):\n",
    "    for i in range(n):\n",
    "        M = ''.join(m[i])\n",
    "        print(M)\n",
    "    print()\n",
    "        \n",
    "        \n",
    "def main():\n",
    "    while True:\n",
    "        try:\n",
    "            n,m = matrix()\n",
    "            m = diagonal(n,m)\n",
    "            m = matrix_1(n,m)\n",
    "            m = matrix_4(n,m)\n",
    "            print_matrix(n,m)\n",
    "        except:\n",
    "            break\n",
    "\n",
    "main()"
   ]
  }
 ],
 "metadata": {
  "kernelspec": {
   "display_name": "Python 3",
   "language": "python",
   "name": "python3"
  },
  "language_info": {
   "codemirror_mode": {
    "name": "ipython",
    "version": 3
   },
   "file_extension": ".py",
   "mimetype": "text/x-python",
   "name": "python",
   "nbconvert_exporter": "python",
   "pygments_lexer": "ipython3",
   "version": "3.6.8"
  }
 },
 "nbformat": 4,
 "nbformat_minor": 2
}
