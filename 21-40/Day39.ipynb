{
 "cells": [
  {
   "cell_type": "markdown",
   "metadata": {},
   "source": [
    "**Exercise: Counting Crow**\n",
    "\n",
    "As we know, there's a three-eyed crow. What it isn't well known is that the three-eyed crow can foresaw the results of Westeros lottery. Meanwhile every other crow is flying collecting entries for the lottery, the three-eyed crow already knows the results, and when Bran dreams with the three-eyed crow, the crow tells him the result. Bran always remember these dreams very well, however, he can't understand them fast enough to know the result. Your task is write a program to calculate the result from Bran's dream.\n",
    "\n",
    "During the dream, the crow blinks many times and screams exactly 3 times. Every scream corresponds to a result.\n",
    "\n",
    "Every blink of the crow communicates a binary number. An open eye means 1 and a closed eye means 0. The left eye is the most significative eye and the right eye is the least significative eye. Every blink this number is added and when the crow screams, the sum is a result.\n",
    "\n",
    "**Input:**\n",
    "The input describes, in every line, in order, a scream or a blink of the crow.\n",
    "\n",
    "A scream is represented by the string caw caw.\n",
    "\n",
    "A blink is formed by three characters * ou -, representing, respectively, an open eye or a closed eye, from left to right.\n",
    "\n",
    "Remember that the crow has 3 eyes.\n",
    "\n",
    "The winning numbers at lottery do not exceed 1000.\n",
    "\n",
    "**Output:**\n",
    "The output are 3 lines, each one with one result of the lottery."
   ]
  },
  {
   "cell_type": "code",
   "execution_count": 1,
   "metadata": {},
   "outputs": [
    {
     "name": "stdout",
     "output_type": "stream",
     "text": [
      "*--\n",
      "--*\n",
      "caw caw\n",
      "5\n",
      "--*\n",
      "caw caw\n",
      "1\n",
      "---\n",
      "caw caw\n",
      "0\n"
     ]
    }
   ],
   "source": [
    "for i in range(3):\n",
    "    s = 0\n",
    "    while True:\n",
    "        p = input(\"\")\n",
    "        if p == \"caw caw\":\n",
    "            print(s)\n",
    "            break\n",
    "        s += int(''.join('1' if x == '*' else '0' for x in p), 2)"
   ]
  },
  {
   "cell_type": "markdown",
   "metadata": {},
   "source": [
    "**Exercise: Theon's Answer**\n",
    "\n",
    "Ramsay: \"(...) you win the game if you figure out who I am and why I'm torturing you.\"\n",
    "\n",
    "Theon must think quickly and guess who his torturer is! However, Ramsey already decided what he will do after Theon gives his answer.\n",
    "\n",
    "There are N people Theon may say the torturer is. Let us consider that the people are numbered from 1 to N. If Theon answers the torturer is person i, Ramsay will hit him Ti times.\n",
    "\n",
    "You task is to help Theon and determine what he should answer in order to minimize the number of times he will be hit.\n",
    "\n",
    "**Input:**\n",
    "The first line contains an integer N (1 ≤ N ≤ 100). The second line contains N integers T1, T2, ..., TN (0 ≤ Ti ≤ 20).\n",
    "\n",
    "**Output:**\n",
    "Print a single line containing the number of the person Theon must say the torturer is. If there is more than one possible answer, print the smallest one."
   ]
  },
  {
   "cell_type": "code",
   "execution_count": 2,
   "metadata": {},
   "outputs": [
    {
     "name": "stdout",
     "output_type": "stream",
     "text": [
      "3\n",
      "7 10 2\n",
      "3\n"
     ]
    }
   ],
   "source": [
    "n = int(input())\n",
    "num_times_hits = [int(h) for h in input().split()]\n",
    "torturer = min(num_times_hits)\n",
    "print(num_times_hits.index(torturer)+1)"
   ]
  },
  {
   "cell_type": "markdown",
   "metadata": {},
   "source": [
    "**Exercise: Our Days Are Never Coming Back**\n",
    "\n",
    "So, have you liked the Winter School this year? In order to make this School happen, many have worked, whether in writing the problems, in configuring the Portal, in making the arrengements for the event or in raising the funds. Our special acknowledgement this year goes to Professor Ricardo Oliveira, who has not only accepted our invitation to come and teach the workshops but has also been participating on the organisation of this School. We are sure that his experience and his career at ICPC as contestant and as coach have motived and inspired us all.\n",
    "\n",
    "We hope you have enjoyed these last days in Essos and in Westeros, we hope you have learned a lot and had fun. But it is not only in Essos and in Westeros that you should have fun. Here, in Beyond the Wall, programming is also fun. Keep studying, keep training, and more and more. What is important is the path you choose to pursue from now on. Our advice is that you should always enjoy every single moment, every workshop, every school, every training session, every time practicing or studying at home. Our days are never coming back.\n",
    "\n",
    "**Input:**\n",
    "The input consists of a single integer N (1 ≤ N ≤ 34) in a line.\n",
    "\n",
    "**Output:**\n",
    "Print the N first characters of Søren Kierkegaard's quote defined by the letters underlined in this problem statement. Be careful, for no blank space has been underlined — you are supposed to guess the number and the location of the blank spaces at the sentence. The only line of output shall consist only of capital letters and blank spaces, and shall be ended by end-of-line.\n",
    "\n"
   ]
  },
  {
   "cell_type": "code",
   "execution_count": 3,
   "metadata": {},
   "outputs": [
    {
     "name": "stdout",
     "output_type": "stream",
     "text": [
      "22\n",
      "LIFE IS NOT A PROBLEM \n"
     ]
    }
   ],
   "source": [
    "txt = list(\"LIFE IS NOT A PROBLEM TO BE SOLVED\")\n",
    "result=\"\"\n",
    "for x in range(int(input())):\n",
    "    result+=txt[x]\n",
    "print(result)"
   ]
  }
 ],
 "metadata": {
  "kernelspec": {
   "display_name": "Python 3",
   "language": "python",
   "name": "python3"
  },
  "language_info": {
   "codemirror_mode": {
    "name": "ipython",
    "version": 3
   },
   "file_extension": ".py",
   "mimetype": "text/x-python",
   "name": "python",
   "nbconvert_exporter": "python",
   "pygments_lexer": "ipython3",
   "version": "3.6.8"
  }
 },
 "nbformat": 4,
 "nbformat_minor": 2
}
