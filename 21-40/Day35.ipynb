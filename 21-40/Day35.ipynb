{
 "cells": [
  {
   "cell_type": "markdown",
   "metadata": {},
   "source": [
    "**Exercise: Square Matrix II**\n",
    "\n",
    "Write a program that read an integer number N (0 ≤ N ≤ 100) that correspont to the order of a Bidimentional array of integers, and build the Array according to the above example.\n",
    "\n",
    "**Input:**\n",
    "The input consists of several integers numbers, one per line, corresponding to orders from arrays to be built. The end of input is indicated by zero (0).\n",
    "\n",
    "**Output:**\n",
    "For each integer number of input, print the corresponding array according to the example. (the values ​​of the arrays must be formatted in a field of size 3 right justified and separated by a space. None space must be printed after the last character of each row of the array. A blank line must be printed after each array."
   ]
  },
  {
   "cell_type": "code",
   "execution_count": 3,
   "metadata": {},
   "outputs": [
    {
     "name": "stdout",
     "output_type": "stream",
     "text": [
      "1\n",
      "  1\n",
      "\n",
      "2\n",
      "  1   2\n",
      "  2   1\n",
      "\n",
      "0\n"
     ]
    }
   ],
   "source": [
    "while True:\n",
    "    N = int(input())\n",
    "\n",
    "    if (N == 0):\n",
    "        break\n",
    "\n",
    "    result =  []\n",
    "\n",
    "    for i in range(1,(N+1)):\n",
    "        tmp = []\n",
    "        count = i\n",
    "        for j in range(N):\n",
    "            tmp.append(abs(count))\n",
    "            if(count == 1):\n",
    "                count -= 3\n",
    "            else:\n",
    "                count -= 1\n",
    "        result.append(tmp)\n",
    "\n",
    "    for i in range(N):\n",
    "        tx = ''\n",
    "        for j in range(N):\n",
    "            tx += \" %3d\" %result[i][j]\n",
    "        print(tx[1:])\n",
    "    print(\"\")"
   ]
  },
  {
   "cell_type": "markdown",
   "metadata": {},
   "source": [
    "**Exercise: Array 123**\n",
    "\n",
    "Read an integer N that is the size of a bidimentional array that must be printed like the given example.\n",
    "\n",
    "**Input:**\n",
    "The input contains many test cases and ends with EOF. Each test case consist in a integer number N (3 ≤ N < 70), that indicates the size (lines and columns) of a bidimentional array that must be printed.\n",
    "\n",
    "**Output:**\n",
    "For each N read, print the output according to the given example."
   ]
  },
  {
   "cell_type": "code",
   "execution_count": 19,
   "metadata": {},
   "outputs": [
    {
     "name": "stdout",
     "output_type": "stream",
     "text": [
      "4\n",
      "1332\n",
      "3123\n",
      "3213\n",
      "2331\n",
      "5\n",
      "13332\n",
      "31323\n",
      "33233\n",
      "32313\n",
      "23331\n",
      "7\n",
      "1333332\n",
      "3133323\n",
      "3313233\n",
      "3332333\n",
      "3323133\n",
      "3233313\n",
      "2333331\n",
      "ca\n"
     ]
    }
   ],
   "source": [
    "while True:\n",
    "    try:\n",
    "        N = int(input())\n",
    "        matrix = []\n",
    "        for line in range(N):\n",
    "            matrix.append([])\n",
    "        \n",
    "        for line in range(N):\n",
    "            for column in range(N):\n",
    "                matrix[line].append(3)\n",
    "        \n",
    "        final=N-1\n",
    "        start=0\n",
    "        for line in matrix:\n",
    "            txt = \"\"\n",
    "            for position,n in enumerate(line):\n",
    "                if position == final:\n",
    "                    txt+=\"2\"\n",
    "                elif position == start:\n",
    "                    txt+=\"1\"\n",
    "                elif position != start and position!=final:\n",
    "                    txt+=str(n)\n",
    "                elif position == start and position==final:\n",
    "                    txt+=\"2\"\n",
    "            start+=1\n",
    "            final-=1\n",
    "            print(txt)\n",
    "        \n",
    "    except:\n",
    "        break"
   ]
  },
  {
   "cell_type": "markdown",
   "metadata": {},
   "source": [
    "**Exercise: Building Houses**\n",
    "\n",
    "Mr Pi is a famous constructor of Codingland. He needs your help to find out the best lands in the city to his projects.\n",
    "\n",
    "For instance, he has a project to build a house of 8 meters for 10 meters but, the city laws only allow build houses in this neighborhood, in maximum 20% of total area. All lands in this city are perfectly square. For your information the house side is showed only for you to know the house's area that will be built. (E.g: For a house with 1 meters by 10 meters, in a neighborhood that allows house use 100% of the land, Mr Pi would needed a land with 10 square meters. The land side in this case, should be 3.163 meters, that truncated it is 3). Help Mr Pi find out the ideal land for each project.\n",
    "\n",
    "**Input:**\n",
    "The input has many test cases. Each one is made by three integer numbers A, B and C (> 0 and <= 1000) separated by one blank space. This numbers are the size of the house (A and B) and the maximum percentage allowed to build in this neighborhood (C). An unique 0 (zero) value means end of inputs.\n",
    "\n",
    "**Output:**\n",
    "Should be printed an integer number, that is the size of the land. This value should be truncated.\n",
    "\n"
   ]
  },
  {
   "cell_type": "code",
   "execution_count": 37,
   "metadata": {},
   "outputs": [
    {
     "name": "stdout",
     "output_type": "stream",
     "text": [
      "1 10 100\n",
      "3\n",
      "10 3 100\n",
      "5\n",
      "0\n"
     ]
    }
   ],
   "source": [
    "import math \n",
    "while True:\n",
    "    try:\n",
    "        A, B, C = map(int, input().split())\n",
    "\n",
    "        area = A*B*100/C\n",
    "\n",
    "        print(\"%d\" %math.sqrt(area))\n",
    "        \n",
    "    except:\n",
    "        break"
   ]
  },
  {
   "cell_type": "code",
   "execution_count": null,
   "metadata": {},
   "outputs": [],
   "source": []
  }
 ],
 "metadata": {
  "kernelspec": {
   "display_name": "Python 3",
   "language": "python",
   "name": "python3"
  },
  "language_info": {
   "codemirror_mode": {
    "name": "ipython",
    "version": 3
   },
   "file_extension": ".py",
   "mimetype": "text/x-python",
   "name": "python",
   "nbconvert_exporter": "python",
   "pygments_lexer": "ipython3",
   "version": "3.6.8"
  }
 },
 "nbformat": 4,
 "nbformat_minor": 2
}
