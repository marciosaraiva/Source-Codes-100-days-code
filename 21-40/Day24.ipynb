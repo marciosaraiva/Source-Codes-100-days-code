{
 "cells": [
  {
   "cell_type": "markdown",
   "metadata": {},
   "source": [
    "**Exercise: Growing Sequences**\n",
    "\n",
    "Your program must read an integer X indefinited times (the program must stop when X is equal to zero). For each X print the sequence from 1 to X, with one space between each one of these numbers.\n",
    "\n",
    "PS: Be carefull. Don't leave any space after the last number of each line, otherwise you'll get Presentation Error.\n",
    "\n",
    "**Input:**\n",
    "The input file contains many integer numbers. The last one is zero.\n",
    "\n",
    "**Output:**\n",
    "For each number N of the input file, one output line must be printed, from 1 to N like the following example. Be careful with blank spaces after the last line number."
   ]
  },
  {
   "cell_type": "code",
   "execution_count": 1,
   "metadata": {},
   "outputs": [
    {
     "name": "stdout",
     "output_type": "stream",
     "text": [
      "5\n",
      "1 2 3 4 5\n",
      "9\n",
      "1 2 3 4 5 6 7 8 9\n",
      "0\n"
     ]
    }
   ],
   "source": [
    "x = int(input())\n",
    "while x!=0:\n",
    "    text = \"\"\n",
    "    for n in range(1,x+1):\n",
    "        text+=str(n)+\" \"\n",
    "    print(text[:-1])\n",
    "    x = int(input())"
   ]
  },
  {
   "cell_type": "markdown",
   "metadata": {},
   "source": [
    "**Exercise: Summing Consecutive Integers**\n",
    "    \n",
    "Write an algorithm to read a value A and a value N. Print the sum of N numbers from A (inclusive). While N is negative or ZERO, a new N (only N) must be read. All input values are in the same line.\n",
    "\n",
    "**Input:**\n",
    "The input contains only integer values, ​​can be positive or negative.\n",
    "\n",
    "**Output:**\n",
    "The output contains only an integer value."
   ]
  },
  {
   "cell_type": "code",
   "execution_count": 2,
   "metadata": {},
   "outputs": [
    {
     "name": "stdout",
     "output_type": "stream",
     "text": [
      "3 10\n",
      "75\n"
     ]
    }
   ],
   "source": [
    "values = input().split()\n",
    "\n",
    "a = int(values[0])\n",
    "n = int(values[1])\n",
    "position = 1\n",
    "while n <=0:\n",
    "    position +=1\n",
    "    n = int(values[position])\n",
    "\n",
    "sum_int = 0\n",
    "for number in range(a, a+n):\n",
    "    sum_int +=number\n",
    "\n",
    "print(sum_int)"
   ]
  },
  {
   "cell_type": "markdown",
   "metadata": {},
   "source": [
    "**Exercise: Exceeding Z**\n",
    "    \n",
    "Write a program that reads two integers: X and Z (Z must be read as many times as necessary, until a number greater than X is read). Count how many integers must be summed in sequence (from and including X) so that the sum exceeds Z the minimum possible and write this number. \n",
    "\n",
    "The input may have, for example, the numbers ​​21 21 15 30. In this case, the number 21 is assumed for X, The numbers 21 and 15 must be ignored because they are smaller or equal to X. The number 30 is within the specification (greater than X) and is valid. So, the final result must be 2 for this test case, because the sum (21 + 22) is bigger than 30.\n",
    "\n",
    "**Input:**\n",
    "The input contains only integer values​​, one per line, which may be positive or negative. The first number is the value of X. The next line will contain Z. If Z does not meet the specification of the problem, it should be read again, as many times as necessary.\n",
    "\n",
    "**Output:**\n",
    "Print a line with an integer number representing the among of integer numbers that must be summed."
   ]
  },
  {
   "cell_type": "code",
   "execution_count": 3,
   "metadata": {},
   "outputs": [
    {
     "name": "stdout",
     "output_type": "stream",
     "text": [
      "10\n",
      "50\n",
      "5\n"
     ]
    }
   ],
   "source": [
    "x = int(input())\n",
    "z = -1\n",
    "while z<=x:\n",
    "    z = int(input())\n",
    "\n",
    "sum_number = x\n",
    "next_number = x+1\n",
    "qtd_number = 1\n",
    "\n",
    "while sum_number<z:\n",
    "    sum_number+=next_number\n",
    "    next_number+=1\n",
    "    qtd_number+=1\n",
    "\n",
    "print(qtd_number)"
   ]
  }
 ],
 "metadata": {
  "kernelspec": {
   "display_name": "Python 3",
   "language": "python",
   "name": "python3"
  },
  "language_info": {
   "codemirror_mode": {
    "name": "ipython",
    "version": 3
   },
   "file_extension": ".py",
   "mimetype": "text/x-python",
   "name": "python",
   "nbconvert_exporter": "python",
   "pygments_lexer": "ipython3",
   "version": "3.6.8"
  }
 },
 "nbformat": 4,
 "nbformat_minor": 2
}
