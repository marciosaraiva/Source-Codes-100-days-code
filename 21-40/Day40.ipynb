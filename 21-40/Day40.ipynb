{
 "cells": [
  {
   "cell_type": "markdown",
   "metadata": {},
   "source": [
    "**Exercise: Mjölnir**\n",
    "\n",
    "Odin created to Thor the most faithful and powerful possible weapon, Mjolnir hammer. Made of a special mystical ore called Uru and forged in the heart of a star by blacksmiths Gods of Asgard , Brokk and Eitri , blacksmiths legendary.\n",
    "\n",
    "One day , Thor challenged his friends to see who could raise the Mjölnir .\n",
    "\n",
    "Write a program that , given a name , and the force in Newtons applied to try to lift the Thunder Hammer , inform the person succeeded in lifting it .\n",
    "\n",
    "**Input:**\n",
    "An integer C shall be informed , which is the amount of test cases. Each test case begins with one word , which is the first name of who is trying to raise Mjölnir , and an integer N ( 1 ≤ N ≤ 25000 ), indicating the force applied upward in Newtons to pull the hammer of so try to lift it.\n",
    "\n",
    "**Output:**\n",
    "For each test case print a 'Y' character , if the person has managed to raise or 'N' if you have not achieved ."
   ]
  },
  {
   "cell_type": "code",
   "execution_count": 1,
   "metadata": {},
   "outputs": [
    {
     "name": "stdout",
     "output_type": "stream",
     "text": [
      "4\n",
      "Hulk 5000\n",
      "N\n",
      "Tony 1000\n",
      "N\n",
      "Thor 50\n",
      "Y\n",
      "Steve 500\n",
      "N\n"
     ]
    }
   ],
   "source": [
    "for x in range(int(input())):\n",
    "    hero = input()\n",
    "    if 'Thor ' in hero:\n",
    "        print('Y')\n",
    "    else:\n",
    "        print('N')"
   ]
  },
  {
   "cell_type": "markdown",
   "metadata": {},
   "source": [
    "**Exercise: Bill**\n",
    "\n",
    "Two friends ask the attendant a snack bar propose a challenge , so that whoever hit him more , would not pay the bill. Then the following is proposed : Given the following sum below report the result , with the same number of terms : S = 1 - 1 + 1 - 1 + 1 - 1 + 1 - 1 ... Write a program that , given a number of terms, report the result of the sum above.\n",
    "\n",
    "**Input:**\n",
    "An integer C shall be informed , which is the amount of test cases. Each test case starts with an integer N ( 1 ≤ N ≤ 1000) , indicating the number of terms of the sum .\n",
    "\n",
    "**Output:**\n",
    "For each test case print a number S , which is the sum of N terms of expression."
   ]
  },
  {
   "cell_type": "code",
   "execution_count": 2,
   "metadata": {},
   "outputs": [
    {
     "name": "stdout",
     "output_type": "stream",
     "text": [
      "3\n",
      "11\n",
      "1\n",
      "7\n",
      "1\n",
      "18\n",
      "0\n"
     ]
    }
   ],
   "source": [
    "for x in range(int(input())):\n",
    "    n = int(input())\n",
    "    if n%2==0:\n",
    "        print(0)\n",
    "    else:\n",
    "        print(1)"
   ]
  },
  {
   "cell_type": "markdown",
   "metadata": {},
   "source": [
    "**Exercise: Whose Turn Is It?**\n",
    "\n",
    "Hopscotch is probably the game where townhouse's children more have fun, however the game has caused a good time for discussion and crying in children who practice it. The cause of the disorder is to decide who will be the next to jump, but recently Quico (The Genius!) had a great idea for to solve the problem. Basically the game can only to be played every two players in one turn and to choose the next player Quico indicated to use the traditional method even or odd, where both players report one number and if the sum these numbers is even, the player that choose PAR win or vice verse. However the use that method has left the Quico crazy, crazy, crazy... And for that reason he asked for your help, asked you a program that given the name of the players, their respective choices (PAR or IMPAR) and the numbers, tell who was the winner.\n",
    "\n",
    "**Input:**\n",
    "The first line of input contains a single integer QT (1 ≤ QT ≤ 100), indicating the number of following test cases. Each test case contains two lines. In first line will be told the name of the player 1 followed by his choice, “PAR” or “IMPAR”, and after the name of the player 2 followed by his choice, “PAR” or “IMPAR”. In second line of test case, contains two integer number N (1 ≤ N ≤ 10⁹) and M (1 ≤ M ≤ 10⁹), representing respectively the numbers chosen by players 1 and player 2. It it garanteed that player 1 choice's (PAR or IMPAR) will be differ from choice of player 2 (PAR or IMPAR) and that the name of the players consist only of letters and will not exceed 100 characters.\n",
    "\n",
    "**Output:**\n",
    "For each test case, print a single line containing the name of winner player."
   ]
  },
  {
   "cell_type": "code",
   "execution_count": 3,
   "metadata": {},
   "outputs": [
    {
     "name": "stdout",
     "output_type": "stream",
     "text": [
      "4\n",
      "Quico PAR Chiquinha IMPAR\n",
      "9 7\n",
      "Quico\n",
      "Dami PAR Marcus IMPAR\n",
      "12 3\n",
      "Marcus\n",
      "Dayran PAR Conrado IMPAR\n",
      "3 1000000000\n",
      "Conrado\n",
      "Popis PAR Chaves IMPAR\n",
      "2 7\n",
      "Chaves\n"
     ]
    }
   ],
   "source": [
    "for x in range(int(input())):\n",
    "    players = input().split()\n",
    "    numbers = [int(n) for n in input().split()]\n",
    "    sum_numbers = sum(numbers)\n",
    "    if sum_numbers%2==0:\n",
    "        if players[1]=='PAR':\n",
    "            print(players[0])\n",
    "        else:\n",
    "            print(players[2])\n",
    "    else:\n",
    "        if players[1]=='IMPAR':\n",
    "            print(players[0])\n",
    "        else:\n",
    "            print(players[2])"
   ]
  }
 ],
 "metadata": {
  "kernelspec": {
   "display_name": "Python 3",
   "language": "python",
   "name": "python3"
  },
  "language_info": {
   "codemirror_mode": {
    "name": "ipython",
    "version": 3
   },
   "file_extension": ".py",
   "mimetype": "text/x-python",
   "name": "python",
   "nbconvert_exporter": "python",
   "pygments_lexer": "ipython3",
   "version": "3.6.8"
  }
 },
 "nbformat": 4,
 "nbformat_minor": 2
}
