{
 "cells": [
  {
   "cell_type": "markdown",
   "metadata": {},
   "source": [
    "**Exercise: Below the Secundary Diagonal**\n",
    "\n",
    "Read an uppercase character that indicates an operation that will be performed in an array M[12][12]. Then, calculate and print the sum or average considering only that numbers that are below of the Secundary diagonal of the array, like shown in the following figure (green area).\n",
    "\n",
    "**Input:**\n",
    "The first line of the input contains a single uppercase character O ('S' or 'M'), indicating the operation Sum or Average (Média in portuguese) to be performed with the elements of the array. Follow 144 floating-point numbers of the array.\n",
    "\n",
    "**Output:**\n",
    "Print the calculated result (sum or average), with one digit after the decimal point."
   ]
  },
  {
   "cell_type": "code",
   "execution_count": 1,
   "metadata": {},
   "outputs": [
    {
     "name": "stdout",
     "output_type": "stream",
     "text": [
      "S\n",
      "1\n",
      "2\n",
      "3\n",
      "4\n",
      "5\n",
      "6\n",
      "7\n",
      "8\n",
      "9\n",
      "23.0\n"
     ]
    }
   ],
   "source": [
    "operation = input()\n",
    "result = 0\n",
    "qt_numbers = 0\n",
    "#allowed = [12]\n",
    "allowed = [2]\n",
    "numeros = []\n",
    "\n",
    "#for x in range(12):\n",
    "for x in range(3):\n",
    "    #for y in range(12):\n",
    "    for y in range(3):\n",
    "        number = float(input())\n",
    "        if x>0 and y in allowed:\n",
    "            result += number\n",
    "            qt_numbers+=1\n",
    "            numeros.append(number)\n",
    "            allowed.append(y-1)\n",
    "    \n",
    "if(operation == 'S'):\n",
    "     print(\"%.1f\" %result)\n",
    "else:\n",
    "    print(\"%.1f\" %(result/qt_numbers))"
   ]
  },
  {
   "cell_type": "markdown",
   "metadata": {},
   "source": [
    "**Exercise: Inferior Area**\n",
    "\n",
    "Read an uppercase character that indicates an operation that will be performed in an array M[12][12]. Then, calculate and print the sum or average considering only that numbers that are included in the green area of this array, like shown in the following figure.\n",
    "\n",
    "https://resources.urionlinejudge.com.br/gallery/images/problems/UOJ_1188.png\n",
    "    \n",
    "**Input:**\n",
    "The first line of the input contains a single uppercase character O ('S' or 'M'), indicating the operation Sum or Average (Média in portuguese) to be performed with the elements of the array. Follow 144 floating-point numbers (double) of the array.\n",
    "\n",
    "**Output:**\n",
    "Print the calculated result (sum or average), with one digit after the decimal point."
   ]
  },
  {
   "cell_type": "code",
   "execution_count": null,
   "metadata": {},
   "outputs": [],
   "source": [
    "matrix = []\n",
    "operation = input()\n",
    "\n",
    "for x in range(12):\n",
    "    matrix.append([])\n",
    "    for y in range(12):\n",
    "        number = float(input())\n",
    "        matrix[x].append(number)\n",
    "        \n",
    "result = 0\n",
    "qt_numbers = 0\n",
    "inf = 5\n",
    "sup = 7\n",
    "\n",
    "for i in range(7,12):\n",
    "    for j in range(inf,sup):\n",
    "        result += matrix[i][j]\n",
    "        qt_numbers += 1\n",
    "    inf -= 1\n",
    "    sup += 1\n",
    "          \n",
    "if(operation == 'S'):\n",
    "     print(\"%.1f\" %result)\n",
    "else:\n",
    "    print(\"%.1f\" %(result/qt_numbers))"
   ]
  },
  {
   "cell_type": "markdown",
   "metadata": {},
   "source": [
    "**Exercise: Top Area**\n",
    "\n",
    "Read an uppercase character that indicates an operation that will be performed in an array M[12][12]. Then, calculate and print the sum or average considering only that numbers that are included in the green area of this array, like shown in the following figure.\n",
    "\n",
    "https://resources.urionlinejudge.com.br/gallery/images/problems/UOJ_1187.png\n",
    "\n",
    "**Input:**\n",
    "The first line of the input contains a single uppercase character O ('S' or 'M'), indicating the operation Sum or Average (Média in portuguese) to be performed with the elements of the array. Follow 144 double numbers of the array.\n",
    "\n",
    "**Output:**\n",
    "Print the calculated result (sum or average), with one digit after the decimal point.\n",
    "    \n",
    "    "
   ]
  },
  {
   "cell_type": "code",
   "execution_count": null,
   "metadata": {},
   "outputs": [],
   "source": [
    "matrix = []\n",
    "operation = input()\n",
    "\n",
    "for x in range(12):\n",
    "    matrix.append([])\n",
    "    for y in range(12):\n",
    "        number = float(input())\n",
    "        matrix[x].append(number)\n",
    "        \n",
    "result = 0\n",
    "qt_numbers = 0\n",
    "inf = 1\n",
    "sup = 11\n",
    "\n",
    "for i in range(5):\n",
    "    for j in range(inf,sup):\n",
    "        result += matrix[i][j]\n",
    "        qt_numbers += 1\n",
    "    inf += 1\n",
    "    sup -= 1\n",
    "          \n",
    "if(operation == 'S'):\n",
    "     print(\"%.1f\" %result)\n",
    "else:\n",
    "    print(\"%.1f\" %(result/qt_numbers))"
   ]
  }
 ],
 "metadata": {
  "kernelspec": {
   "display_name": "Python 3",
   "language": "python",
   "name": "python3"
  },
  "language_info": {
   "codemirror_mode": {
    "name": "ipython",
    "version": 3
   },
   "file_extension": ".py",
   "mimetype": "text/x-python",
   "name": "python",
   "nbconvert_exporter": "python",
   "pygments_lexer": "ipython3",
   "version": "3.6.8"
  }
 },
 "nbformat": 4,
 "nbformat_minor": 2
}
