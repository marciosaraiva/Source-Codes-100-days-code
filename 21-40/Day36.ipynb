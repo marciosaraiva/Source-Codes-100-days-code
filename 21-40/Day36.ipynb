{
 "cells": [
  {
   "cell_type": "markdown",
   "metadata": {},
   "source": [
    "**Exercise: Square Matrix III**\n",
    "\n",
    "Write a program that read an integer number N (0 ≤ N ≤ 15) that correspont to the order of a bidimentional array of integers, and build the array according to the above example.\n",
    "\n",
    "**Input:**\n",
    "The input consists of several integers numbers, one per line, corresponding to orders from arrays to be built. The end of input is indicated by zero (0).\n",
    "\n",
    "**Output:**\n",
    "For each integer number of input, print the corresponding array according to the example. The values ​​of the array must be formatted in a field of size T right justified and separated by a space, where T is equal to the number of digits of the biggest number in the array. None space must be printed after the last character of each row of the array. A blank line must be printed after each array."
   ]
  },
  {
   "cell_type": "code",
   "execution_count": 1,
   "metadata": {},
   "outputs": [
    {
     "name": "stdout",
     "output_type": "stream",
     "text": [
      "1\n",
      "1\n",
      "\n",
      "2\n",
      "1 2\n",
      "2 4\n",
      "\n",
      "3\n",
      " 1  2  4\n",
      " 2  4  8\n",
      " 4  8 16\n",
      "\n",
      "4\n",
      " 1  2  4  8\n",
      " 2  4  8 16\n",
      " 4  8 16 32\n",
      " 8 16 32 64\n",
      "\n",
      "0\n"
     ]
    }
   ],
   "source": [
    "while True:\n",
    "    N = int(input())\n",
    "    \n",
    "    if N==0:\n",
    "        break\n",
    "    \n",
    "    matrix = []\n",
    "    for line in range(N):\n",
    "        matrix.append([])\n",
    "        \n",
    "    start = 1\n",
    "    for line in range(N):\n",
    "        aux = start\n",
    "        for column in range(N):\n",
    "            matrix[line].append(aux)\n",
    "            aux*=2\n",
    "        start*=2\n",
    "    \n",
    "    \n",
    "    T = len(str(matrix[N-1][N-1]))\n",
    "    for line in range(N):\n",
    "        for column in range(N):\n",
    "            matrix[line][column] = str(matrix[line][column])\n",
    "            while len(matrix[line][column]) < T:\n",
    "                matrix[line][column] = ' ' + matrix[line][column]\n",
    "        M = ' '.join(matrix[line]) \n",
    "        print(M)\n",
    "    print()  "
   ]
  },
  {
   "cell_type": "markdown",
   "metadata": {},
   "source": [
    "**Exercise: Brazil World Cup**\n",
    "\n",
    "Brazil is the country hosting the world cup this year. However, there are many people protesting against the government. In social networks you can see people saying the world cup will not happen.\n",
    "\n",
    "But these rumors that there will be no world cup are totally false, president Dilma Rousseff has warned: the world cup will happen, and if someone complains about it, we will host again!\n",
    "\n",
    "**Input:**\n",
    "The input contains several test cases and ends with EOF. Each test case consists of a line containing a number N of complaints about the world cup forwarded to the president (0 ≤ N ≤ 100).\n",
    "\n",
    "**Output:**\n",
    "For each test, the output consists of one line saying \"vai ter copa!\" if there is no complaints for president. If there are complaints, the output should say \"vai ter duas!\"."
   ]
  },
  {
   "cell_type": "code",
   "execution_count": 2,
   "metadata": {},
   "outputs": [
    {
     "name": "stdout",
     "output_type": "stream",
     "text": [
      "0\n",
      "vai ter copa!\n",
      "1\n",
      "vai ter duas!\n",
      "0\n",
      "vai ter copa!\n",
      "2\n",
      "vai ter duas!\n",
      "100\n",
      "vai ter duas!\n",
      "0\n",
      "vai ter copa!\n",
      "end\n"
     ]
    }
   ],
   "source": [
    "while True:\n",
    "    try:\n",
    "        if int(input())==0:\n",
    "            print('vai ter copa!')\n",
    "        else:\n",
    "            print('vai ter duas!')\n",
    "    except:\n",
    "        break"
   ]
  },
  {
   "cell_type": "markdown",
   "metadata": {},
   "source": [
    "**Exercise: Bob Conduit**\n",
    "\n",
    "You have gotten two circular energy cables. The first one has radius R1 and the second R2. You need to buy a circular conduit (see the image below) that fits those two cables:\n",
    "\n",
    "https://resources.urionlinejudge.com.br/gallery/images/problems/UOJ_1589.jpg\n",
    "\n",
    "What is the smallest radius of a conduit you need to buy? In other words, given two circles, what is the smallest radius of a third circle that circumscribe the other two?\n",
    "\n",
    "**Input:**\n",
    "In the first line there is an integer T (T ≤ 10000), indicating the number of test cases.\n",
    "On the only line of each test case we will have the two integers R1 and R2 indicating the cables radius. The integers will be positive and all the math will fit in a regular integer of 32 bits.\n",
    "\n",
    "**Output:**\n",
    "In each test case, output the answer in a single line."
   ]
  },
  {
   "cell_type": "code",
   "execution_count": 3,
   "metadata": {},
   "outputs": [
    {
     "name": "stdout",
     "output_type": "stream",
     "text": [
      "3\n",
      "1 1\n",
      "2\n",
      "2 8\n",
      "10\n",
      "8 2\n",
      "10\n"
     ]
    }
   ],
   "source": [
    "for test in range(int(input())):\n",
    "    R1, R2 = map(int, input().split())\n",
    "    print(int((R1*2+R2*2)/2))"
   ]
  }
 ],
 "metadata": {
  "kernelspec": {
   "display_name": "Python 3",
   "language": "python",
   "name": "python3"
  },
  "language_info": {
   "codemirror_mode": {
    "name": "ipython",
    "version": 3
   },
   "file_extension": ".py",
   "mimetype": "text/x-python",
   "name": "python",
   "nbconvert_exporter": "python",
   "pygments_lexer": "ipython3",
   "version": "3.6.8"
  }
 },
 "nbformat": 4,
 "nbformat_minor": 2
}
