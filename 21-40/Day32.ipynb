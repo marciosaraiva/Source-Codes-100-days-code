{
 "cells": [
  {
   "cell_type": "markdown",
   "metadata": {},
   "source": [
    "**Exercise: Above the Main Diagonal**\n",
    "\n",
    "Read an uppercase character that indicates an operation that will be performed in an array M[12][12]. Then, calculate and print the sum or average considering only that numbers that are above the main diagonal of the array, like shown in the following figure (green area).\n",
    "\n",
    "https://resources.urionlinejudge.com.br/gallery/images/problems/UOJ_1183.png\n",
    "\n",
    "**Input:**\n",
    "The first line of the input contains a single uppercase character O ('S' or 'M'), indicating the operation Sum or Average (Média in portuguese) to be performed with the elements of the array. Follow 144 floating-point numbers of the array.\n",
    "\n",
    "**Output:**\n",
    "Print the calculated result (sum or average), with one digit after the decimal point."
   ]
  },
  {
   "cell_type": "code",
   "execution_count": 1,
   "metadata": {
    "scrolled": true
   },
   "outputs": [
    {
     "name": "stdout",
     "output_type": "stream",
     "text": [
      "S\n",
      "1\n",
      "2\n",
      "3\n",
      "4\n",
      "5\n",
      "6\n",
      "7\n",
      "8\n",
      "9\n",
      "11.0\n"
     ]
    }
   ],
   "source": [
    "operation = input()\n",
    "result = 0\n",
    "qt_numbers = 0\n",
    "\n",
    "#for x in range(12):\n",
    "for x in range(3):\n",
    "    #for y in range(12):\n",
    "    for y in range(3):\n",
    "        number = float(input())\n",
    "        if (x < y):\n",
    "            result += number\n",
    "            qt_numbers+=1\n",
    "    \n",
    "if(operation == 'S'):\n",
    "     print(\"%.1f\" %result)\n",
    "else:\n",
    "    print(\"%.1f\" %(result/qt_numbers))"
   ]
  },
  {
   "cell_type": "markdown",
   "metadata": {},
   "source": [
    "**Exercise: Below the Main Diagonal**\n",
    "\n",
    "Read an uppercase character that indicates an operation that will be performed in an array M[12][12]. Then, calculate and print the sum or average considering only that numbers that are below of the main diagonal of the array, like shown in the following figure (green area).\n",
    "\n",
    "https://resources.urionlinejudge.com.br/gallery/images/problems/UOJ_1184.png\n",
    "\n",
    "**Input:**\n",
    "The first line of the input contains a single uppercase character O ('S' or 'M'), indicating the operation Sum or Average (Média in portuguese) to be performed with the elements of the array. Follow 144 floating-point numbers of the array.\n",
    "\n",
    "**Output:**\n",
    "Print the calculated result (sum or average), with one digit after the decimal point."
   ]
  },
  {
   "cell_type": "code",
   "execution_count": 2,
   "metadata": {},
   "outputs": [
    {
     "name": "stdout",
     "output_type": "stream",
     "text": [
      "M\n",
      "1\n",
      "2\n",
      "3\n",
      "4\n",
      "5\n",
      "6\n",
      "7\n",
      "8\n",
      "9\n",
      "6.3\n"
     ]
    }
   ],
   "source": [
    "operation = input()\n",
    "result = 0\n",
    "qt_numbers = 0\n",
    "\n",
    "#for x in range(12):\n",
    "for x in range(3):\n",
    "    #for y in range(12):\n",
    "    for y in range(3):\n",
    "        number = float(input())\n",
    "        if (y < x):\n",
    "            result += number\n",
    "            qt_numbers+=1\n",
    "    \n",
    "if(operation == 'S'):\n",
    "     print(\"%.1f\" %result)\n",
    "else:\n",
    "    print(\"%.1f\" %(result/qt_numbers))"
   ]
  },
  {
   "cell_type": "markdown",
   "metadata": {},
   "source": [
    "**Exercise: Above the Secundary Diagonal**\n",
    "\n",
    "Read an uppercase character that indicates an operation that will be performed in an array M[12][12]. Then, calculate and print the sum or average considering only that numbers that are above the secundary diagonal of the array, like shown in the following figure (green area).\n",
    "\n",
    "https://resources.urionlinejudge.com.br/gallery/images/problems/UOJ_1185.png\n",
    "\n",
    "**Input:**\n",
    "The first line of the input contains a single uppercase character O ('S' or 'M'), indicating the operation Sum or Average (Média in portuguese) to be performed with the elements of the array. Follow 144 floating-point numbers of the array.\n",
    "\n",
    "**Output:**\n",
    "Print the calculated result (sum or average), with one digit after the decimal point.\n",
    "\n"
   ]
  },
  {
   "cell_type": "code",
   "execution_count": 3,
   "metadata": {},
   "outputs": [
    {
     "name": "stdout",
     "output_type": "stream",
     "text": [
      "S\n",
      "1\n",
      "2\n",
      "3\n",
      "4\n",
      "5\n",
      "6\n",
      "7\n",
      "8\n",
      "9\n",
      "7.0\n"
     ]
    }
   ],
   "source": [
    "operation = input()\n",
    "result = 0\n",
    "qt_numbers = 0\n",
    "#max_column = 11\n",
    "max_column = 2\n",
    "numeros = []\n",
    "\n",
    "#for x in range(12):\n",
    "for x in range(3):\n",
    "    #for y in range(12):\n",
    "    for y in range(3):\n",
    "        number = float(input())\n",
    "        if (y < max_column):\n",
    "            result += number\n",
    "            qt_numbers+=1\n",
    "    max_column-=1\n",
    "    \n",
    "if(operation == 'S'):\n",
    "     print(\"%.1f\" %result)\n",
    "else:\n",
    "    print(\"%.1f\" %(result/qt_numbers))"
   ]
  }
 ],
 "metadata": {
  "kernelspec": {
   "display_name": "Python 3",
   "language": "python",
   "name": "python3"
  },
  "language_info": {
   "codemirror_mode": {
    "name": "ipython",
    "version": 3
   },
   "file_extension": ".py",
   "mimetype": "text/x-python",
   "name": "python",
   "nbconvert_exporter": "python",
   "pygments_lexer": "ipython3",
   "version": "3.6.8"
  }
 },
 "nbformat": 4,
 "nbformat_minor": 2
}
