{
 "cells": [
  {
   "cell_type": "markdown",
   "metadata": {},
   "source": [
    "**Exercise: Bazinga!**\n",
    "\n",
    "In the 8th episode of Big Bang Theory's second season, The Lizard-Spock Expansion, Sheldon and Raj are arguing about what is the best: the movie Saturn 3 or the TV show Deep Space 9. Raj suggests rock-paper-scissors to settle down the dispute. However, Sheldon says \"Ooh, I don't think so. No, anectodal evidence suggests that in the game of rock-paper-scissors, players familiar with each other will tie 75 to 80% of the time due to the limited number of outcomes. I suggest rock-paper-scissors-lizard-Spock\".\n",
    "\n",
    "The rules of the game are:\n",
    "\n",
    "scissors cuts paper;\n",
    "\n",
    "paper covers rock;\n",
    "\n",
    "rock crushes lizard;\n",
    "\n",
    "lizard poisons Spock;\n",
    "\n",
    "Spock smashes scissors;\n",
    "\n",
    "scissors decapitates lizard;\n",
    "\n",
    "lizard eats paper;\n",
    "\n",
    "paper disproves Spock;\n",
    "\n",
    "Spock vaporizes rock;\n",
    "\n",
    "rock crushes scissors.\n",
    "\n",
    "Both choosed Spock and the game tied. However, it isn't hard to realize what would happened if the game had continued. In the case of Sheldon's victory, he would've said: \"Bazinga!\"; if Raj had won, Sheldon would declare: \"Raj trapaceou!\" (\"Raj cheated\" in portuguese); in ties, he would request a new game: \"De novo!\" (\"Again!\", in portuguese). Given the options chosen by both, make a program that prints Sheldon reaction to the outcome.\n",
    "\n",
    "**Input:**\n",
    "The first line contains an integer T (T ≤ 100) indicating the number of test cases. Each test case is described using one line. The line contains Sheldon and Raj options, separated by one blank space. The possible options are: pedra, papel, tesoura, lagarto e Spock (rock, paper, scissors, lizard and Spock).\n",
    "\n",
    "**Output:**\n",
    "For each test case your program must output a single line with the following message: \"Caso #t: R\", where t is the test case number and R is Sheldon's reaction to the outcome: \"Bazinga!\", \"Raj trapaceou!\", or \"De novo!\"."
   ]
  },
  {
   "cell_type": "code",
   "execution_count": 1,
   "metadata": {},
   "outputs": [
    {
     "name": "stdout",
     "output_type": "stream",
     "text": [
      "3\n",
      "lagarto Spock\n",
      "Caso #1: Bazinga!\n",
      "papel tesoura\n",
      "Caso #2: Raj trapaceou!\n",
      "pedra pedra\n",
      "Caso #3: De novo!\n"
     ]
    }
   ],
   "source": [
    "for i in range(int(input())):\n",
    "    sheldon, raj = input().split()\n",
    "\n",
    "    if sheldon == raj:\n",
    "        win = \"De novo!\"\n",
    "    elif sheldon == \"pedra\":\n",
    "        if raj == \"tesoura\" or raj == \"lagarto\":\n",
    "            win = sheldon\n",
    "        else:\n",
    "            win = raj\n",
    "    elif sheldon == \"papel\":\n",
    "        if raj == \"pedra\" or raj == \"Spock\":\n",
    "            win = sheldon\n",
    "        else:\n",
    "            win = raj\n",
    "    elif sheldon == \"tesoura\":\n",
    "        if raj == \"lagarto\" or raj == \"papel\":\n",
    "            win = sheldon\n",
    "        else:\n",
    "            win = raj\n",
    "    elif sheldon == \"lagarto\":\n",
    "        if raj == \"Spock\" or raj == \"papel\":\n",
    "            win = sheldon\n",
    "        else:\n",
    "            win = raj\n",
    "    elif sheldon == \"Spock\":\n",
    "        if raj == \"tesoura\" or raj == \"pedra\":\n",
    "            win = sheldon\n",
    "        else:\n",
    "            win = raj\n",
    "    if win == sheldon:\n",
    "        win = \"Bazinga!\"\n",
    "    elif win == raj:\n",
    "        win = \"Raj trapaceou!\"\n",
    "        \n",
    "    print(\"Caso #{}:\".format(i+1),win)"
   ]
  },
  {
   "cell_type": "markdown",
   "metadata": {},
   "source": [
    "**Exercise: Preface**\n",
    "\n",
    "It has begun the IV UFFS Programming Contest! We hope you enjoy the next hours you are going to spend with us, as we hope you have a lot of fun! Good luck!\n",
    "\n",
    "This is the 3rd year of the Programming Club, an extension program whose primary goal is to help the programmers of the Brazilian region known as Southern Border to get readier to face the computational challenges from both academic and corporate worlds. Our main strategy lies in promoting workshops and training sessions for Programming contests, not only for students of our institution (UFFS), but also for whoever wants to participate. Despite of many issues, we find ourselves very happy with the results we have been achieving. Having other institutions as partners, as UNOCHAPECÓ, URI and UNOESC, we collaborated to make Chapecó in the past two years the 2nd largest site of ICPC Brazilian Subregional Contest, which is another indicator of the enthusiasm our people has in Programming.\n",
    "\n",
    "In order to warm you up for this particular contest, we shall ask you to write a program which calculates the quotient and the remainder of the division of two integers, can that be? Recall that the quotient and the remainder of the division of an integer a by a non-zero integer b are respectively the only integers q and r such that 0 ≤ r < |b| and:\n",
    "\n",
    "a = b × q + r\n",
    "\n",
    "In case you don't know it, the theorem that guarantees the existence and the uniqueness of the integers q and r is known as ‘Euclidean Division Theorem’ or ‘Division Algorithm’.\n",
    "\n",
    "**Input:**\n",
    "The input consists of two integers a and b (-1,000 ≤ a, b < 1,000).\n",
    "\n",
    "**Output:**\n",
    "Print the quotient q followed by the remainder r of the division of a by b.\n",
    "\n"
   ]
  },
  {
   "cell_type": "code",
   "execution_count": 2,
   "metadata": {},
   "outputs": [
    {
     "name": "stdout",
     "output_type": "stream",
     "text": [
      "7 3\n",
      "2 1\n"
     ]
    }
   ],
   "source": [
    "a, b = map(int, input().split())\n",
    "\n",
    "for r in range(abs(b)):\n",
    "    if ((a - r) % b) == 0:\n",
    "        q = int((a - r)/b)\n",
    "        break\n",
    "        \n",
    "print(q, r)"
   ]
  },
  {
   "cell_type": "markdown",
   "metadata": {},
   "source": [
    "**Exercise: Welcome to the Winter!**\n",
    "\n",
    "Welcome to the Erechim Winter School of the ICPC Brazilian Subregional Contest! We sincerely hope you learn a lot during these days so you can be very successful in the Programming contests yet to come, but above all we hope you enjoy the School, for when we have fun and enjoy ourselves studying and programming, the training stops being a burden and becomes a hobby. So, have fun!\n",
    "\n",
    "The winter is a wonderful season, is it not? We all love wearing a poncho, joining a chimarrão circle, baking pinhões in a wooden burning stove… But not everyone likes the winter, especially in places where winter uses to be very cruel. In Westeros, for example, the people's humour is defined according to climate tendencies. Based on the temperatures of the last three days, the people can be sad or happy, being more likely to make war or to make love, respectively. And, let us be honest, it is precisely because of the scenes of love and war that we love Game of Thrones!\n",
    "\n",
    "<ul>\n",
    "<li>If the temperature decreased from the 1st to the 2nd day, but increased or remained constant from the 2nd to the 3rd, the people are happy (first figure).</li>\n",
    "        \n",
    "<li>If the temperature increased from the 1st to the 2nd day, but decreased or remained constant from the 2nd to the 3rd, the people are sad (second figure).</li>\n",
    "\n",
    "<li>If the temperature increased from the 1st to the 2nd day and from the 2nd to the 3rd, but increased from the 2nd to the 3rd less than what had increased from the 1st to the 2nd, the people are sad (third figure).</li>\n",
    "\n",
    "<li>If the temperature increased from the 1st to the 2nd day and from the 2nd to the 3rd, but increased from the 2nd to the 3rd at least what had increased from the 1st to the 2nd, the people are happy (fourth figure).\n",
    "</li>\n",
    "\n",
    "<li>If the temperature decreased from the 1st to the 2nd day and from the 2nd to the 3rd, but decreased from the 2nd to the 3rd less than what had decreased from the 1st to the 2nd, the people are happy (fifth figure).\n",
    "</li>\n",
    "\n",
    "<li>If the temperature decreased from the 1st to the 2nd day and from the 2nd to the 3rd, but decreased from the 2nd to the 3rd at least what had decreased from the 1st to the 2nd, the people are sad (sixth figure).</li>\n",
    "\n",
    "<li>If the temperature remained constant from the 1st to the 2nd day, the people are happy if the temperature increased from the 2nd to the 3rd or sad otherwise (respectively, seventh and eighth figures).\n",
    "</li>\n",
    "</ul>\n",
    "\n",
    "https://resources.urionlinejudge.com.br/gallery/images/problems/UOJ_1847.jpg\n",
    "\n",
    "**Input:**\n",
    "The input consists only of three integers, A, B e C (-100 ≤ A, B, C ≤ 100), which represent respectively the temperatures recorded in the 1st, in the 2nd and in the 3rd day.\n",
    "\n",
    "**Output:**\n",
    "Print a line containing a happy or a sad smiley, representing how is the humour of the people of Westeros according to the climate tendencies."
   ]
  },
  {
   "cell_type": "code",
   "execution_count": 3,
   "metadata": {},
   "outputs": [
    {
     "name": "stdout",
     "output_type": "stream",
     "text": [
      "10 20 25\n",
      ":(\n"
     ]
    }
   ],
   "source": [
    "A,B,C = map(int, input().split())\n",
    "\n",
    "if A > B and B <= C:\n",
    "    print(\":)\")\n",
    "elif A < B and B >= C:\n",
    "    print(\":(\")\n",
    "elif A < B and B < C and (B - A) > (C - B):\n",
    "    print(\":(\")\n",
    "elif A < B and B < C and (B - A) <= (C - B):\n",
    "    print(\":)\")\n",
    "elif A > B and B > C and (A - B)>(B - C):\n",
    "    print(\":)\")\n",
    "elif A > B and B > C and (A - B) <= (B - C):\n",
    "    print(\":(\")\n",
    "elif A == B and B > C:\n",
    "    print(\":(\")\n",
    "elif A == B and C > B:\n",
    "    print(\":)\")\n",
    "else:\n",
    "    print(\":(\")"
   ]
  }
 ],
 "metadata": {
  "kernelspec": {
   "display_name": "Python 3",
   "language": "python",
   "name": "python3"
  },
  "language_info": {
   "codemirror_mode": {
    "name": "ipython",
    "version": 3
   },
   "file_extension": ".py",
   "mimetype": "text/x-python",
   "name": "python",
   "nbconvert_exporter": "python",
   "pygments_lexer": "ipython3",
   "version": "3.6.8"
  }
 },
 "nbformat": 4,
 "nbformat_minor": 2
}
