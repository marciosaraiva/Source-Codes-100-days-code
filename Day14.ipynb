{
 "cells": [
  {
   "cell_type": "markdown",
   "metadata": {},
   "source": [
    "Exercise: **Six Odd Numbers**\n",
    "\n",
    "Read an integer value X and print the 6 consecutive odd numbers from X, a value per line, including X if it is the case.\n",
    "\n",
    "**Input:**\n",
    "The input will be a positive integer value.\n",
    "\n",
    "**Output:**\n",
    "The output will be a sequence of six odd numbers."
   ]
  },
  {
   "cell_type": "code",
   "execution_count": 1,
   "metadata": {},
   "outputs": [
    {
     "name": "stdout",
     "output_type": "stream",
     "text": [
      "3\n",
      "5\n",
      "7\n",
      "9\n",
      "11\n",
      "13\n",
      "15\n"
     ]
    }
   ],
   "source": [
    "x = int(input())\n",
    "for n in range(x+1,x+13):\n",
    "    if n%2!=0:\n",
    "        print(n)    "
   ]
  },
  {
   "cell_type": "markdown",
   "metadata": {},
   "source": [
    "Exercise: **Sum of Consecutive Odd Numbers I**\n",
    "\n",
    "Read two integer values X and Y. Print the sum of all odd values between them.\n",
    "\n",
    "**Input:**\n",
    "The input file contain two integer values.\n",
    "\n",
    "**Output:**\n",
    "The program must print an integer number. This number is the sum off all odd values between both input values that must fit in an integer number."
   ]
  },
  {
   "cell_type": "code",
   "execution_count": 2,
   "metadata": {},
   "outputs": [
    {
     "name": "stdout",
     "output_type": "stream",
     "text": [
      "6\n",
      "-5\n",
      "5\n"
     ]
    }
   ],
   "source": [
    "x = int(input())\n",
    "y = int(input())\n",
    "\n",
    "sum=0\n",
    "\n",
    "if x>y:\n",
    "    n=y\n",
    "    while n<x-1:\n",
    "        n+=1 \n",
    "        if n%2!=0:\n",
    "            sum+=n\n",
    "else:\n",
    "    n=x\n",
    "    while n<y-1: \n",
    "        n+=1\n",
    "        if n%2!=0:\n",
    "            sum+=n    \n",
    "                     \n",
    "print(sum)"
   ]
  },
  {
   "cell_type": "markdown",
   "metadata": {},
   "source": [
    "Exercise: **Interval 2**\n",
    "\n",
    "Read an integer N. This N will be the number of integer numbers X that will be read.\n",
    "\n",
    "Print how many these numbers X are in the interval [10,20] and how many values are out of this interval.\n",
    " \n",
    "**Input:**\n",
    "The first line of input is an integer N (N < 10000), that indicates the total number of test cases.\n",
    "Each case is an integer number X (-107 < X < 107).\n",
    "\n",
    "**Output:**\n",
    "For each test case, print how many numbers are in and how many values are out of the interval."
   ]
  },
  {
   "cell_type": "code",
   "execution_count": 3,
   "metadata": {},
   "outputs": [
    {
     "name": "stdout",
     "output_type": "stream",
     "text": [
      "4\n",
      "14\n",
      "12\n",
      "10\n",
      "-7\n",
      "3 in\n",
      "1 out\n"
     ]
    }
   ],
   "source": [
    "count_in = 0\n",
    "count_out =0\n",
    "\n",
    "for x in range(int(input())):\n",
    "    n = int(input())\n",
    "    if 10<=n<=20:\n",
    "        count_in+=1\n",
    "    else:\n",
    "        count_out+=1\n",
    "        \n",
    "print(count_in, \"in\")\n",
    "print(count_out, \"out\")"
   ]
  }
 ],
 "metadata": {
  "kernelspec": {
   "display_name": "Python 3",
   "language": "python",
   "name": "python3"
  },
  "language_info": {
   "codemirror_mode": {
    "name": "ipython",
    "version": 3
   },
   "file_extension": ".py",
   "mimetype": "text/x-python",
   "name": "python",
   "nbconvert_exporter": "python",
   "pygments_lexer": "ipython3",
   "version": "3.6.8"
  }
 },
 "nbformat": 4,
 "nbformat_minor": 2
}
