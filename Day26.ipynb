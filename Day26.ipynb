{
 "cells": [
  {
   "cell_type": "markdown",
   "metadata": {},
   "source": [
    "**Exercise: S Sequence**\n",
    "\n",
    "Write an algorithm to calculate and write the value of S, S being given by:\n",
    "S = 1 + 1/2 + 1/3 + … + 1/100\n",
    "\n",
    "**Input:**\n",
    "There is no input in this problem.\n",
    "\n",
    "**Output:**\n",
    "The output contains a value corresponding to the value of S.\n",
    "The value should be printed with two digits after the decimal point."
   ]
  },
  {
   "cell_type": "code",
   "execution_count": 1,
   "metadata": {},
   "outputs": [
    {
     "name": "stdout",
     "output_type": "stream",
     "text": [
      "5.19\n"
     ]
    }
   ],
   "source": [
    "s = 1\n",
    "for x in range(2, 101):\n",
    "    s+=1/x\n",
    "print(\"{:.2f}\".format(s))"
   ]
  },
  {
   "cell_type": "markdown",
   "metadata": {},
   "source": [
    "**Exercise:S Sequence II**\n",
    "\n",
    "Write an algorithm to calculate and write the value of S, S being given by:\n",
    "S = 1 + 3/2 + 5/4 + 7/8 + ... + 39/?\n",
    "\n",
    "**Input:**\n",
    "There is no input in this problem.\n",
    "\n",
    "**Output:**\n",
    "The output contains a value corresponding to the value of S.\n",
    "The value should be printed with two digits after the decimal point."
   ]
  },
  {
   "cell_type": "code",
   "execution_count": 2,
   "metadata": {},
   "outputs": [
    {
     "name": "stdout",
     "output_type": "stream",
     "text": [
      "6.00\n"
     ]
    }
   ],
   "source": [
    "s = 1\n",
    "x = 3\n",
    "y = 2\n",
    "while x<40:\n",
    "    s+=x/y\n",
    "    x+=2\n",
    "    y*=2\n",
    "print(\"{:.2f}\".format(s))"
   ]
  },
  {
   "cell_type": "markdown",
   "metadata": {},
   "source": [
    "**Exercise:Divisors I**\n",
    "\n",
    "Read an integer N and compute all its divisors.\n",
    "\n",
    "**Input:**\n",
    "The input file contains an integer value.\n",
    "\n",
    "**Output**:\n",
    "Write all positive divisors of N, one value per line."
   ]
  },
  {
   "cell_type": "code",
   "execution_count": 3,
   "metadata": {},
   "outputs": [
    {
     "name": "stdout",
     "output_type": "stream",
     "text": [
      "6\n",
      "1\n",
      "2\n",
      "3\n",
      "6\n"
     ]
    }
   ],
   "source": [
    "n = int(input())\n",
    "for x in range(1,n+1):\n",
    "    if n%x==0:\n",
    "        print(x)"
   ]
  }
 ],
 "metadata": {
  "kernelspec": {
   "display_name": "Python 3",
   "language": "python",
   "name": "python3"
  },
  "language_info": {
   "codemirror_mode": {
    "name": "ipython",
    "version": 3
   },
   "file_extension": ".py",
   "mimetype": "text/x-python",
   "name": "python",
   "nbconvert_exporter": "python",
   "pygments_lexer": "ipython3",
   "version": "3.6.8"
  }
 },
 "nbformat": 4,
 "nbformat_minor": 2
}
