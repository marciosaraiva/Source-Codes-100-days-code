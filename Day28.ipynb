{
 "cells": [
  {
   "cell_type": "markdown",
   "metadata": {},
   "source": [
    "**Exercise: Perfect Number**\n",
    "\n",
    "In mathematics, a perfect number is an integer for which the sum of all its own positive divisors (excluding itself) is equal to the number itself. For example the number 6 is perfect, because 1+2+3 is equal to 6. Your task is to write a program that read integer numbers and print a message informing if these numbers are perfect or are not perfect.\n",
    "\n",
    "**Input:**\n",
    "The input contains several test cases. The first contains the number of test cases N (1 ≤ N ≤ 100). Each one of the following N lines contains an integer X (1 ≤ X ≤ 108), that can be or not a perfect number.\n",
    "\n",
    "**Output:**\n",
    "For each test case print the message “X eh perfeito” (X is perfect) or “X nao eh perfeito” (X isn't perfect) according with to above specification."
   ]
  },
  {
   "cell_type": "code",
   "execution_count": 1,
   "metadata": {},
   "outputs": [
    {
     "name": "stdout",
     "output_type": "stream",
     "text": [
      "3\n",
      "6\n",
      "6 eh perfeito\n",
      "5\n",
      "5 nao eh perfeito\n",
      "28\n",
      "28 eh perfeito\n"
     ]
    }
   ],
   "source": [
    "def is_perfect(number):\n",
    "    sum_divisors = 0\n",
    "    for n in range(1,number):\n",
    "        if number%n==0:\n",
    "            sum_divisors+=n\n",
    "    if sum_divisors==number:\n",
    "        return True\n",
    "    else:\n",
    "        return False\n",
    "    \n",
    "for test in range(int(input())):\n",
    "    x = int(input())\n",
    "    if is_perfect(x):\n",
    "        print(x, \"eh perfeito\")\n",
    "    else:\n",
    "        print(x, \"nao eh perfeito\")"
   ]
  },
  {
   "cell_type": "markdown",
   "metadata": {},
   "source": [
    "**Exercise: Prime Number**\n",
    "\n",
    "A Prime Number is a number that is divisible only by 1 (one) and by itself. For example the number 7 is Prime, because it can be divided only by 1 and by 7.\n",
    "\n",
    "**Input:**\n",
    "The input contains several test cases. The first contains the number of test cases N (1 ≤ N ≤ 100). Each one of the following N lines contains an integer X (1 < X ≤ 107), that can be or not a prime number.\n",
    "\n",
    "**Output:**\n",
    "For each test case print the message “X eh primo” (X is prime) or “X nao eh primo” (X isn't prime) according with to above specification."
   ]
  },
  {
   "cell_type": "code",
   "execution_count": 2,
   "metadata": {},
   "outputs": [
    {
     "name": "stdout",
     "output_type": "stream",
     "text": [
      "3\n",
      "8\n",
      "8 nao eh primo\n",
      "51\n",
      "51 nao eh primo\n",
      "7\n",
      "7 eh primo\n"
     ]
    }
   ],
   "source": [
    "def is_prime(number):\n",
    "    for n in range(1,number):\n",
    "        if number%n==0 and n!=1 and n!=number:\n",
    "            return False\n",
    "    return True\n",
    "    \n",
    "for test in range(int(input())):\n",
    "    x = int(input())\n",
    "    if is_prime(x):\n",
    "        print(x, \"eh primo\")\n",
    "    else:\n",
    "        print(x, \"nao eh primo\")"
   ]
  },
  {
   "cell_type": "markdown",
   "metadata": {},
   "source": [
    "**Exercise:Array Replacement I**\n",
    "\n",
    "Read an array X[10]. After, replace every null or negative number of X ​by 1. Print all numbers stored in the array X.\n",
    "\n",
    "**Input:**\n",
    "The input contains 10 integer numbers. These numbers ​​can be positive or negative.\n",
    "\n",
    "**Output:**\n",
    "For each position of the array, print \"X [i] = x\", where i is the position of the array and x is the number stored in that position."
   ]
  },
  {
   "cell_type": "code",
   "execution_count": 3,
   "metadata": {},
   "outputs": [
    {
     "name": "stdout",
     "output_type": "stream",
     "text": [
      "0\n",
      "-5\n",
      "63\n",
      "0\n",
      "-8\n",
      "78\n",
      "56\n",
      "99\n",
      "-7\n",
      "0\n",
      "X[0] = 1\n",
      "X[1] = 1\n",
      "X[2] = 63\n",
      "X[3] = 1\n",
      "X[4] = 1\n",
      "X[5] = 78\n",
      "X[6] = 56\n",
      "X[7] = 99\n",
      "X[8] = 1\n",
      "X[9] = 1\n"
     ]
    }
   ],
   "source": [
    "array = []\n",
    "for x in range(10):\n",
    "    number = int(input())\n",
    "    if number<=0:\n",
    "        array.append(1)\n",
    "    else:\n",
    "        array.append(number)\n",
    "\n",
    "for x in range(10):\n",
    "    print(\"X[{}] = {}\".format(x, array[x]))"
   ]
  },
  {
   "cell_type": "code",
   "execution_count": null,
   "metadata": {},
   "outputs": [],
   "source": []
  }
 ],
 "metadata": {
  "kernelspec": {
   "display_name": "Python 3",
   "language": "python",
   "name": "python3"
  },
  "language_info": {
   "codemirror_mode": {
    "name": "ipython",
    "version": 3
   },
   "file_extension": ".py",
   "mimetype": "text/x-python",
   "name": "python",
   "nbconvert_exporter": "python",
   "pygments_lexer": "ipython3",
   "version": "3.6.8"
  }
 },
 "nbformat": 4,
 "nbformat_minor": 2
}
