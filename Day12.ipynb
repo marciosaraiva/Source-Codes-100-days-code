{
 "cells": [
  {
   "cell_type": "markdown",
   "metadata": {},
   "source": [
    "Exercise: **Positive Numbers**\n",
    "\n",
    "Write a program that reads 6 numbers. These numbers will only be positive or negative (disregard null values). Print the total number of positive numbers.\n",
    "\n",
    "**Input:**\n",
    "Six numbers, positive and/or negative.\n",
    "\n",
    "**Output:**\n",
    "Print a message with the total number of positive numbers."
   ]
  },
  {
   "cell_type": "code",
   "execution_count": 1,
   "metadata": {},
   "outputs": [
    {
     "name": "stdout",
     "output_type": "stream",
     "text": [
      "1\n",
      "2\n",
      "3\n",
      "-3\n",
      "-2\n",
      "-1\n",
      "3 valores positivos\n"
     ]
    }
   ],
   "source": [
    "count = 0\n",
    "\n",
    "for i in range(6):\n",
    "    if float(input()) >0:\n",
    "        count+=1\n",
    "\n",
    "print(count, \"valores positivos\")"
   ]
  },
  {
   "cell_type": "markdown",
   "metadata": {},
   "source": [
    "Exercise: **Event Time**\n",
    "\n",
    "Peter is organizing an event in his University. The event will be in April month, beginning and finishing within April month. The problem is: Peter wants to calculate the event duration in seconds, knowing obviously the begin and the end time of the event.\n",
    "\n",
    "You know that the event can take from few seconds to some days, so, you must help Peter to compute the total time corresponding to duration of the event.\n",
    "\n",
    "**Input:**\n",
    "The first line of the input contains information about the beginning day of the event in the format: “Dia xx”. The next line contains the start time of the event in the format presented in the sample input. Follow 2 input lines with same format, corresponding to the end of the event.\n",
    "\n",
    "**Output:**\n",
    "Your program must print the following output, one information by line, considering that if any information is null for example, the number 0 must be printed in place of W, X, Y or Z:\n",
    "\n",
    "W dia(s)\n",
    "X hora(s)\n",
    "Y minuto(s)\n",
    "Z segundo(s)\n",
    "\n",
    "Obs: Consider that the event of the test case have the minimum duration of one minute. “dia” means day, “hora” means hour, “minuto” means minute and “Segundo” means second in Portuguese."
   ]
  },
  {
   "cell_type": "code",
   "execution_count": 3,
   "metadata": {},
   "outputs": [
    {
     "name": "stdout",
     "output_type": "stream",
     "text": [
      "Day 5\n",
      "10 : 30 : 20\n",
      "Day 6\n",
      "20 : 15 : 10\n",
      "1 dia(s)\n",
      "9 hora(s)\n",
      "44 minuto(s)\n",
      "50 segundo(s)\n"
     ]
    }
   ],
   "source": [
    "day_1 = int(input().split()[1])\n",
    "hour_1 = input().split(\" : \")\n",
    "day_2 = int(input().split()[1])\n",
    "hour_2 = input().split(\" : \")\n",
    "h1, m1, s1 = int(hour_1[0]), int(hour_1[1]), int(hour_1[2])\n",
    "h2, m2, s2 = int(hour_2[0]), int(hour_2[1]), int(hour_2[2])\n",
    "\n",
    "min_s = 60\n",
    "hour_s = min_s * 60\n",
    "day_s = hour_s * 24\n",
    "start = s1 + m1*min_s + h1*hour_s + day_1*day_s\n",
    "end = s2 + m2*min_s + h2*hour_s + day_2*day_s\n",
    "\n",
    "if start < end:\n",
    "    time = end - start \n",
    "    days = int(time/day_s)\n",
    "    time = time%day_s\n",
    "    hours = int(time/hour_s)\n",
    "    time = time%hour_s\n",
    "    minutes = int(time/min_s)\n",
    "    time = time%min_s\n",
    "    seconds = time\n",
    "    print('{} dia(s)\\n{} hora(s)\\n{} minuto(s)\\n{} segundo(s)'.format(days, hours, minutes, seconds))"
   ]
  },
  {
   "cell_type": "markdown",
   "metadata": {},
   "source": [
    "Exercise: **Positives and Average**\n",
    "\n",
    "Read 6 values that can be floating point numbers. After, print how many of them were positive. In the next line, print the average of all positive values typed, with one digit after the decimal point.\n",
    "\n",
    "**Input:**\n",
    "The input consist in 6 numbers that can be integer or floating point values. At least one number will be positive.\n",
    "\n",
    "**Output:**\n",
    "The first output value is the amount of positive numbers. The next line should show the average of the positive values ​typed."
   ]
  },
  {
   "cell_type": "code",
   "execution_count": 4,
   "metadata": {},
   "outputs": [
    {
     "name": "stdout",
     "output_type": "stream",
     "text": [
      "2\n",
      "4\n",
      "6\n",
      "-2\n",
      "-3\n",
      "-5\n",
      "3 valores positivos\n",
      "4.0\n"
     ]
    }
   ],
   "source": [
    "count = 0\n",
    "positives = []\n",
    "\n",
    "for i in range(6):\n",
    "    x = float(input())\n",
    "    if x >0:\n",
    "        count+=1\n",
    "        positives.append(x)\n",
    "\n",
    "print(count, \"valores positivos\")\n",
    "print(\"{:.1f}\".format(sum(positives)/len(positives)))"
   ]
  }
 ],
 "metadata": {
  "kernelspec": {
   "display_name": "Python 3",
   "language": "python",
   "name": "python3"
  },
  "language_info": {
   "codemirror_mode": {
    "name": "ipython",
    "version": 3
   },
   "file_extension": ".py",
   "mimetype": "text/x-python",
   "name": "python",
   "nbconvert_exporter": "python",
   "pygments_lexer": "ipython3",
   "version": "3.6.8"
  }
 },
 "nbformat": 4,
 "nbformat_minor": 2
}
