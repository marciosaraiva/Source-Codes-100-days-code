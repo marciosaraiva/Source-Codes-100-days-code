{
 "cells": [
  {
   "cell_type": "markdown",
   "metadata": {},
   "source": [
    "Exercise: **Even Between five Numbers**\n",
    "\n",
    "Make a program that reads five integer values. Count how many of these values ​​are even and  print this information like the following example.\n",
    "\n",
    "**Input:**\n",
    "The input will be 5 integer values.\n",
    "\n",
    "**Output:**\n",
    "Print a message like the following example with all letters in lowercase, indicating how many even numbers were typed."
   ]
  },
  {
   "cell_type": "code",
   "execution_count": 1,
   "metadata": {},
   "outputs": [
    {
     "name": "stdout",
     "output_type": "stream",
     "text": [
      "1\n",
      "2\n",
      "3\n",
      "4\n",
      "5\n",
      "2 valores pares\n"
     ]
    }
   ],
   "source": [
    "count =0\n",
    "for n in range(5):\n",
    "    if int(input())%2==0:\n",
    "        count+=1\n",
    "        \n",
    "print(count, \"valores pares\")"
   ]
  },
  {
   "cell_type": "markdown",
   "metadata": {},
   "source": [
    "Exercise: **Even, Odd, Positive and Negative**\n",
    "\n",
    "Make a program that reads five integer values. Count how many   of these values are even, odd, positive and negative. Print these information like following example.\n",
    "\n",
    "**Input:**\n",
    "The input will be 5 integer values.\n",
    "\n",
    "**Output:**\n",
    "Print a message like the following example with all letters in lowercase, indicating how many of these values ​​are even, odd, positive and negative."
   ]
  },
  {
   "cell_type": "code",
   "execution_count": 2,
   "metadata": {},
   "outputs": [
    {
     "name": "stdout",
     "output_type": "stream",
     "text": [
      "1\n",
      "-2\n",
      "3\n",
      "-4\n",
      "5\n",
      "2 valor(es) par(es)\n",
      "3 valor(es) impar(es)\n",
      "3 valor(es) positivo(s)\n",
      "2 valor(es) negativo(s)\n"
     ]
    }
   ],
   "source": [
    "count_even =0\n",
    "count_odd = 0\n",
    "count_positive = 0\n",
    "count_negative = 0\n",
    "\n",
    "for n in range(5):\n",
    "    num = int(input())\n",
    "    if num>0:\n",
    "        count_positive+=1\n",
    "    elif num<0:\n",
    "        count_negative+=1\n",
    "        \n",
    "    if num%2==0:\n",
    "        count_even+=1\n",
    "    else:\n",
    "        count_odd+=1\n",
    "        \n",
    "print(count_even, \"valor(es) par(es)\")\n",
    "print(count_odd, \"valor(es) impar(es)\")\n",
    "print(count_positive,\"valor(es) positivo(s)\")\n",
    "print(count_negative,\"valor(es) negativo(s)\")"
   ]
  },
  {
   "cell_type": "markdown",
   "metadata": {},
   "source": [
    "Exercise:**Odd Numbers**\n",
    "\n",
    "Read an integer value X (1 <= X <= 1000).  Then print the odd numbers from 1 to X, each one in a line, including X if is the case.\n",
    "\n",
    "**Input:**\n",
    "The input will be an integer value.\n",
    "\n",
    "**Output:**\n",
    "Print all odd values between 1 and X, including X if is the case."
   ]
  },
  {
   "cell_type": "code",
   "execution_count": 3,
   "metadata": {},
   "outputs": [
    {
     "name": "stdout",
     "output_type": "stream",
     "text": [
      "9\n",
      "1\n",
      "3\n",
      "5\n",
      "7\n",
      "9\n"
     ]
    }
   ],
   "source": [
    "for n in range(int(input())+1):\n",
    "    if n%2!=0:\n",
    "        print(n)"
   ]
  }
 ],
 "metadata": {
  "kernelspec": {
   "display_name": "Python 3",
   "language": "python",
   "name": "python3"
  },
  "language_info": {
   "codemirror_mode": {
    "name": "ipython",
    "version": 3
   },
   "file_extension": ".py",
   "mimetype": "text/x-python",
   "name": "python",
   "nbconvert_exporter": "python",
   "pygments_lexer": "ipython3",
   "version": "3.6.8"
  }
 },
 "nbformat": 4,
 "nbformat_minor": 2
}
