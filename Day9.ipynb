{
 "cells": [
  {
   "cell_type": "markdown",
   "metadata": {},
   "source": [
    "Exercise: **Triangle Types**\n",
    "\n",
    "Read 3 double numbers (A, B and C) representing the sides of a triangle and arrange them in decreasing order, so that the side A is the biggest of the three sides. Next, determine the type of triangle that they can make, based on the following cases always writing an appropriate message:\n",
    "\n",
    "if A ≥ B + C, write the message: NAO FORMA TRIANGULO\n",
    "\n",
    "if A2 = B2 + C2, write the message: TRIANGULO RETANGULO\n",
    "\n",
    "if A2 > B2 + C2, write the message: TRIANGULO OBTUSANGULO\n",
    "\n",
    "if A2 < B2 + C2, write the message: TRIANGULO ACUTANGULO\n",
    "\n",
    "if the three sides are the same size, write the message: TRIANGULO EQUILATERO\n",
    "\n",
    "if only two sides are the same and the third one is different, write the message: TRIANGULO ISOSCELES\n",
    "\n",
    "\n",
    "Input:\n",
    "The input contains three double numbers, A (0 < A) , B (0 < B) and C (0 < C).\n",
    "\n",
    "Output:\n",
    "Print all the classifications of the triangle presented in the input."
   ]
  },
  {
   "cell_type": "code",
   "execution_count": 1,
   "metadata": {},
   "outputs": [
    {
     "name": "stdout",
     "output_type": "stream",
     "text": [
      "7.0 5.0 7.0\n",
      "TRIANGULO ACUTANGULO\n",
      "TRIANGULO ISOSCELES\n"
     ]
    }
   ],
   "source": [
    "temp = input().split()\n",
    "temp.sort(key=float,reverse=True)\n",
    "A = float(temp[0]); B = float(temp[1]); C = float(temp[2])\n",
    "\n",
    "if A >= (B + C): \n",
    "    print(\"NAO FORMA TRIANGULO\")\n",
    "else:\n",
    "    if A**2 == (B**2 + C**2):\n",
    "        print(\"TRIANGULO RETANGULO\")\n",
    "\n",
    "    if (A**2 > (B**2 + C**2)): \n",
    "        print(\"TRIANGULO OBTUSANGULO\")\n",
    "\n",
    "    if A**2 < (B**2 + C**2):\n",
    "        print(\"TRIANGULO ACUTANGULO\")\n",
    "\n",
    "    if A==B and B==C: \n",
    "        print(\"TRIANGULO EQUILATERO\")\n",
    "\n",
    "    if (A==B and B!=C) or (A==C and C!=B) or (B==C and C!=A):\n",
    "        print(\"TRIANGULO ISOSCELES\")"
   ]
  },
  {
   "cell_type": "markdown",
   "metadata": {},
   "source": [
    "Exercise: **Game Time**\n",
    "\n",
    "Read the start time and end time of a game, in hours. Then calculate the duration of the game, knowing that the game can begin in a day and finish in another day, with a maximum duration of 24 hours. The message must be printed in portuguese “O JOGO DUROU X HORA(S)” that means “THE GAME LASTED X HOUR(S)”\n",
    "\n",
    "Input:\n",
    "Two integer numbers representing the start and end time of a game.\n",
    "\n",
    "Output:\n",
    "Print the duration of the game as in the sample output."
   ]
  },
  {
   "cell_type": "code",
   "execution_count": 2,
   "metadata": {},
   "outputs": [
    {
     "name": "stdout",
     "output_type": "stream",
     "text": [
      "16 2\n",
      "O JOGO DUROU 10 HORA(S)\n"
     ]
    }
   ],
   "source": [
    "start, end = map(int, input().split())\n",
    "\n",
    "duration = end - start\n",
    "\n",
    "if end <= start:\n",
    "    duration += 24\n",
    "    \n",
    "print(\"O JOGO DUROU {} HORA(S)\".format(duration))"
   ]
  },
  {
   "cell_type": "markdown",
   "metadata": {},
   "source": [
    "Exercise: **Game Time with Minutes**\n",
    "\n",
    "Read the start time and end time of a game, in hours and minutes (initial hour, initial minute, final hour, final minute). Then print the duration of the game, knowing that the game can begin in a day and finish in another day,\n",
    "\n",
    "Obs.: With a maximum game time of 24 hours and the minimum game time of 1 minute.\n",
    "\n",
    "Input:\n",
    "Four integer numbers representing the start and end time of the game.\n",
    "\n",
    "Output:\n",
    "Print the duration of the game in hours and minutes, in this format: “O JOGO DUROU XXX HORA(S) E YYY MINUTO(S)” . Which means: the game lasted XXX hour(s) and YYY minutes."
   ]
  },
  {
   "cell_type": "code",
   "execution_count": 3,
   "metadata": {},
   "outputs": [
    {
     "name": "stdout",
     "output_type": "stream",
     "text": [
      "7 8 9 10\n",
      "O JOGO DUROU 2 HORA(S) E 2 MINUTO(S)\n"
     ]
    }
   ],
   "source": [
    "start_hours, start_minutes, end_hours, end_minutes = map(int, input().split())\n",
    "\n",
    "duration_hours = end_hours - start_hours\n",
    "duration_minutes = end_minutes - start_minutes\n",
    "\n",
    "if duration_hours ==0 and duration_minutes ==0:\n",
    "    print(\"O JOGO DUROU 24 HORA(S) E 0 MINUTO(S)\")\n",
    "else:\n",
    "    if end_hours < start_hours:\n",
    "        duration_hours += 24\n",
    "\n",
    "    if duration_minutes<0:\n",
    "        duration_minutes = 60+duration_minutes\n",
    "        duration_hours-=1\n",
    "\n",
    "    if duration_hours == 24:\n",
    "        duration_minutes = 0\n",
    "\n",
    "    if duration_hours ==0 and duration_minutes<=0:\n",
    "        duration_minutes = 1\n",
    "    \n",
    "    print(\"O JOGO DUROU {} HORA(S) E {} MINUTO(S)\".format(duration_hours, duration_minutes))"
   ]
  }
 ],
 "metadata": {
  "kernelspec": {
   "display_name": "Python 3",
   "language": "python",
   "name": "python3"
  },
  "language_info": {
   "codemirror_mode": {
    "name": "ipython",
    "version": 3
   },
   "file_extension": ".py",
   "mimetype": "text/x-python",
   "name": "python",
   "nbconvert_exporter": "python",
   "pygments_lexer": "ipython3",
   "version": "3.6.8"
  }
 },
 "nbformat": 4,
 "nbformat_minor": 2
}
