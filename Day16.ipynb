{
 "cells": [
  {
   "cell_type": "markdown",
   "metadata": {},
   "source": [
    "Exercise: **Multiplication Table**\n",
    "\n",
    "Read an integer N (2 < N < 1000). Print the multiplication table of N.\n",
    "1 x N = N      2 x N = 2N        ...       10 x N = 10N  \n",
    "\n",
    "**Input:**\n",
    "The input is an integer N (1 < N < 1000).\n",
    "\n",
    "**Output:**\n",
    "Print the multiplication table of N., like the following example."
   ]
  },
  {
   "cell_type": "code",
   "execution_count": 1,
   "metadata": {},
   "outputs": [
    {
     "name": "stdout",
     "output_type": "stream",
     "text": [
      "5\n",
      "1 x 5 = 5\n",
      "2 x 5 = 10\n",
      "3 x 5 = 15\n",
      "4 x 5 = 20\n",
      "5 x 5 = 25\n",
      "6 x 5 = 30\n",
      "7 x 5 = 35\n",
      "8 x 5 = 40\n",
      "9 x 5 = 45\n",
      "10 x 5 = 50\n"
     ]
    }
   ],
   "source": [
    "N = int(input())\n",
    "\n",
    "for x in range(1,11):\n",
    "    print(x,\"x\",N,\"=\",str(x*N))"
   ]
  },
  {
   "cell_type": "markdown",
   "metadata": {},
   "source": [
    "Exercise:**Weighted Averages**\n",
    "\n",
    "Read an integer N, which represents the number of following test cases. Each test case consists of three floating-point numbers, each one with one digit after the decimal point. Print the weighted average for each of these sets of three numbers, considering that the first number has weight 2, the second number has weight 3 and the third number has weight 5.\n",
    "\n",
    "**Input:**\n",
    "The input file contains an integer number N in the first line. Each N following line is a test case with three float-point numbers, each one with one digit after the decimal point.\n",
    "\n",
    "**Output:**\n",
    "For each test case, print the weighted average according with below example."
   ]
  },
  {
   "cell_type": "code",
   "execution_count": 2,
   "metadata": {},
   "outputs": [
    {
     "name": "stdout",
     "output_type": "stream",
     "text": [
      "2\n",
      "6.5 4.3 6.2\n",
      "5.7\n",
      "7 8 9\n",
      "8.3\n"
     ]
    }
   ],
   "source": [
    "N = int(input())\n",
    "\n",
    "for i in range(N):\n",
    "    a,b,c = map(float,(input().split()))\n",
    "    print(\"{:.1f}\".format((a*2+b*3+c*5)/10))"
   ]
  },
  {
   "cell_type": "markdown",
   "metadata": {},
   "source": [
    "Exercise:**Highest and Position**\n",
    "\n",
    "Read 100 integer numbers. Print the highest read value and the input position.\n",
    "\n",
    "**Input:**\n",
    "The input file contains 100 distinct positive integer numbers.\n",
    "\n",
    "**Output:**\n",
    "Print the highest number read and the input position of this value, according to the given example."
   ]
  },
  {
   "cell_type": "code",
   "execution_count": 3,
   "metadata": {
    "scrolled": true
   },
   "outputs": [
    {
     "name": "stdout",
     "output_type": "stream",
     "text": [
      "7\n",
      "99\n",
      "16\n",
      "99\n",
      "2\n"
     ]
    }
   ],
   "source": [
    "numbers = []\n",
    "for i in range(3): #change to 100\n",
    "    numbers.append(int(input()))\n",
    "    \n",
    "print(max(numbers))\n",
    "print(numbers.index(max(numbers))+1)"
   ]
  }
 ],
 "metadata": {
  "kernelspec": {
   "display_name": "Python 3",
   "language": "python",
   "name": "python3"
  },
  "language_info": {
   "codemirror_mode": {
    "name": "ipython",
    "version": 3
   },
   "file_extension": ".py",
   "mimetype": "text/x-python",
   "name": "python",
   "nbconvert_exporter": "python",
   "pygments_lexer": "ipython3",
   "version": "3.6.8"
  }
 },
 "nbformat": 4,
 "nbformat_minor": 2
}
