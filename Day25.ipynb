{
 "cells": [
  {
   "cell_type": "markdown",
   "metadata": {},
   "source": [
    "**Exercise: Easy Fibonacci**\n",
    "    \n",
    "The following sequence of numbers 0 1 1 2 3 5 8 13 21 ... is known as the Fibonacci Sequence. Thereafter, each number after the first 2 is equal to the sum of the previous two numbers. Write an algorithm that reads an integer N (N < 46) and that print the first N numbers of this sequence.\n",
    "\n",
    "**Input:**\n",
    "The input file contains an integer number N (0 < N < 46).\n",
    "\n",
    "**Output:**\n",
    "The numbers ​​should be printed on the same line, separated by a blank space. There is no space after the last number."
   ]
  },
  {
   "cell_type": "code",
   "execution_count": 1,
   "metadata": {
    "scrolled": true
   },
   "outputs": [
    {
     "name": "stdout",
     "output_type": "stream",
     "text": [
      "5\n",
      "0 1 1 2 3\n"
     ]
    }
   ],
   "source": [
    "n = int(input())\n",
    "fibonacci = []\n",
    "for x in range(n):\n",
    "    if x ==0:\n",
    "        fibonacci.append(0)\n",
    "    elif x==1 or x==2:\n",
    "        fibonacci.append(1)\n",
    "    else:\n",
    "        fibonacci.append(fibonacci[x-1]+fibonacci[x-2])\n",
    "\n",
    "numbers = [str(x) for x in fibonacci]\n",
    "text = \" \".join(numbers)\n",
    "print(text)"
   ]
  },
  {
   "cell_type": "markdown",
   "metadata": {},
   "source": [
    "**Exercise: Simple Factorial**\n",
    "\n",
    "Read a value N. Calculate and write its corresponding factorial. Factorial of N = N * (N-1) * (N-2) * (N-3) * ... * 1.\n",
    "\n",
    "**Input:**\n",
    "The input contains an integer value N (0 < N < 13).\n",
    "\n",
    "**Output:**\n",
    "The output contains an integer value corresponding to the factorial of N."
   ]
  },
  {
   "cell_type": "code",
   "execution_count": 2,
   "metadata": {},
   "outputs": [
    {
     "name": "stdout",
     "output_type": "stream",
     "text": [
      "5\n",
      "120\n"
     ]
    }
   ],
   "source": [
    "def factorial(n):\n",
    "    if n==1:\n",
    "        return 1\n",
    "    else:\n",
    "        return n*factorial(n-1)\n",
    "\n",
    "print(factorial(int(input())))"
   ]
  },
  {
   "cell_type": "markdown",
   "metadata": {},
   "source": [
    "**Exercise: Ages**\n",
    "\n",
    "Write an algorithm to read an undeterminated number of data, each containing an individual's age. The final data, which will not enter in the calculations, contains the value of a negative age. Calculate and print the average age of this group of individuals.\n",
    "\n",
    "**Input:**\n",
    "The input contains an undetermined number of integers. The input will be stop when a negative value is read.\n",
    "\n",
    "**Output:**\n",
    "The output contains a value corresponding to the average age of individuals.\n",
    "\n",
    "The average should be printed with two digits after the decimal point."
   ]
  },
  {
   "cell_type": "code",
   "execution_count": 3,
   "metadata": {},
   "outputs": [
    {
     "name": "stdout",
     "output_type": "stream",
     "text": [
      "33\n",
      "17\n",
      "20\n",
      "8\n",
      "0\n",
      "-1\n",
      "15.60\n"
     ]
    }
   ],
   "source": [
    "ages = []\n",
    "\n",
    "age = int(input())\n",
    "\n",
    "while age>=0:\n",
    "    ages.append(age)\n",
    "    age=int(input())\n",
    "    \n",
    "print(\"{:.2f}\".format(sum(ages)/len(ages)))"
   ]
  }
 ],
 "metadata": {
  "kernelspec": {
   "display_name": "Python 3",
   "language": "python",
   "name": "python3"
  },
  "language_info": {
   "codemirror_mode": {
    "name": "ipython",
    "version": 3
   },
   "file_extension": ".py",
   "mimetype": "text/x-python",
   "name": "python",
   "nbconvert_exporter": "python",
   "pygments_lexer": "ipython3",
   "version": "3.6.8"
  }
 },
 "nbformat": 4,
 "nbformat_minor": 2
}
