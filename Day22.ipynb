{
 "cells": [
  {
   "cell_type": "markdown",
   "metadata": {},
   "source": [
    "**Exercise: Rest of a Division**\n",
    "\n",
    "Write a program that reads two integer numbers X and Y. Print all numbers between X and Y which dividing it by 5 the rest is equal to 2 or equal to 3.\n",
    "\n",
    "**Input:**\n",
    "The input file contains 2 any positive integers, not necessarily in ascending order.\n",
    "\n",
    "**Output:**\n",
    "Print all numbers according to above description, always in ascending order."
   ]
  },
  {
   "cell_type": "code",
   "execution_count": 5,
   "metadata": {},
   "outputs": [
    {
     "name": "stdout",
     "output_type": "stream",
     "text": [
      "10\n",
      "18\n",
      "12\n",
      "13\n",
      "17\n"
     ]
    }
   ],
   "source": [
    "x = int(input())\n",
    "y = int(input())\n",
    "\n",
    "if x < y:\n",
    "    for num in range(x+1,y):\n",
    "        if num%5 == 2 or num%5==3:\n",
    "            print(num)\n",
    "else:\n",
    "    for num in range(y+1,x):\n",
    "        if num%5 == 2 or num%5==3:\n",
    "            print(num)"
   ]
  },
  {
   "cell_type": "markdown",
   "metadata": {},
   "source": [
    "**Exercise: Type of Fuel**\n",
    "\n",
    "A gas station wants to determine which of their products is the preference of their customers. Write a program to read the type of fuel supplied (coded as follows: 1. Alcohol 2. Gasoline 3. Diesel 4. End). If you enter an invalid code (outside the range of 1 to 4) a new code must be requested. The program will end when the inserted code is the number 4.\n",
    "\n",
    "**Input:**\n",
    "The input contains only integer and positive values.\n",
    "\n",
    "**Output:**\n",
    "It should be written the message: \"MUITO OBRIGADO\" and the amount of customers who fueled each fuel type, as an example."
   ]
  },
  {
   "cell_type": "code",
   "execution_count": 8,
   "metadata": {},
   "outputs": [
    {
     "name": "stdout",
     "output_type": "stream",
     "text": [
      "8\n",
      "1\n",
      "7\n",
      "2\n",
      "2\n",
      "4\n",
      "MUITO OBRIGADO\n",
      "Alcool: 1\n",
      "Gasolina: 2\n",
      "Diesel: 0\n"
     ]
    }
   ],
   "source": [
    "alcohol = 0\n",
    "gasoline = 0\n",
    "diesel = 0\n",
    "\n",
    "while True:\n",
    "    type_of_fuel = int(input())\n",
    "    if type_of_fuel == 1:\n",
    "        alcohol+=1\n",
    "    elif type_of_fuel == 2:\n",
    "        gasoline+=1\n",
    "    elif type_of_fuel == 3:\n",
    "        diesel+=1\n",
    "    elif type_of_fuel == 4:\n",
    "        break\n",
    "        \n",
    "print(\"MUITO OBRIGADO\")\n",
    "print(\"Alcool:\",alcohol)\n",
    "print(\"Gasolina:\",gasoline)\n",
    "print(\"Diesel:\",diesel)"
   ]
  },
  {
   "cell_type": "markdown",
   "metadata": {},
   "source": [
    "**Exercise: PUM**\n",
    "\n",
    "Write a program that reads an integer N. This N is the number of output lines printed by this program.\n",
    "\n",
    "**Input:**\n",
    "The input file contains an integer N.\n",
    "\n",
    "**Output:**\n",
    "Print the output according to the given example.\n",
    "\n",
    "1 2 3 PUM\n",
    "\n",
    "5 6 7 PUM\n",
    "\n",
    "9 10 11 PUM\n",
    "\n",
    "13 14 15 PUM\n",
    "\n",
    "17 18 19 PUM\n",
    "\n",
    "21 22 23 PUM\n",
    "\n",
    "25 26 27 PUM"
   ]
  },
  {
   "cell_type": "code",
   "execution_count": 13,
   "metadata": {},
   "outputs": [
    {
     "name": "stdout",
     "output_type": "stream",
     "text": [
      "7\n",
      "1 2 3 PUM\n",
      "5 6 7 PUM\n",
      "9 10 11 PUM\n",
      "13 14 15 PUM\n",
      "17 18 19 PUM\n",
      "21 22 23 PUM\n",
      "25 26 27 PUM\n"
     ]
    }
   ],
   "source": [
    "n = int(input())\n",
    "x=1\n",
    "for lines in range(1,n+1):\n",
    "    print(x,x+1,x+2,\"PUM\")\n",
    "    x+=4"
   ]
  },
  {
   "cell_type": "code",
   "execution_count": null,
   "metadata": {},
   "outputs": [],
   "source": []
  }
 ],
 "metadata": {
  "kernelspec": {
   "display_name": "Python 3",
   "language": "python",
   "name": "python3"
  },
  "language_info": {
   "codemirror_mode": {
    "name": "ipython",
    "version": 3
   },
   "file_extension": ".py",
   "mimetype": "text/x-python",
   "name": "python",
   "nbconvert_exporter": "python",
   "pygments_lexer": "ipython3",
   "version": "3.6.8"
  }
 },
 "nbformat": 4,
 "nbformat_minor": 2
}
