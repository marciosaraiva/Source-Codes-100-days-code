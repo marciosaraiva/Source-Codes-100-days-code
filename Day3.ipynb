{
 "cells": [
  {
   "cell_type": "markdown",
   "metadata": {},
   "source": [
    "Exercise: **Difference**\n",
    "\n",
    "Read four integer values named A, B, C and D. Calculate and print the difference of product A and B by the product of C and D (A * B - C * D).\n",
    "\n",
    "Input:\n",
    "The input file contains 4 integer values.\n",
    "\n",
    "Output:\n",
    "Print DIFERENCA (DIFFERENCE in Portuguese) with all the capital letters, according to the following example, with a blank space before and after the equal signal."
   ]
  },
  {
   "cell_type": "code",
   "execution_count": 1,
   "metadata": {},
   "outputs": [
    {
     "name": "stdout",
     "output_type": "stream",
     "text": [
      "5\n",
      "6\n",
      "-7\n",
      "8\n",
      "DIFERENCA = 86\n"
     ]
    }
   ],
   "source": [
    "A = int(input())\n",
    "B = int(input())\n",
    "C = int(input())\n",
    "D = int(input())\n",
    "\n",
    "print(\"DIFERENCA =\",A*B-C*D)"
   ]
  },
  {
   "cell_type": "markdown",
   "metadata": {},
   "source": [
    "Exercise: **Salary**\n",
    "\n",
    "Write a program that reads an employee's number, his/her worked hours number in a month and the amount he received per hour. Print the employee's number and salary that he/she will receive at end of the month, with two decimal places.\n",
    "\n",
    "- Don’t forget to print the line's end after the result, otherwise you will receive “Presentation Error”.\n",
    "- Don’t forget the space before and after the equal signal and after the U$.\n",
    "\n",
    "Input:\n",
    "The input file contains 2 integer numbers and 1 value of floating point, representing the number, worked hours amount and the amount the employee receives per worked hour.\n",
    "\n",
    "Output:\n",
    "Print the number and the employee's salary, according to the given example, with a blank space before and after the equal signal."
   ]
  },
  {
   "cell_type": "code",
   "execution_count": 2,
   "metadata": {},
   "outputs": [
    {
     "name": "stdout",
     "output_type": "stream",
     "text": [
      "25\n",
      "40\n",
      "55.5\n",
      "NUMBER = 25\n",
      "SALARY = U$ 2220.00\n"
     ]
    }
   ],
   "source": [
    "number = int(input())\n",
    "worked_hours_amount = int(input())\n",
    "amount_per_worked_hour = float(input())\n",
    "\n",
    "print(\"NUMBER =\", number)\n",
    "print(\"SALARY = U$ {:.2f}\".format(worked_hours_amount*amount_per_worked_hour))"
   ]
  },
  {
   "cell_type": "markdown",
   "metadata": {},
   "source": [
    "Exercise: **Salary with Bonus**\n",
    "\n",
    "Make a program that reads a seller's name, his/her fixed salary and the sale's total made by himself/herself in the month (in money). Considering that this seller receives 15% over all products sold, write the final salary (total) of this seller at the end of the month , with two decimal places.\n",
    "\n",
    "- Don’t forget to print the line's end after the result, otherwise you will receive “Presentation Error”.\n",
    "\n",
    "- Don’t forget the blank spaces.\n",
    "\n",
    "Input:\n",
    "The input file contains a text (employee's first name), and two double precision values, that are the seller's salary and the total value sold by him/her.\n",
    "\n",
    "Output:\n",
    "Print the seller's total salary, according to the given example."
   ]
  },
  {
   "cell_type": "code",
   "execution_count": null,
   "metadata": {},
   "outputs": [],
   "source": [
    "name = input()\n",
    "salary = float(input())\n",
    "total_value_sold = float(input())\n",
    "\n",
    "print(\"TOTAL = R$\",\"{0:.2f}\".format(salary+(total_value_sold*0.15)))"
   ]
  },
  {
   "cell_type": "markdown",
   "metadata": {},
   "source": [
    "Exercise: **Simple Calculate**\n",
    "\n",
    "In this problem, the task is to read a code of a product 1, the number of units of product 1, the price for one unit of product 1, the code of a product 2, the number of units of product 2 and the price for one unit of product 2. After this, calculate and show the amount to be paid.\n",
    "\n",
    "Input:\n",
    "The input file contains two lines of data. In each line there will be 3 values: two integers and a floating value with 2 digits after the decimal point.\n",
    "\n",
    "Output:\n",
    "The output file must be a message like the following example where \"Valor a pagar\" means Value to Pay. Remember the space after \":\" and after \"R$\" symbol. The value must be presented with 2 digits after the point."
   ]
  },
  {
   "cell_type": "code",
   "execution_count": null,
   "metadata": {},
   "outputs": [],
   "source": [
    "code1, number1, price1 = input().split()\n",
    "code2, number2, price2 = input().split()\n",
    "\n",
    "print(\"VALOR A PAGAR: R$ {:.2f}\".format(int(number1)*float(price1) + (int(number2)*float(price2))))"
   ]
  }
 ],
 "metadata": {
  "kernelspec": {
   "display_name": "Python 3",
   "language": "python",
   "name": "python3"
  },
  "language_info": {
   "codemirror_mode": {
    "name": "ipython",
    "version": 3
   },
   "file_extension": ".py",
   "mimetype": "text/x-python",
   "name": "python",
   "nbconvert_exporter": "python",
   "pygments_lexer": "ipython3",
   "version": "3.6.8"
  }
 },
 "nbformat": 4,
 "nbformat_minor": 2
}
