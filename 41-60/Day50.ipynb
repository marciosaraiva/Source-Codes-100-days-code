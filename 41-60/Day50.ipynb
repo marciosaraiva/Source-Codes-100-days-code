{
 "cells": [
  {
   "cell_type": "markdown",
   "metadata": {},
   "source": [
    "**Exercise: The Return of Radar**\n",
    "\n",
    "Every year after the contest that takes place in Taxiland, contestants and coaches go to the famous and renowned restaurant Radar. However, the waiters (always very kind and polite) get overwhelmed due to the amount of people, and therefore, end up taking a while to serve them.\n",
    "\n",
    "Contestants or coaches who sit at the ends are the lucky ones, because they order only once and are served right away, but the others must always order twice, because the waiters (always very kind and polite) are careless and easily forget the orders. Besides, there's a superstition going on among the contestants and coaches that if there's not an even amount of people who don't sit at the ends, none of the university's teams will win the next contest.\n",
    "\n",
    "So your task is to determine the sum of the number of of orders of each one to know if it's worth going to Radar. But whatever the result is, remember: it's always worth going to Radar!\n",
    "\n",
    "**Input:**\n",
    "The input consists of the integer T (1 ≤ T ≤ 100) indicating the number of test cases and then, T integers N (3 ≤ N ≤ 104) indicating the number of people. The table is rectangular and there will be at least and at most one person at one end, i.e., if an end is empty, the other must be occupied, otherwise, the two ends must be occupied, but the number of people that are not at the ends must always be even. Read input until T = 0.\n",
    "\n",
    "**Output:**\n",
    "Print the sum of the number of orders of each person. There's no newline between the test cases."
   ]
  },
  {
   "cell_type": "code",
   "execution_count": 1,
   "metadata": {},
   "outputs": [
    {
     "name": "stdout",
     "output_type": "stream",
     "text": [
      "5\n",
      "13\n",
      "25\n",
      "37\n",
      "73\n",
      "49\n",
      "97\n",
      "11\n",
      "21\n",
      "9\n",
      "17\n",
      "2\n",
      "5\n",
      "9\n",
      "17\n",
      "33\n",
      "0\n"
     ]
    }
   ],
   "source": [
    "while True:\n",
    "    x = int(input())\n",
    "    if x == 0:\n",
    "        break\n",
    "\n",
    "    for i in range(x):\n",
    "        v = int(input())\n",
    "        if v % 2 == 0:\n",
    "            print(v * 2 - 2)\n",
    "        else:    \n",
    "            print(v * 2 - 1)"
   ]
  },
  {
   "cell_type": "markdown",
   "metadata": {},
   "source": [
    "**Exercise: Password**\n",
    "\n",
    "Mr. Amnésio had great difficulty in keeping passwords. To remind them, he always wore numbers, and writing on pieces of paper, which also lost easily, causing it needed to change the password every time this happened. Tired, he thought in a more practical way: put on paper the next number of password, then he always used the same account to remember the password based on the number written on paper. But he also forgot the formula, therefore, asked you to write a program that, given the number of the paper, enter the corresponding password. Write a program that, given a number, enter their password.\n",
    "\n",
    "**Input:**\n",
    "The entry will have many test cases. Each test case will have a number N, representing the number written on paper (1001 ≤ N ≤ 9999). The entry ends with the end of the file.\n",
    "\n",
    "**Output:**\n",
    "For each test case, print the corresponding password. In all cases, the formula will be the same in the examples below."
   ]
  },
  {
   "cell_type": "code",
   "execution_count": 2,
   "metadata": {},
   "outputs": [
    {
     "name": "stdout",
     "output_type": "stream",
     "text": [
      "2019\n",
      "2018\n",
      "1997\n",
      "1996\n",
      "1989\n",
      "1988\n",
      "end\n"
     ]
    }
   ],
   "source": [
    "while True:\n",
    "    try:\n",
    "        number = int(input())\n",
    "        print(number-1)\n",
    "    except:\n",
    "        break"
   ]
  },
  {
   "cell_type": "markdown",
   "metadata": {},
   "source": [
    "**Exercise: Galopeira**\n",
    "\n",
    "One day, the brothers Little Chitão and Xor Or Oh, great typists, made ​​a challenge to see who was the best in typing. For this, they obtained a computer that does not process keystrokes, ie, if it is to enter the same letter twice in a row, to press the button twice, as, press for longer, no use. They also measured the time down a key, which was exactly 1/100 second. The challenge would be who typed the word \"Galopeira\" consisting of letters and more, but both were very good, and arrived at a point that it was not possible to count how many letters had been typed. Then asked his help to write a program that checks the typed word and see how much time was spent typing.\n",
    "\n",
    "Write a program that, given a typed word, tell how much time was spent to be entered.\n",
    "\n",
    "**Input:**\n",
    "An integer C will be informed, which is the amount of test cases. Each case has a word of at least 9 and at most 10,000 letters.\n",
    "\n",
    "**Output:**\n",
    "For each test case, print a T number, which is the time spent, in seconds, to enter the word of their test case, with precision of two decimal digits.\n",
    "\n"
   ]
  },
  {
   "cell_type": "code",
   "execution_count": 3,
   "metadata": {},
   "outputs": [
    {
     "name": "stdout",
     "output_type": "stream",
     "text": [
      "3\n",
      "galopeira\n",
      "0.09\n",
      "galopeeeeeeeeeeeira\n",
      "0.19\n",
      "galopeeira\n",
      "0.1\n"
     ]
    }
   ],
   "source": [
    "c = int(input())\n",
    "\n",
    "for x in range(c):\n",
    "    t = input()\n",
    "    t = len(t)\n",
    "    print(\"%.2f\" %(t / 100))\n"
   ]
  }
 ],
 "metadata": {
  "kernelspec": {
   "display_name": "Python 3",
   "language": "python",
   "name": "python3"
  },
  "language_info": {
   "codemirror_mode": {
    "name": "ipython",
    "version": 3
   },
   "file_extension": ".py",
   "mimetype": "text/x-python",
   "name": "python",
   "nbconvert_exporter": "python",
   "pygments_lexer": "ipython3",
   "version": "3.6.8"
  }
 },
 "nbformat": 4,
 "nbformat_minor": 2
}
