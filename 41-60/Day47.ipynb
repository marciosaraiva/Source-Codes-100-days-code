{
 "cells": [
  {
   "cell_type": "markdown",
   "metadata": {},
   "source": [
    "**Exercise: Honey Reservoir**\n",
    "\n",
    "Julius is the owner of a large apiry situated in Paraíba. Every year, every six months, Julius collect honey produced by bees of their property and stores it in a CYLINDRICAL container format that facilitates the transport of honey for establishments who order this natural product for commercialization . Once Julio realized due to an increase in honey production, over the previous six months, the container that owned the stand the volume of honey produced by his bees. Julius needs now that you make a program that informs the volume of honey in cm3 and the diameter of the inside of the container in cm, calculate and show:\n",
    "\n",
    "- What should be the height (in cm) of Inside the container;\n",
    "\n",
    "- The area (in cm2) of the mouth (entrance) of the container.\n",
    "\n",
    "NB .: Consider π = 3.14\n",
    "\n",
    "**Input:**\n",
    "The input contains several test cases and ends with EOF. Each test case consists of a line containing two floating-point values of double precision with two decimals after comma, one V (1.00 ≤ V ≤ 10000.00) and one D (1.00 ≤ D ≤ 100.00), respectively representing the volume and the container diameter.\n",
    "\n",
    "**Output:**\n",
    "For each test, the output contains the first line \"ALTURA = \" message, with a space after ALTURA and another after the symbol of equality, followed by the container height value with two decimals after comma and the second line message \"AREA = \", also with a space after AREA and another after the symbol of equality, followed by the value of the area of the mouth (entrance) of the container with two decimals after comma.\n",
    "\n",
    "- Do not forget the line break at the end of the exit, otherwise you will get \"Presentation Error\"."
   ]
  },
  {
   "cell_type": "code",
   "execution_count": 1,
   "metadata": {},
   "outputs": [
    {
     "name": "stdout",
     "output_type": "stream",
     "text": [
      "1450.00\n",
      "25.00\n",
      "ALTURA = 2.96\n",
      "AREA = 490.62\n",
      "760.00\n",
      "40.00\n",
      "ALTURA = 0.61\n",
      "AREA = 1256.00\n",
      "7500.00\n",
      "15.00\n",
      "ALTURA = 42.46\n",
      "AREA = 176.62\n",
      "END\n"
     ]
    }
   ],
   "source": [
    "while True:\n",
    "    try:\n",
    "        volume = float(input())\n",
    "        diameter = float(input())\n",
    "        height = (volume/3.14)/(diameter/2)**2\n",
    "        print(\"ALTURA = %.2f\" %round(height,2))\n",
    "        area = 3.14*((diameter/2)**2)\n",
    "        print(\"AREA = %.2f\" %round(area,2))\n",
    "    except:\n",
    "        break"
   ]
  },
  {
   "cell_type": "markdown",
   "metadata": {},
   "source": [
    "**Exercise: Rock, Paper, Airstrike**\n",
    "\n",
    "Rock, Paper, Airstrike is a very popular children’s game, in which two or more children form a circle and do hand gestures in an attempt to get the victory. The rules are surprisingly complex for a children’s game, but it’s still quite popular around the world.\n",
    "The games are very simple. Players can choose between the sign of a Rock (fist), the sign of a paper (an open palm), and the signal to the Air Attack (like the paper, but with only the thumb and little finger extended).\n",
    "\n",
    "\n",
    "A game with two players have the following rules to determine a winner:\n",
    "\n",
    "- Airstrike vs. Rock: In this case, the player with Airstrike defeats the player with Rock for obvious reasons.\n",
    "- Rock vs. Paper: In this case the player with Rock defeats the one with Paper, because Rock hurts more.\n",
    "- Paper vs. Airstrike: In here Airstrike wins because Airstrike always wins and Paper is pathetic.\n",
    "- Paper vs. Paper: In this variation both players win because Paper is useless and no one facing Paper can lose.\n",
    "- Rock vs. Rock: To this case there is no winner because it depends on what the players decide to do with the Rock and usually do nothing at the end.\n",
    "- Airstrike vs. Airstrike: When this happens all players lose due to Mutual Annihilation.\n",
    "\n",
    "\n",
    "Your task is to write a program that given the choice of two players tell who won the game.\n",
    "\n",
    "**Input:**\n",
    "The input consist of N (1 ≤ N ≤ 1000) test cases. N should be read in the first line of input. Each test case is composed of two lines each containing a string. The first string is the sign chosen by Player 1 and the second string is the sign chosen by the Player 2. These string can be:\n",
    "\n",
    "- “ataque”: to represents Airstrike\n",
    "- “pedra”: to represents Rock\n",
    "- “papel”: tp represents Paper\n",
    "\n",
    "**Output:**\n",
    "The output must be contain:\n",
    "\n",
    "- “Jogador 1 venceu”: if Player 1 has won the game\n",
    "- “Jogador 2 venceu”: if Player 2 has won the game\n",
    "- “Ambos venceram”: if the both have won the game\n",
    "- “Sem ganhador”: if there is no winner\n",
    "- “Aniquilacao mutua”: if Mutual Annihilation occurs\n",
    "\n",
    "Each output of a test case must be in one line."
   ]
  },
  {
   "cell_type": "code",
   "execution_count": 2,
   "metadata": {},
   "outputs": [
    {
     "name": "stdout",
     "output_type": "stream",
     "text": [
      "2\n",
      "PEDRA\n",
      "PEDRA\n",
      "Sem ganhador\n",
      "ataque\n",
      "papel\n",
      "Jogador 1 venceu\n"
     ]
    }
   ],
   "source": [
    "for x in range(int(input())):\n",
    "    player1 = input()\n",
    "    player2 = input()\n",
    "    \n",
    "    if player1=='ataque' and player2=='pedra':\n",
    "        print(\"Jogador 1 venceu\")\n",
    "    elif player2=='ataque' and player1=='pedra':\n",
    "        print(\"Jogador 2 venceu\")\n",
    "        \n",
    "    elif player1=='pedra' and player2=='papel':\n",
    "        print(\"Jogador 1 venceu\")\n",
    "    elif player2=='pedra' and player1=='papel':\n",
    "        print(\"Jogador 2 venceu\")\n",
    "    \n",
    "    elif player1=='ataque' and player2=='papel':\n",
    "        print(\"Jogador 1 venceu\")\n",
    "    elif player2=='ataque' and player1=='papel':\n",
    "        print(\"Jogador 2 venceu\")\n",
    "        \n",
    "    elif player1=='papel' and player2=='papel':\n",
    "        print(\"Ambos venceram\")\n",
    "        \n",
    "    elif player1=='pedra' and player2=='pedra':\n",
    "        print(\"Sem ganhador\")\n",
    "        \n",
    "    elif player1=='ataque' and player2=='ataque':\n",
    "        print(\"Aniquilacao mutua\")\n",
    "        \n",
    "    else:\n",
    "        print(\"Sem ganhador\")"
   ]
  },
  {
   "cell_type": "markdown",
   "metadata": {},
   "source": [
    "**Exercise: Time Zone**\n",
    "\n",
    "Paul and Peter have made a long journey since they left Brazil to compete in the ICPC World Finals, in Phuket, Thailand. They noticed that in each place where they stopped, they had to adjust their watches because of the time zone.\n",
    "\n",
    "This way, to plan for upcoming trips, they asked you to create a mobile application that, given the departure time, travel time and the destination time zone with respect to the origin, you have to inform the time of arrival of each flight in the destination.\n",
    "\n",
    "For example, if they left a place at 10 am for a 4 hour journey to a destination that is on the east, in a time zone with an extra hour with respect to the time zone of the starting point, the arrival time will be 10 hours + 4 hours + 1 hour (due de time zone), i.e. they will arrive at 15 hours. Note that if the calculated time is 24, its program should print 0 (zero).\n",
    "\n",
    "**Input:**\n",
    "The input contains 3 integers: S (0 ≤ S ≤ 23), T (1 ≤ T ≤ 12) y F (-5 ≤ F ≤ 5), separated by a space, respectively indicating the time of departure, the travel time and destination time zone with respect to the origin.\n",
    "\n",
    "**Output:**\n",
    "Print an integer that indicates the local time specified in destination, as the examples below."
   ]
  },
  {
   "cell_type": "code",
   "execution_count": 3,
   "metadata": {},
   "outputs": [
    {
     "name": "stdout",
     "output_type": "stream",
     "text": [
      "10 7 3\n",
      "20\n"
     ]
    }
   ],
   "source": [
    "s, t, f = map(int, input().split())\n",
    "total = s+t+f\n",
    "if 0 < total < 24:\n",
    "    print(total)\n",
    "elif total > 24:\n",
    "    print(total-24)\n",
    "elif total<0:\n",
    "    print(24+total)\n",
    "else:\n",
    "    print(0)"
   ]
  }
 ],
 "metadata": {
  "kernelspec": {
   "display_name": "Python 3",
   "language": "python",
   "name": "python3"
  },
  "language_info": {
   "codemirror_mode": {
    "name": "ipython",
    "version": 3
   },
   "file_extension": ".py",
   "mimetype": "text/x-python",
   "name": "python",
   "nbconvert_exporter": "python",
   "pygments_lexer": "ipython3",
   "version": "3.6.8"
  }
 },
 "nbformat": 4,
 "nbformat_minor": 2
}
