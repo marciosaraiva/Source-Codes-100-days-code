{
 "cells": [
  {
   "cell_type": "markdown",
   "metadata": {},
   "source": [
    "**Exercise: Searching Subsequences**\n",
    "\n",
    "Given two natural numbers N1 and N2, it is said that N1 is contiguous subsequence of N2 if in N1 appear all digits in the same order and contiguously. Create an program that reads two natural numbers and write if the first is a contiguous subsequence of the second.\n",
    "\n",
    "**Input:**\n",
    "The input consists of several test cases and ends with the end of file (EOF). The first line of each entry is composed of anatural value N1 (1 <N1 <1010), the second line is composed of a value N2 (N1 <N2<1032).\n",
    "\n",
    "**Output:**\n",
    "For each test case print the amount of contiguous subsequences and the position where the substring starts, if there is more of a subsequence, print where it started the last substring. If no there subsequence, print \"Nao existe subsequencia\" (that means no there subsequence). Show the result as the sample output."
   ]
  },
  {
   "cell_type": "code",
   "execution_count": 1,
   "metadata": {},
   "outputs": [
    {
     "name": "stdout",
     "output_type": "stream",
     "text": [
      "12\n",
      "1231321455123214565423112\n",
      "Caso #1:\n",
      "Qtd.Subsequencias: 3\n",
      "Pos: 24\n",
      "\n",
      "464133\n",
      "1331646546874694\n",
      "Caso #2:\n",
      "Nao existe subsequencia\n",
      "\n",
      "end\n"
     ]
    }
   ],
   "source": [
    "case = 1\n",
    "while True:\n",
    "    try:\n",
    "        n1 = int(input())\n",
    "        n2 = int(input())\n",
    "        print(\"Caso #%d:\" %case)\n",
    "        \n",
    "        qtd_subseq = str(n2).count(str(n1))\n",
    "            \n",
    "        if qtd_subseq == 0:\n",
    "            print(\"Nao existe subsequencia\")\n",
    "        else:\n",
    "            print(\"Qtd.Subsequencias:\", qtd_subseq)\n",
    "            qt = str(n2).rfind(str(n1))\n",
    "            print('Pos: %d' % (int(qt)+1))\n",
    "            \n",
    "        case+=1\n",
    "        print()\n",
    "    except:\n",
    "        break"
   ]
  },
  {
   "cell_type": "markdown",
   "metadata": {},
   "source": [
    "**Exercise: Pedrinho's Christmas**\n",
    "\n",
    "Pedrinho is a boy who loves family parties, especially Christmas, when he wins gifts from his parents and grandparents. This year, his father promised him a PS4, but only if Pedrinho could solve some challenges throughout the year, one of them, writing a program that calculates how many days are left until Christmas.\n",
    "\n",
    "However, Pedrinho is only 9 years old and knows nothing about programming, but he knows that you, his cousin, mess with \"computer stuff\" and thus, he asked you to write the program for him. Not only that, but he promised to let you play every weekend and for how long you would like to.\n",
    "\n",
    "**Input:**\n",
    "The input consists of several test cases. Each line contains the month and the day of the year 2016 (leap year). Read input until EOF.\n",
    "\n",
    "**Output:**\n",
    "If it's Christmas, print \"E natal!\"; if it's Christmas Eve, print \"E vespera de natal!\"; if it has already passed, print \"Ja passou!\". Otherwise, print \"Faltam X dias para o natal!\", being X the number of days left until Christmas."
   ]
  },
  {
   "cell_type": "code",
   "execution_count": 2,
   "metadata": {},
   "outputs": [
    {
     "name": "stdout",
     "output_type": "stream",
     "text": [
      "12 24\n",
      "E vespera de natal!\n",
      "11 24\n",
      "Faltam 31 dias para o natal!\n",
      "12 29\n",
      "Ja passou!\n",
      "1 5\n",
      "Faltam 355 dias para o natal!\n",
      "12 25\n",
      "E natal!\n",
      "end\n"
     ]
    }
   ],
   "source": [
    "\n",
    "from datetime import datetime, timedelta\n",
    "while True:\n",
    "    try:\n",
    "        m, d = input().split()\n",
    "        if len(m) == 1:\n",
    "            m = '0' + m\n",
    "        if len(d) == 1:\n",
    "            d = '0' + d\n",
    "        data = '2016' + m + d\n",
    "        natal = '20161225'\n",
    "        data = datetime.strptime(data, '%Y%m%d')\n",
    "        natal = datetime.strptime(natal, '%Y%m%d')\n",
    "        dias = (natal - data).days\n",
    "        if dias == 0:\n",
    "            print('E natal!')\n",
    "        elif dias == 1:\n",
    "            print('E vespera de natal!')\n",
    "        elif dias < 0:\n",
    "            print('Ja passou!')\n",
    "        else:\n",
    "            print('Faltam %d dias para o natal!' % dias)\n",
    "\n",
    "    except:\n",
    "        break"
   ]
  },
  {
   "cell_type": "markdown",
   "metadata": {},
   "source": [
    "**Exercise: Two Bills**\n",
    "\n",
    "Gilberto is a famous sfiha vendor. However, although everyone likes his sfihas, he can only give the change with two different bills, i.e., it's not always possible to get the right change. In order to make Gil's life easier, write a program for him to check whether it's possible to give the exact change using two different bills.\n",
    "\n",
    "Available bills: 2, 5, 10, 20, 50 and 100.\n",
    "\n",
    "**Input:**\n",
    "The input contains an integer N representing the buy price and then an integer M representing the price paid by the costumer (N < M ≤ 104). Read input until N = M = 0.\n",
    "\n",
    "**Output:**\n",
    "Print \"possible\" if it's possible to give the exact change or \"impossible\" if it's not."
   ]
  },
  {
   "cell_type": "code",
   "execution_count": 3,
   "metadata": {},
   "outputs": [
    {
     "name": "stdout",
     "output_type": "stream",
     "text": [
      "11 23\n",
      "possible\n",
      "500 650\n",
      "possible\n",
      "100 600\n",
      "impossible\n",
      "9948 9963\n",
      "possible\n",
      "1 2\n",
      "impossible\n",
      "2 4\n",
      "impossible\n",
      "0 0\n"
     ]
    }
   ],
   "source": [
    "notas = [2, 5, 10, 20, 50, 100]\n",
    "while True:\n",
    "    n, m = input().split()\n",
    "    if(n == '0' and m == '0'):\n",
    "        break\n",
    "    n = int(n)\n",
    "    m = int(m)\n",
    "    m -= n\n",
    "    total = 0\n",
    "    \n",
    "    for i in notas:\n",
    "        if(m == i*2):\n",
    "            print('possible')\n",
    "            total = 2\n",
    "            break\n",
    "            \n",
    "    if total == 0:\n",
    "        for i in range(len(notas)-1, -1, -1):\n",
    "            if total == 3:\n",
    "                break\n",
    "            if m - notas[i] >= 0:\n",
    "                m -= notas[i]\n",
    "                total += 1\n",
    "        if (m == 0 and total == 2):\n",
    "            print('possible')\n",
    "        else:\n",
    "            print('impossible')"
   ]
  }
 ],
 "metadata": {
  "kernelspec": {
   "display_name": "Python 3",
   "language": "python",
   "name": "python3"
  },
  "language_info": {
   "codemirror_mode": {
    "name": "ipython",
    "version": 3
   },
   "file_extension": ".py",
   "mimetype": "text/x-python",
   "name": "python",
   "nbconvert_exporter": "python",
   "pygments_lexer": "ipython3",
   "version": "3.6.8"
  }
 },
 "nbformat": 4,
 "nbformat_minor": 2
}
