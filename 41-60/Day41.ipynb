{
 "cells": [
  {
   "cell_type": "markdown",
   "metadata": {},
   "source": [
    "**Exercise: Vitória and Her Indecision**\n",
    "\n",
    "There’s no one in the world more indecisive than Vitória. Despite the fact that she knows she’s a great programmer, like one of the that have a lot of projects in IT field published and many others being written, she’s not sure if she’s going to be a professional programmer. There are nights that she wants to study Computer Science (Ciência da Computação, in portuguese), there are days she wants to study some Engineering, some days she even talks about taking some Humanities course, what a sin! But you can help her do the right choice. Your task is simple, It’ll be given a list with the bachelor courses that Vitória is in doubt, the output should be the course she must choose.\n",
    "\n",
    "**Input:**\n",
    "The first line of the input is an integer 1 ≤ n ≤ 2000, representing the number of courses that must be considered. Each of the next n lines, there is a course S, 1 ≤ |S| ≤ 100, the name of one of the courses Vitória is in the doubt.\n",
    "\n",
    "**Output:**\n",
    "Print the name of the course Vitória must take in portuguese without accentuation.\n",
    "\n"
   ]
  },
  {
   "cell_type": "code",
   "execution_count": 1,
   "metadata": {},
   "outputs": [
    {
     "name": "stdout",
     "output_type": "stream",
     "text": [
      "3\n",
      "Sociologia\n",
      "Filosofia\n",
      "Fisica\n",
      "Ciencia da Computacao\n"
     ]
    }
   ],
   "source": [
    "for x in range(int(input())):\n",
    "    input()\n",
    "print(\"Ciencia da Computacao\")"
   ]
  },
  {
   "cell_type": "markdown",
   "metadata": {},
   "source": [
    "**Exercise: Triangle**\n",
    "\n",
    "Ana and her friends are making a geometry work to school, they need to create various triangles on a chart, with a few sticks of different lengths. Soon they realized that you can not form triangles with three rods of any lengths: if one of the rods is too large relative to the other two, you can't form a triangle.\n",
    "\n",
    "In this issue, you have to help Ana and her friends to determine if, given the lengths of four rods, it is or not possible to select three rods, among the four, and form a triangle.\n",
    "\n",
    "**Input:**\n",
    "The entry consists of one line containing four integers A, B, C and D (1 ≤ A, B, C, D ≤ 100).\n",
    "\n",
    "**Output:**\n",
    "Your program should only produce a line containing only one character, which must be 'S' if it is possible to form the triangle or 'N' if you can not form a triangle."
   ]
  },
  {
   "cell_type": "code",
   "execution_count": 2,
   "metadata": {},
   "outputs": [
    {
     "name": "stdout",
     "output_type": "stream",
     "text": [
      "6 9 22 15\n",
      "S\n"
     ]
    }
   ],
   "source": [
    "a,b,c,d = map(int, input().split())\n",
    "\n",
    "if a + b > c and b + c > a and a + c > b:\n",
    "    print('S')\n",
    "elif b + c > d and c + d > b and b + d > c:\n",
    "    print('S')\n",
    "elif a + c > d and c + d > a and a + d > c:\n",
    "    print('S')\n",
    "elif a + b > d and b + d > a and a + d > b:\n",
    "    print('S')\n",
    "else:\n",
    "    print('N')"
   ]
  },
  {
   "cell_type": "markdown",
   "metadata": {},
   "source": [
    "**Exercise: Electrical Outlet**\n",
    "\n",
    "Finally, the team from the University managed to qualify for the Finals of the SBC Programming Marathon. The three members of the team and their coach are looking forward to represent the university, and besides trainining very much, prepare with every detail your trip to São Paulo, where will be held the National Final.\n",
    "\n",
    "They plan to carry with them all their electronic devices: mobile phone, tablet, laptop, wifi hotspot, camera, etc, and know they will need several power outlets to connect all these devices. They were told that the four will be in the same hotel room, but have been advised that in each room there is only one available power outlet.\n",
    "\n",
    "Prevented, the three members of the team and the coach bought each a power strip, thus connect several devices at one outlet of the hotel room; they may also connect one another in strip to further increase the number of available sockets. However, as the rules have many outlets, they asked you to write a program that, given the number of outlets in each rule, determine the maximum number of devices that can be connected to the energy in the same instant.\n",
    "\n",
    "**Input:**\n",
    "The input consists of a line with four integers T1, T2, T3, T4, indicating the number of taken from each of the four strips (2 ≤ Ti ≤ 6).\n",
    "\n",
    "**Output:**\n",
    "Your program should produce a single line containing a single integer indicating the maximum number of devices that can be connected to the energy in the same instant."
   ]
  },
  {
   "cell_type": "code",
   "execution_count": 3,
   "metadata": {},
   "outputs": [
    {
     "name": "stdout",
     "output_type": "stream",
     "text": [
      "2 4 3 2\n",
      "8\n"
     ]
    }
   ],
   "source": [
    "numbers = [int(n) for n in input().split()]\n",
    "print(sum(numbers)-3)"
   ]
  }
 ],
 "metadata": {
  "kernelspec": {
   "display_name": "Python 3",
   "language": "python",
   "name": "python3"
  },
  "language_info": {
   "codemirror_mode": {
    "name": "ipython",
    "version": 3
   },
   "file_extension": ".py",
   "mimetype": "text/x-python",
   "name": "python",
   "nbconvert_exporter": "python",
   "pygments_lexer": "ipython3",
   "version": "3.6.8"
  }
 },
 "nbformat": 4,
 "nbformat_minor": 2
}
