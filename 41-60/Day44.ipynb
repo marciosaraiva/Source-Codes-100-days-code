{
 "cells": [
  {
   "cell_type": "markdown",
   "metadata": {},
   "source": [
    "**Exercise: A Long, Long Time Ago**\n",
    "\n",
    "Raul Seixas sang that he was born 10 thousand years ago and there was nothing in this world that he cannot know too much. The Mamomas Assassinas band sang that more than 10 thousand years \"have gone by and passed\" [sic] since they have failed at 5th grade. So many past events and professor MC was curious about what year each of these have happened.\n",
    "\n",
    "You must write a program that, given a series of how many years have passed, show, for each number, in what year the event had happened. Remember that you must indicate if it had happened BC (Before Christ) or AD (Anno Domini). Use the portuguese A.C. for BC and D.C. for AD according to the output sample.\n",
    "\n",
    "**Input:**\n",
    "The input has several lines. The first one has a positive integer number N (1 ≤ N ≤ 100000). There are N lines after the first one. Each of these N lines has a single non negative integer T, which indicates how many years have passed until 2015 AD (0 ≤ T < 231).\n",
    "\n",
    "**Output:**\n",
    "The output has N lines. In each one there is the year A in which the correspondent time T had happened. Look at the sample output."
   ]
  },
  {
   "cell_type": "code",
   "execution_count": 1,
   "metadata": {},
   "outputs": [
    {
     "name": "stdout",
     "output_type": "stream",
     "text": [
      "3\n",
      "10000\n",
      "7986 A.C.\n",
      "15\n",
      "2000 D.C.\n",
      "2015\n",
      "1 A.C.\n"
     ]
    }
   ],
   "source": [
    "for x in range(int(input())):\n",
    "    year = int(input())\n",
    "    if year <= 2014:\n",
    "        print(\"%d D.C.\" %(2015 - year))\n",
    "    else:\n",
    "        print(\"%d A.C.\" %(year - 2014))"
   ]
  },
  {
   "cell_type": "markdown",
   "metadata": {},
   "source": [
    "**Exercise: The Motion Picture**\n",
    "\n",
    "Welcome to the 3rd UFFS Junior Programming Contest. We sincerely hope the next hours are very productive to you, you get many balloons and, above all, you have fun! Remember that you can ask for a clarification whenever you are not sure that you understand a problem description. Remember also that at 17.30 the automatic judges will be turned off and the competition will enter blind mode, so that all submissions made during this period will begin to be judged only at 18.10. Please stay with us till the end of the competition, working on solutions for the problems till the last minute, because, as long as the contest is running, there is still hope!\n",
    "\n",
    "And it was hope that motivated Grandma Zazá, a 72-year-old lady, to fulfill her dream of starting an undergraduate course. She is fascinated by everything related to the University: the classes, the library, the research and extension projects, the refectory, but especially the student card that she can use to get 50% off cinema tickets. Last week Grandma Zazá and her colleagues went to the cinema to watch a movie, but they were appalled at the ticket price increase. Disgusted, they decided to make a protest, scheduled for tomorrow at General Bertaso Square, against the oppressive capitalist system. Grandma Zazá wants to collaborate with the movement by making a poster with the following watchword:\n",
    "\n",
    "HOW ABSURD! THE PRICE OF CINEMA TICKETS HAS RISEN … % !!\n",
    "\n",
    "But she is not good at Math, so she is asking you to helpfully calculate the percentage she needs to complete the poster.\n",
    "\n",
    "**Input:**\n",
    "The only input line consists of two values A and B (0.00 < A ≤ B ≤ 1000.00), given with exactly two digits after the decimal point, which represent respectively the old and the new prices of the cinema tickets.\n",
    "\n",
    "**Output:**\n",
    "The only output line shall consist of a single value, representing as a percentage the ticket price increase. The value shall be followed by the symbol % and shall contain two digits after the decimal point."
   ]
  },
  {
   "cell_type": "code",
   "execution_count": 2,
   "metadata": {},
   "outputs": [
    {
     "name": "stdout",
     "output_type": "stream",
     "text": [
      "50 100\n",
      "100.00%\n"
     ]
    }
   ],
   "source": [
    "a, b = map(float, input().split())\n",
    "\n",
    "print(\"{:.2f}%\".format(((b*100)/a)-100))"
   ]
  },
  {
   "cell_type": "markdown",
   "metadata": {},
   "source": [
    "**Exercise: Star Trek**\n",
    "\n",
    "After buying many adjacent farms at the west region of Santa Catarina, the Star family built a single road which passes by all farms in sequence. The first farm of the sequence was named Star 1, the second Star 2, and so on. However, the brother who lives in Star 1 has got mad and decided to make a Star Trek in order to steal sheep from the proprieties of his siblings. But he is definitely crazy. When passes by the farm Star i, he steals only one sheep (if there is any) from that farm and moves on either to Star i + 1 or Star i - 1, depending on whether the number of sheep in Star i was, respectively, odd or even. If there is not the Star to which he wants to go, he halts his trek. The mad brother starts his Star Trek in Star 1, stealing a sheep from his own farm.\n",
    "\n",
    "**Input:**\n",
    "The first input line consists of a single integer N (1 ≤ N ≤ 106), which represents the number of Stars. The second input line consists of N integers, such that the ith integer, Xi (1 ≤ Xi ≤ 106), represents the initial number of sheep in Star i.\n",
    "\n",
    "**Output:**\n",
    "Output a line containing two integers, so that the first represents the number of Stars attacked by the mad brother and the second represents the total number of non-stolen sheep."
   ]
  },
  {
   "cell_type": "code",
   "execution_count": 3,
   "metadata": {},
   "outputs": [
    {
     "name": "stdout",
     "output_type": "stream",
     "text": [
      "8\n",
      "1 3 5 7 11 13 16 19\n",
      "7 63\n"
     ]
    }
   ],
   "source": [
    "n = int(input())\n",
    "nums = input()\n",
    "nums = map(int,nums.split())\n",
    "pos,sheep,total = 0,0,0\n",
    "fl_continue = True\n",
    "\n",
    "for i,num in enumerate(nums):\n",
    "    total+=num\n",
    "    if(num%2==0 and fl_continue):\n",
    "        atack = i+1\n",
    "        sheep+=((i*2)+1)-pos\n",
    "        fl_continue=False\n",
    "    if(num-1==0 and fl_continue):\n",
    "        pos = i+1\n",
    "\n",
    "else:\n",
    "    if(sheep>0):\n",
    "        total-=sheep\n",
    "    else:\n",
    "        atack = n\n",
    "        total-=atack\n",
    "\n",
    "print(\"%d %d\"%(atack,total))"
   ]
  }
 ],
 "metadata": {
  "kernelspec": {
   "display_name": "Python 3",
   "language": "python",
   "name": "python3"
  },
  "language_info": {
   "codemirror_mode": {
    "name": "ipython",
    "version": 3
   },
   "file_extension": ".py",
   "mimetype": "text/x-python",
   "name": "python",
   "nbconvert_exporter": "python",
   "pygments_lexer": "ipython3",
   "version": "3.6.8"
  }
 },
 "nbformat": 4,
 "nbformat_minor": 2
}
