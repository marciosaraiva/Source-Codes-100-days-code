{
 "cells": [
  {
   "cell_type": "markdown",
   "metadata": {},
   "source": [
    "**Exercise: The Chosen**\n",
    "\n",
    "Everyone is talking about the Jatoba Teacher classes. The MEC representatives came to the UNIME of Lauro de Freitas to know more details about this new way of teaching algorithms. In addition, they wanted to select one student to participate in the OBI-Tec (Olympiad Informatics Technical Level) and represent Kroton in the competition, because they know that there are the best. To select the best, they have available a list of the registration number of each student and their respective notes in the discipline. Your task is to help the Ministry of Education staff to find students better able to represent the institution and who knows guarantee your place. If the highest score is not greater than or equal to 8, you should print \"Minimum note not reached\" .\n",
    "\n",
    "**Input:**\n",
    "The file first contains the number of students (3 <= n <= 100) and then the n students bearing the registration number (0 < m < 1000000) each, followed by the note (0 <= note <= 10.0, with 1 decimal place).\n",
    "\n",
    "Obs .: the notes will not be repeated. In other words, has no chance to have two students with the same note.\n",
    "\n",
    "**Output:**\n",
    "You must print the student's registration number with the highest score or \"Minimum note not reached\" (without quotes) if no student has taken greater note than or equal to 8."
   ]
  },
  {
   "cell_type": "code",
   "execution_count": 1,
   "metadata": {},
   "outputs": [
    {
     "name": "stdout",
     "output_type": "stream",
     "text": [
      "3\n",
      "1001 5\n",
      "1002 9.5\n",
      "1003 8.3\n",
      "1002\n"
     ]
    }
   ],
   "source": [
    "dictionary_students = {}\n",
    "\n",
    "for x in range(int(input())):\n",
    "    student, note = input().split()\n",
    "    dictionary_students[student] = float(note)\n",
    "    \n",
    "max_note = max(list(dictionary_students.values()))\n",
    "\n",
    "if max_note>=8:   \n",
    "    for position, x in enumerate(dictionary_students.values()):\n",
    "        if x == max_note:\n",
    "            print(list(dictionary_students.keys())[position])\n",
    "            break\n",
    "else:\n",
    "    print(\"Minimum note not reached\")\n",
    "        "
   ]
  },
  {
   "cell_type": "markdown",
   "metadata": {},
   "source": [
    "**Exercise: The Pronalância Puzzle**\n",
    "\n",
    "NASA scientists have discovered a new exoplanet which is 1 billion light years from earth. The name of this planet was named Pronalândia in honor of the young scientists being formed in PRONATEC. But the most amazing is yet to come. Observing the planet they were able to identify that the inhabitants of Pronalândia were trying to communicate with a number. But the number who have found is reversed and how they found many of them, they called you to be able to automate this process. Thus, given a number, your task is to print the invert number.\n",
    "\n",
    "**Input:**\n",
    " The file contains only a test line which is the number found (0 < n < 9999999999).\n",
    "\n",
    "Note.: the read number is too high to store in a variable of type int, so you will need to use the long type, for reading and printing in C, you should use the %llu.\n",
    "\n",
    "**Output:**\n",
    "print read number inverted. Do not forget to print the end of line (\\n) else you will receved the Presentation Error message."
   ]
  },
  {
   "cell_type": "code",
   "execution_count": 2,
   "metadata": {},
   "outputs": [
    {
     "name": "stdout",
     "output_type": "stream",
     "text": [
      "1234\n",
      "4321\n"
     ]
    }
   ],
   "source": [
    "print(input(\"\")[::-1].strip())"
   ]
  },
  {
   "cell_type": "markdown",
   "metadata": {},
   "source": [
    "**Exercise: MacPRONALTS**\n",
    "\n",
    "The MacPRONALTS is with a super promotion, exclusive to the contestants of the first Selective MaratonaTEC. But they had a problem, all runners were trying to buy at the same time, so this generated a very long queue. The worst is that the cashier girl no have calculator or a program to help her to calculate more quickly. You are the person that will help the girl and the MacPRONALTS increase their sells. Bellow has a menu day, that contains the product number and its value.\n",
    "\n",
    "1001 | R$ 1.50\n",
    "\n",
    "1002 | R$ 2.50\n",
    "\n",
    "1003 | R$ 3.50\n",
    "\n",
    "1004 | R$ 4.50\n",
    "\n",
    "1005 | R$ 5.50\n",
    "\n",
    "**Input:**\n",
    "The first entry is reported the number of purchased products (1 <= p <= 5). For each product follows the quantity (1 <= q <= 500) that the customer purchased.\n",
    "\n",
    "Obs .: the product number will not be repeated.\n",
    "\n",
    "**Output:**\n",
    "You must print the purchase amount with two decimal places."
   ]
  },
  {
   "cell_type": "code",
   "execution_count": 3,
   "metadata": {},
   "outputs": [
    {
     "name": "stdout",
     "output_type": "stream",
     "text": [
      "2\n",
      "1001 2\n",
      "1002 2\n",
      "8.00\n"
     ]
    }
   ],
   "source": [
    "menu = {1001:1.50, 1002:2.50, 1003:3.50, 1004:4.50, 1005:5.50}\n",
    "result = 0\n",
    "for x in range(int(input())):\n",
    "    product, quantity = map(int, input().split())\n",
    "    result+= menu[product]*quantity\n",
    "print(\"{:.2f}\".format(result))"
   ]
  }
 ],
 "metadata": {
  "kernelspec": {
   "display_name": "Python 3",
   "language": "python",
   "name": "python3"
  },
  "language_info": {
   "codemirror_mode": {
    "name": "ipython",
    "version": 3
   },
   "file_extension": ".py",
   "mimetype": "text/x-python",
   "name": "python",
   "nbconvert_exporter": "python",
   "pygments_lexer": "ipython3",
   "version": "3.6.8"
  }
 },
 "nbformat": 4,
 "nbformat_minor": 2
}
