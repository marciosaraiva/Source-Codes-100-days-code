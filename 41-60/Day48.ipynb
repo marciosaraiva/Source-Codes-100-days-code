{
 "cells": [
  {
   "cell_type": "markdown",
   "metadata": {},
   "source": [
    "**Exercise: Odd, Even or Cheating**\n",
    "By Marianne Linhares, UFCG BR Brazil\n",
    "\n",
    "Timelimit: 1\n",
    "A new game called Odd, Even or Cheating is currently (OEC) is now one of the most popular games in the world. This game was created when some friends had no internet connection, no cellphone, no computer, and pretty much nothing to do. The game is so popular that is going to happen the mundial championship of OEC and each country of the world will choose a representant to compete in this championship.\n",
    "\n",
    "The game works like this: it's a two players game, the player 1 chooses between odd or even, then each player chooses a positive integer, if the sum of these number is even and player 1 chose even, then player 1 wins, if the sum is odd and player 2 chose odd, then player 2 wins. If player 1 chooses odd he/she wins when the sum is odd, and player 2 wins when the sum is even. Nothing new, right?\n",
    "\n",
    "But now there are two more possible moves, player 1 can cheat to make sure that he/she wins independently of the result of the conventional odd or even game, and player 2 can accuse player 1 of cheating. With these additions in the game if player 1 cheats and player 2 accuses him/her of cheating player 2 wins, if player 2 don't accuse and player 1 is cheating then player 1 wins, if player 2 accuses the cheat, but player 1 is not cheating then player 1 wins, if player 1 isn't cheating and player 2 doesn't accuse player 1 then the game will be played as described previously.\n",
    "\n",
    "You were hired by OECIO (Odd, Even or Cheating International Organization) to develop a program that given an OEC match it determines the winner.\n",
    "\n",
    "**Input:**\n",
    "The input consists of one line with 5 integers: p, j1, j2, r, a. ( 0 ≤ p, r, a ≤ 1 e 1 ≤ j1, j2 ≤ 100).\n",
    "\n",
    "p is the player 1 choice (if p = 1 then player 1 chooses even, if p = 0 then player 1 chooses odd). j1, j2, represents respectively the numbers that player 1 chose and the number that player 2 chose. r represents if player 1 cheated (if r = 1 then player 1 cheated, if r = 0 then he/she did not), a represents if player 2 accused player 1 of cheating (if a = 1 then he/she did, if a = 0 then he/she did not).\n",
    "\n",
    "**Output:**\n",
    "Print \"Jogador 1 ganha!\" if player 1 won or \"Jogador 2 ganha!\" if player 2 won (no quotation marks)."
   ]
  },
  {
   "cell_type": "code",
   "execution_count": null,
   "metadata": {},
   "outputs": [],
   "source": [
    "choice, j1, j2, r, a = map(int, input().split(' '))\n",
    "\n",
    "v = 0\n",
    "\n",
    "if (j1 + j2) % 2 == 0:\n",
    "    if choice == 1:\n",
    "        v = 1\n",
    "    else:\n",
    "        v = 2\n",
    "else:\n",
    "    if choice == 0:\n",
    "        v = 1\n",
    "    else:\n",
    "        v = 2\n",
    "\n",
    "if r == 1 and a == 1:\n",
    "    print('Jogador 2 ganha!')\n",
    "elif r == 1 and a == 0:\n",
    "    print('Jogador 1 ganha!')\n",
    "elif r == 0 and a == 1:\n",
    "    print('Jogador 1 ganha!')\n",
    "elif r == 0 and a == 0:\n",
    "    if v == 1:\n",
    "        print('Jogador 1 ganha!')\n",
    "    elif v == 2:\n",
    "        print('Jogador 2 ganha!')"
   ]
  },
  {
   "cell_type": "markdown",
   "metadata": {},
   "source": [
    "**Exercise: Bino's Challenge**\n",
    "\n",
    "Bino and Cino are close friends. Bino likes to create mathematical challenges to Cino. This time, Bino created a list of numbers and asked to Cino: How many numbers are multiples of 2, 3, 4 and 5?\n",
    "\n",
    "This challenge looks simple, but when the list contains many numbers, Cino makes some miscalculations. To help Cino, make a program to solve the Bino's Challenge.\n",
    "\n",
    "**Input:**\n",
    "The first line of input consists of an integer N (1 ≤ N ≤1000), representing the amount of numbers in the Bino's list.\n",
    "\n",
    "The second line contains N integers Li (1 ≤ Li ≤ 100), representing the numbers of the Bino's list.\n",
    "\n",
    "**Output:**\n",
    "Print the amount of multiples of 2, 3, 4 and 5 in the list. Note the formatting of the output in the output sample, because it must be followed strictly. \"Multiplo(s)\" means \"Multiple(s)\" in English, but you must print the message in Portuguese."
   ]
  },
  {
   "cell_type": "code",
   "execution_count": null,
   "metadata": {},
   "outputs": [],
   "source": [
    "multiplo2 = 0\n",
    "multiplo3 = 0\n",
    "multiplo4 = 0\n",
    "multiplo5 = 0\n",
    "\n",
    "x = int(input())\n",
    "numbers = [int(d) for d in input().split()]\n",
    "\n",
    "for n in numbers:\n",
    "    if n%2==0:\n",
    "        multiplo2+=1\n",
    "    if n%3==0:\n",
    "        multiplo3+=1\n",
    "    if n%4==0:\n",
    "        multiplo4+=1\n",
    "    if n%5==0:\n",
    "        multiplo5+=1\n",
    "    \n",
    "print(\"%d Multiplo(s) de 2\" %multiplo2)\n",
    "print(\"%d Multiplo(s) de 3\" %multiplo3)\n",
    "print(\"%d Multiplo(s) de 4\" %multiplo4)\n",
    "print(\"%d Multiplo(s) de 5\" %multiplo5)\n"
   ]
  },
  {
   "cell_type": "markdown",
   "metadata": {},
   "source": [
    "**Exercise: Closing Tabs**\n",
    "\n",
    "Péricles has an unique interest in history. With his up-to-date internet browser chromed fox, he wandered in the most obscure sites about ancient Greek mythology.\n",
    "\n",
    "By some type of cosmic irony, Péricles' browser was infected by a malware with a peculiar characteristic: every time Péricles closed a tab in his browser, another two opened! However, when Péricles clicked one of the ads (all tabs were infested with ads), the tab crashed, and no other tabs were opened.\n",
    "\n",
    "Your taks is to compute the final number of tabs of Péricles's browser, knowing the initial number of tabs and the actions taken by Péricles. There are two possible actions: fechou (when Péricles closed a tab) and clicou (when Péricles clicked on an ad).\n",
    "\n",
    "**Input:**\n",
    "The input is initiated by a line containing two integer numbers, N e M (0 < N, M < 500), representing the initial number of tabs and the number of actions performed by Péricles. Each subsequent line contains an action (fechou or clicou). Naturally, the current number of tabs is always greater of equal to zero.\n",
    "\n",
    "**Output:**\n",
    "The output must consist of a line containing the final number of tabs."
   ]
  },
  {
   "cell_type": "code",
   "execution_count": null,
   "metadata": {},
   "outputs": [],
   "source": [
    "tabs, number_of_actions = map(int, input().split())\n",
    "\n",
    "for x in range(number_of_actions):\n",
    "    action = input()\n",
    "    \n",
    "    if action == \"fechou\":\n",
    "        tabs+=1\n",
    "    else:\n",
    "        tabs-=1\n",
    "        \n",
    "print(tabs)"
   ]
  },
  {
   "cell_type": "code",
   "execution_count": null,
   "metadata": {},
   "outputs": [],
   "source": []
  }
 ],
 "metadata": {
  "kernelspec": {
   "display_name": "Python 3",
   "language": "python",
   "name": "python3"
  },
  "language_info": {
   "codemirror_mode": {
    "name": "ipython",
    "version": 3
   },
   "file_extension": ".py",
   "mimetype": "text/x-python",
   "name": "python",
   "nbconvert_exporter": "python",
   "pygments_lexer": "ipython3",
   "version": "3.6.8"
  }
 },
 "nbformat": 4,
 "nbformat_minor": 2
}
