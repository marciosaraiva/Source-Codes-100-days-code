{
 "cells": [
  {
   "cell_type": "markdown",
   "metadata": {},
   "source": [
    "**Exercise: Pepe, I Already Took the Candle!**\n",
    "\n",
    "One day, the great hero Chapolout helped a scientist who has created many inventions. One of these inventions is a system that opens the door secret laboratory. The system consists of removing a side door of the candlestick candle, that it opens, and to put the candle back to the chandelier, the door closes. But Chapolout found that the sail was just a pretend. In fact, the scientist assistant, called Pepe, that opened the lab door, inside. A while later, the system was modified to also run the initial project. A pressure sensor placed below the chandelier candle, so that the removal of the active sail system. This system issues a log report for every time the door opened or closed, but the log is quite confusing. Every record, three whole numbers are registered, and the hour and the minute the event occurred and a value that represents the door opened or closed at the time. Pepe asks for your help to convert the log data more readable data to it.\n",
    "\n",
    "Write a program that, given a log record, this is converted into more readable texts.\n",
    "\n",
    "**Input:**\n",
    "The first line contains the number of test cases. Each line of a test case has three integers H, M and O, the time being, the minutes of the occurrence, and the instance itself (zero if the door closed or the door opened).\n",
    "\n",
    "**Output:**\n",
    "For each test case, print the time of the occurrence, in due form, followed by a space, a hyphen and a space, and the phrase \"A porta abriu!\" or \"A porta fechou!\" as the occurrence recorded."
   ]
  },
  {
   "cell_type": "code",
   "execution_count": 1,
   "metadata": {},
   "outputs": [
    {
     "name": "stdout",
     "output_type": "stream",
     "text": [
      "3\n",
      "15 10 0\n",
      "15:10 - A porta fechou!\n",
      "21 35 1\n",
      "21:35 - A porta abriu!\n",
      "0 5 1\n",
      "00:05 - A porta abriu!\n"
     ]
    }
   ],
   "source": [
    "for x in range(int(input())):\n",
    "    h,m,o = map(int, input().split())\n",
    "    if o==1:\n",
    "        print(\"{:02d}:{:02d} - A porta abriu!\".format(h,m))\n",
    "    else:\n",
    "        print(\"{:02d}:{:02d} - A porta fechou!\".format(h,m))"
   ]
  },
  {
   "cell_type": "markdown",
   "metadata": {},
   "source": [
    "**Exercise: Approximate Number of Primes**\n",
    "\n",
    "Schoenfeld and Rosser published a paper in 1962 describing a minimum and a maximum value to the quantity of prime numbers up to n, for n ≥ 17. This quantity is represented by the function (n) and the inequality is shown below.\n",
    "\n",
    "https://resources.urionlinejudge.com.br/gallery/images/contests/931.png\n",
    "\n",
    "Your task is, given a natural number n, to compute the interval's minimum and maximum values to the approximate number of primes up to n.\n",
    "\n",
    "**Input:**\n",
    "The input is a natural number n (17 ≤ n ≤ 109).\n",
    "\n",
    "**Output:**\n",
    "The output is given as two values P and M with 1 decimal place each, such that P < (n) < M according to the given inequality above. These two values have one blank space between them."
   ]
  },
  {
   "cell_type": "code",
   "execution_count": 2,
   "metadata": {},
   "outputs": [
    {
     "name": "stdout",
     "output_type": "stream",
     "text": [
      "17\n",
      "6.0 7.5\n"
     ]
    }
   ],
   "source": [
    "import math\n",
    "n = float(input())\n",
    "ans1 = n/math.log(n)\n",
    "ans2 = (1.25506)*(n/math.log(n))\n",
    "\n",
    "print(\"{:.1f} {:.1f}\".format(ans1, ans2))"
   ]
  },
  {
   "cell_type": "markdown",
   "metadata": {},
   "source": [
    "**Exercise: Name at Form**\n",
    "\n",
    "Filling forms is a simple task. But it is necessary to check if the reserved space for data is large enough.\n",
    "\n",
    "Your task is, given a text line, to indicate if it fits in an 80 characters length form.\n",
    "\n",
    "**Input:**\n",
    "Input is a text line L (1 ≤ |L| ≤ 500).\n",
    "\n",
    "**Output:**\n",
    "The output is given in a single line. It must be \"YES\" (without quotes) if the text line L is up to 80 characters long. If L has more than 80 characters, the output must be \"NO\"."
   ]
  },
  {
   "cell_type": "code",
   "execution_count": 3,
   "metadata": {},
   "outputs": [
    {
     "name": "stdout",
     "output_type": "stream",
     "text": [
      "Pedro de Alcantara Francisco Antonio Joao Carlos Xavier de Paula Miguel Rafael Joaquim Jose Gonzaga Pascoal Cipriano Serafim\n",
      "NO\n"
     ]
    }
   ],
   "source": [
    "name = input()\n",
    "if len(name) <=80:\n",
    "    print(\"YES\")\n",
    "else:\n",
    "    print(\"NO\")"
   ]
  }
 ],
 "metadata": {
  "kernelspec": {
   "display_name": "Python 3",
   "language": "python",
   "name": "python3"
  },
  "language_info": {
   "codemirror_mode": {
    "name": "ipython",
    "version": 3
   },
   "file_extension": ".py",
   "mimetype": "text/x-python",
   "name": "python",
   "nbconvert_exporter": "python",
   "pygments_lexer": "ipython3",
   "version": "3.6.8"
  }
 },
 "nbformat": 4,
 "nbformat_minor": 2
}
