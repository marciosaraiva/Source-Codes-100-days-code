{
 "cells": [
  {
   "cell_type": "markdown",
   "metadata": {},
   "source": [
    "**Exercise: Tri-du**\n",
    "\n",
    "Tri-du is a card game inspired in the popular game of Truco. The game uses a normal deck of 52 cards, with 13 cards of each suit, but suits are ignored. What is used is the value of the cards, considered as integers between 1 to 13.\n",
    "\n",
    "In the game, each player gets three cards. The rules are simple:\n",
    "\n",
    "- A Three of a Kind (three cards of the same value) wins over a Pair (two cards of the same value).\n",
    "- A Three of a Kind formed by cards of a larger value wins over a Three of a Kind formed by cards of a smaller value.\n",
    "- A Pair formed by cards of a larger value wins over a Pair formed by cards of a smaller value.\n",
    "Note that the game may not have a winner in many situations; in those cases, the cards are returned to the deck, which is re-shuffled and a new game starts.\n",
    "\n",
    "A player received already two of the three cards, and knows their values. Your task is to write a program to determine the value of the third card that maximizes the probability of that player winning the game.\n",
    "\n",
    "**Input:**\n",
    "The input contains several test cases. In each test case, the input consists of a single line, which contains two integers A (1 ≤ A ≤ 13) and B (1 ≤ B ≤ 13) that indicates the value of the two first received cards.\n",
    "\n",
    "**Output:**\n",
    "For each test case in the input, your program must produce a single line, containing exactly one integer, representing the value of the card that maximizes the probability of the player winning the game."
   ]
  },
  {
   "cell_type": "code",
   "execution_count": 1,
   "metadata": {},
   "outputs": [
    {
     "name": "stdout",
     "output_type": "stream",
     "text": [
      "10 7\n",
      "10\n"
     ]
    }
   ],
   "source": [
    "cards = [int(c) for c in input().split()]\n",
    "print(max(cards))"
   ]
  },
  {
   "cell_type": "markdown",
   "metadata": {},
   "source": [
    "**Exercise: Converting to Hexadecimal**\n",
    "\n",
    "Data stored in computers are in binary. An economic way of visualizing these numbers is the usage of base 16 (hexadecimal).\n",
    "\n",
    "Your task is to write a program that, given a natural number at base 10, shows its representation in hexadecimal.\n",
    "\n",
    "**Input:**\n",
    "The input is a positive integer number V at base 10 (1 ≤ V ≤ 2 x 109).\n",
    "\n",
    "**Output:**\n",
    "The output is the same number V at base 16 in a single line (don't forget the end-of-line character). Use uppercase letters, as shown in the examples."
   ]
  },
  {
   "cell_type": "code",
   "execution_count": 2,
   "metadata": {},
   "outputs": [
    {
     "name": "stdout",
     "output_type": "stream",
     "text": [
      "31\n",
      "1F\n"
     ]
    }
   ],
   "source": [
    "print(str(hex(int(input())))[2:].upper())"
   ]
  },
  {
   "cell_type": "markdown",
   "metadata": {},
   "source": [
    "**Exercise: Scientific Notation**\n",
    "\n",
    "Floating point numbers can be very long to show. In these cases, it is convenient to use the scientific notation.\n",
    "\n",
    "You must write a program that, given a floating point number, shows this number in scientific notation: always show the mantissa sign; always show the mantissa with 4 decimal places; use the character 'E' between the mantissa and the exponent; always show the exponent sign; and show the exponent with at least 2 digits.\n",
    "\n",
    "**Input:**\n",
    "The input is a double precision floating point number X (according to the IEEE 754-2008 standard). There will never be a number with more than 110 characters long and more than 6 decimal places.\n",
    "\n",
    "**Output:**\n",
    "The output is the number X in a single line using the scientific notation detailed above. See the examples below."
   ]
  },
  {
   "cell_type": "code",
   "execution_count": 3,
   "metadata": {},
   "outputs": [
    {
     "name": "stdout",
     "output_type": "stream",
     "text": [
      "602214085774747474747474\n",
      "+6.0221E+23\n"
     ]
    }
   ],
   "source": [
    "print(\"%+.4E\" %(float(input())))"
   ]
  }
 ],
 "metadata": {
  "kernelspec": {
   "display_name": "Python 3",
   "language": "python",
   "name": "python3"
  },
  "language_info": {
   "codemirror_mode": {
    "name": "ipython",
    "version": 3
   },
   "file_extension": ".py",
   "mimetype": "text/x-python",
   "name": "python",
   "nbconvert_exporter": "python",
   "pygments_lexer": "ipython3",
   "version": "3.6.8"
  }
 },
 "nbformat": 4,
 "nbformat_minor": 2
}
