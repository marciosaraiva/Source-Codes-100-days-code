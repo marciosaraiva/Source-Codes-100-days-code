{
 "cells": [
  {
   "cell_type": "markdown",
   "metadata": {},
   "source": [
    "**Exercise: Sunday Morning**\n",
    "\n",
    "Sunday is market day. Early in the morning many people move to the Parangaba square where happens a fair, known to be the largest in the city. At the fair the Parangaba you can find everything.\n",
    "\n",
    "Every Sunday, Bino make purchases at the fair. He always mark with his friend Cino, they met at the bus terminal of Parangaba at 8 am to go together to buy at the fair. But often Bino wake up too late and is late for the meeting with his friend.\n",
    "\n",
    "Knowing that Bino takes 30-60 minutes to reach the terminal. Tell the maximum delay Bino.\n",
    "\n",
    "**Input:**\n",
    "The input consists of multiple test cases. Each case contains a single line containing a time H (5:00 ≤ H ≤ 9:00) that Bino woken up. The input ends with the final file (EOF).\n",
    "\n",
    "**Output:**\n",
    "For each test case, print \"Atraso maximo: X\" (without quotes), X indicates the maximum delay (in minutes) of Bino in the encounter with Cino."
   ]
  },
  {
   "cell_type": "code",
   "execution_count": 1,
   "metadata": {},
   "outputs": [
    {
     "name": "stdout",
     "output_type": "stream",
     "text": [
      "7:10\n",
      "Atraso maximo: 10\n",
      "5:00\n",
      "Atraso maximo: 0\n",
      "7:45\n",
      "Atraso maximo: 45\n",
      "end\n"
     ]
    }
   ],
   "source": [
    "from datetime import datetime\n",
    "while True:\n",
    "    try:\n",
    "        hours, minutes = map(int, input().split(\":\"))\n",
    "        cino = '2019/11/18 08:00:00'\n",
    "        bino = '2019/11/18 {}:{}:00'.format(hours+1,minutes)\n",
    "        f = '%Y/%m/%d %H:%M:%S'\n",
    "        dif = (datetime.strptime(bino, f) - datetime.strptime(cino, f)).total_seconds()\n",
    "        if dif>0:\n",
    "            print(\"Atraso maximo:\", int(dif/60))\n",
    "        else:\n",
    "            print(\"Atraso maximo: 0\")\n",
    "    except:\n",
    "        break"
   ]
  },
  {
   "cell_type": "markdown",
   "metadata": {},
   "source": [
    "**Exercise: Identifying Tea**\n",
    "\n",
    "Blind tea tasting is the skill of identifying a tea by using only your senses of smell and taste.\n",
    "\n",
    "As part of the Ideal Challenge of Pure-Tea Consumers (ICPC), a local TV show is organized. During the show, a full teapot is prepared and five contestants are handed a cup of tea each. The participants must smell, taste and assess the sample so as to identify the tea type, which can be: (1) white tea; (2) green tea; (3) black tea; or (4) herbal tea. At the end, the answers are checked to determine the number of correct guesses.\n",
    "\n",
    "Given the actual tea type and the answers provided, determine the number of contestants who got the correct answer.\n",
    "\n",
    "**Input:**\n",
    "The first line contains an integer T representing the tea type (1 ≤ T ≤ 4). The second line contains five integers A, B, C, D and E, indicating the answer given by each contestant (1 ≤ A, B, C, D, E ≤ 4).\n",
    "\n",
    "**Output:**\n",
    "Output a line with an integer representing the number of contestants who got the correct answer."
   ]
  },
  {
   "cell_type": "code",
   "execution_count": 2,
   "metadata": {},
   "outputs": [
    {
     "name": "stdout",
     "output_type": "stream",
     "text": [
      "3\n",
      "1 2 3 3 4\n",
      "2\n"
     ]
    }
   ],
   "source": [
    "T = input()\n",
    "contestant = input()\n",
    "\n",
    "print(contestant.count(T))"
   ]
  },
  {
   "cell_type": "markdown",
   "metadata": {},
   "source": [
    "**Exercise: Sequence of Sequence**\n",
    "\n",
    "Hyam is a guy that loves sequences. He is finding interesting sequences that even Fibonacci would not have imagined. One day Hyam saw that given a number N, he could make a sequence like 0 1 2 2 3 3 3 4 4 4 …N N N … N. However, Hyam saw that each value that increased in the sequence number, the total quantity increases at a factorial rate. In this case, instead of multiplying, you add the total number of numbers to the sequence with the value of the next number in the sequence. For example, if N = 2. The correct sequence would be 0 1 2 2, which is 4 digits. Now, if N = 3, the next number in the sequence would have the value 3, so the total quantity of numbers in the sequence would bem the quantiy of numbers with N = 2, which is 4, plus the value of the next number in the sequence, in this case 3, giving you 7, since the correct sequence for N = 3 is 0 1 2 2 3 3 3.\n",
    "\n",
    "Your task is make an algorithm that given a integer N, has as answer the total quantity of numbers of this sequence and below the complete sequence.\n",
    "\n",
    "**Input:**\n",
    "The input consists of several test cases. Each case is composed of an integer N (0 <= N <= 200) that indicates the last value of the last N numbers of the sequence numbers.\n",
    "The input ends with end of file (EOF).\n",
    "\n",
    "**Output:**\n",
    "The output is in format Case X: N numbers where X is the order of number of cases and N is the number of numbers that contains the complete sequence, the next line sequence numbers with a space between them. You are asked to leave a blank line after each case."
   ]
  },
  {
   "cell_type": "code",
   "execution_count": 3,
   "metadata": {},
   "outputs": [
    {
     "name": "stdout",
     "output_type": "stream",
     "text": [
      "2\n",
      "Caso 1: 4 numeros\n",
      "0 1 2 2\n",
      "\n",
      "3\n",
      "Caso 2: 7 numeros\n",
      "0 1 2 2 3 3 3\n",
      "\n",
      "4\n",
      "Caso 3: 11 numeros\n",
      "0 1 2 2 3 3 3 4 4 4 4\n",
      "\n",
      "0\n",
      "Caso 4: 1 numero\n",
      "0\n",
      "\n",
      "end\n"
     ]
    }
   ],
   "source": [
    "case = 1\n",
    "while True:\n",
    "    try:\n",
    "        n = 1\n",
    "        number = int(input())\n",
    "\n",
    "        for i in range(number + 1):\n",
    "            n += i\n",
    "\n",
    "        if n == 1:\n",
    "            print('Caso %d: %d numero' %(case, n))\n",
    "        else:\n",
    "            print('Caso %d: %d numeros' %(case, n))\n",
    "\n",
    "       \n",
    "        if number == 0:\n",
    "            print(0)\n",
    "        else:\n",
    "            print(0, end=' ')\n",
    "\n",
    "\n",
    "        for i in range(number+1):\n",
    "            for repetition in range(i):\n",
    "                if i == number and repetition == number - 1:\n",
    "                    print(i)\n",
    "                else:\n",
    "                    print(i, end=' ')\n",
    "\n",
    "        print('')\n",
    "        case += 1\n",
    "    except:\n",
    "        break"
   ]
  }
 ],
 "metadata": {
  "kernelspec": {
   "display_name": "Python 3",
   "language": "python",
   "name": "python3"
  },
  "language_info": {
   "codemirror_mode": {
    "name": "ipython",
    "version": 3
   },
   "file_extension": ".py",
   "mimetype": "text/x-python",
   "name": "python",
   "nbconvert_exporter": "python",
   "pygments_lexer": "ipython3",
   "version": "3.6.8"
  }
 },
 "nbformat": 4,
 "nbformat_minor": 2
}
