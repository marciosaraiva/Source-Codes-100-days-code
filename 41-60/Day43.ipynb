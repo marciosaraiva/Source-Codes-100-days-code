{
 "cells": [
  {
   "cell_type": "markdown",
   "metadata": {},
   "source": [
    "**Exercise: Regular Simple Polygons**\n",
    "\n",
    "In Euclidean geometry, a regular polygon is a polygon that is equiangular (all angles are equal in measure) and equilateral (all sides have the same length). A simple polygon is one that does not intersect itself anywhere. Below we can see various mosaics made of regular polygons.\n",
    "\n",
    "https://www.urionlinejudge.com.br/gallery/images/contests/C_1.jpg\n",
    "\n",
    "You must write a program that, given the number and the length of sides of a regular polygon, show its perimeter.\n",
    "\n",
    "**Input:**\n",
    "The input are two positive integers: N and L, which are, respectively, the number of sides and the length of each side of a regular polygon (3 ≤ N ≤ 1000000 and 1 ≤ L ≤ 4000).\n",
    "\n",
    "**Output:**\n",
    "The output is the perimeter P of the regular polygon in a single line."
   ]
  },
  {
   "cell_type": "code",
   "execution_count": 1,
   "metadata": {},
   "outputs": [
    {
     "name": "stdout",
     "output_type": "stream",
     "text": [
      "9 8\n",
      "72\n"
     ]
    }
   ],
   "source": [
    "N, L = map(int, input().split())\n",
    "print(N*L)"
   ]
  },
  {
   "cell_type": "markdown",
   "metadata": {},
   "source": [
    "**Exercise: Roman Numerals for Page Numbers**\n",
    "\n",
    "The ECI (Editio Chronica Incredibilis or Amazing Chronicles Editors) is very traditional when numbering the pages of its books. It always uses the Roman numerals for that. And its books never have more than 999 pages. When necessary, the books are split into volumes.\n",
    "\n",
    "You must write a program that, given an arabic number, show its equivalent in roman numerals.\n",
    "\n",
    "Remember that I stands for 1, V for 5, X for 10, L for 50, C for 100, D for 500 and M stands for 1000.\n",
    "\n",
    "**Input:**\n",
    "The input is a positive integer number N (0 < N < 1000).\n",
    "\n",
    "**Output:**\n",
    "The output is the number N written as Roman numerals in a single line. Always use uppercase letters."
   ]
  },
  {
   "cell_type": "code",
   "execution_count": 2,
   "metadata": {},
   "outputs": [
    {
     "name": "stdout",
     "output_type": "stream",
     "text": [
      "83\n",
      "LXXXIII\n"
     ]
    }
   ],
   "source": [
    "def int_to_Roman(num):\n",
    "        val = [\n",
    "            1000, 900, 500, 400,\n",
    "            100, 90, 50, 40,\n",
    "            10, 9, 5, 4,\n",
    "            1\n",
    "            ]\n",
    "        syb = [\n",
    "            \"M\", \"CM\", \"D\", \"CD\",\n",
    "            \"C\", \"XC\", \"L\", \"XL\",\n",
    "            \"X\", \"IX\", \"V\", \"IV\",\n",
    "            \"I\"\n",
    "            ]\n",
    "        roman_num = ''\n",
    "        i = 0\n",
    "        while  num > 0:\n",
    "            for _ in range(num // val[i]):\n",
    "                roman_num += syb[i]\n",
    "                num -= val[i]\n",
    "            i += 1\n",
    "        return roman_num\n",
    "\n",
    "num = int(input())\n",
    "print(int_to_Roman(num))"
   ]
  },
  {
   "cell_type": "markdown",
   "metadata": {},
   "source": [
    "**Exercise: Jumping Frog**\n",
    "\n",
    "In each stage of the Jumping Frog game you must safely get your amphibian through a sequence of pipes of different heights to the rightmost pipe. Nevertheless the frog just survives if the height difference of consecutive pipes is at most the frog jump height. If the next pipe height is too high, the frog hits the pipe and fall. If the next pipe height is too low, the frog does not survive the fall. The frog always starts on the top of the leftmost pipe.\n",
    "\n",
    "In this game the distance of pipes is irrelevant, which means that the frog always can reach the next pipe with a jump.\n",
    "\n",
    "https://www.urionlinejudge.com.br/gallery/images/contests/E_1.png\n",
    "\n",
    "You must write a program that, given the pipe heights and the frog jump height, show if the game stage can be beaten or not.\n",
    "\n",
    "**Input:**\n",
    "The input is given in two lines. The first one has two positive integer numbers P and N, the frog jump height and the number of pipes (1 ≤ P ≤ 5 and 2 ≤ N ≤ 100). The second line has N positive integer numbers that indicate the pipes heights ordered from left to right. There are no height greater than 10.\n",
    "\n",
    "**Output:**\n",
    "The output is given in a single line. If the frog can reach the rightmost pipe write \"YOU WIN\". If the frog fails, write \"GAME OVER\"."
   ]
  },
  {
   "cell_type": "code",
   "execution_count": 3,
   "metadata": {},
   "outputs": [
    {
     "name": "stdout",
     "output_type": "stream",
     "text": [
      "5 10\n",
      "1 3 6 9 7 2 4 5 8 3\n",
      "YOU WIN\n"
     ]
    }
   ],
   "source": [
    "p, n = map(int, input().split())\n",
    "pipes = [int(p) for p in input().split()]\n",
    "\n",
    "win = True\n",
    "\n",
    "for x in range(1,n):\n",
    "    if abs(pipes[x]-pipes[x-1])>p:\n",
    "        win = False\n",
    "\n",
    "if win:\n",
    "    print(\"YOU WIN\")\n",
    "else:\n",
    "    print(\"GAME OVER\")\n"
   ]
  }
 ],
 "metadata": {
  "kernelspec": {
   "display_name": "Python 3",
   "language": "python",
   "name": "python3"
  },
  "language_info": {
   "codemirror_mode": {
    "name": "ipython",
    "version": 3
   },
   "file_extension": ".py",
   "mimetype": "text/x-python",
   "name": "python",
   "nbconvert_exporter": "python",
   "pygments_lexer": "ipython3",
   "version": "3.6.8"
  }
 },
 "nbformat": 4,
 "nbformat_minor": 2
}
