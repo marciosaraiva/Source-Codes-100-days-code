{
 "cells": [
  {
   "cell_type": "markdown",
   "metadata": {},
   "source": [
    "**Exercise: Lowest Number and Position**\n",
    "\n",
    "Write a program that reads a number N. This N is the size of a array X[N]. Next, read each of the numbers of X, find the smallest element of this array and its position within the array, printing this information.\n",
    "\n",
    "**Input:**\n",
    "The first line of input contains one integer N (1 < N < 1000), indicating the number of elements that should be read to an array X[N] of integer numbers. The second row contains each of the N values, separated by a space.\n",
    "\n",
    "**Output:**\n",
    "The first line displays the message “Menor valor:” followed by a space and the lowest number read in the input. The second line displays the message “Posicao:” followed by a space and the array position in which the lowest number is, remembering that the array starts at the zero position."
   ]
  },
  {
   "cell_type": "code",
   "execution_count": 1,
   "metadata": {},
   "outputs": [
    {
     "name": "stdout",
     "output_type": "stream",
     "text": [
      "10\n",
      "1 2 3 4 -5 6 7 8 9 10\n",
      "Menor valor: -5\n",
      "Posicao: 4\n"
     ]
    }
   ],
   "source": [
    "qt_numbers = int(input())\n",
    "numbers = input().split()\n",
    "\n",
    "menor = int(numbers[0])\n",
    "posicao = 0\n",
    "\n",
    "for p, n in enumerate(numbers):\n",
    "    if int(n) < menor:\n",
    "        menor = int(n)\n",
    "        posicao = p\n",
    "        \n",
    "print(\"Menor valor:\",menor)\n",
    "print(\"Posicao:\",posicao)"
   ]
  },
  {
   "cell_type": "markdown",
   "metadata": {},
   "source": [
    "**Exercise: Line in Array**\n",
    "\n",
    "Your job in this problem is to read a number that is a line of an array, an uppercase character, indicating the operation to be performed and all elements of a bidimentional array M[12][12]. Then, you have to calculate and print the sum or average of all elements within the green area according to the case. The following figure illustrates the case when is entered the number 2 to the array line, showing all elements that must be considered in the operation.\n",
    "\n",
    "https://resources.urionlinejudge.com.br/gallery/images/problems/UOJ_1181.png\n",
    "\n",
    "**Input:**\n",
    "The first line of the input contains a simple integer L (0 ≤ L ≤ 11) indicating the line to be considered in the operation. The second line of the input contains a single uppercase character T ('S' or 'M'), indicating the operation Sum or Average (Média in portuguese) to be performed with the elements of the array. Follow the 144 floating-point numbers of the array, considering that the elements are inserted line by line, from line 0 to line 11, always from left to right.\n",
    "\n",
    "**Output:**\n",
    "\n",
    "Print the calculated result (sum or average), with one digit after the decimal point."
   ]
  },
  {
   "cell_type": "code",
   "execution_count": 2,
   "metadata": {},
   "outputs": [
    {
     "name": "stdout",
     "output_type": "stream",
     "text": [
      "1\n",
      "S\n",
      "1\n",
      "2\n",
      "3\n",
      "4\n",
      "5\n",
      "6\n",
      "7\n",
      "8\n",
      "9\n",
      "15.0\n"
     ]
    }
   ],
   "source": [
    "L = int(input())\n",
    "operation = input()\n",
    "result = 0\n",
    "\n",
    "#for x in range(12):\n",
    "for x in range(3):\n",
    "#   for y in range(12):\n",
    "    for y in range(3):\n",
    "        number = float(input())\n",
    "        if (x == L):\n",
    "            result += number\n",
    "    \n",
    "if(operation == 'S'):\n",
    "     print(\"%.1f\" %result)\n",
    "else:\n",
    "     #print(\"%.1f\" %(result/12.0))\n",
    "    print(\"%.1f\" %(result/3.0))"
   ]
  },
  {
   "cell_type": "markdown",
   "metadata": {},
   "source": [
    "**Exercise: Column in Array**\n",
    "\n",
    "Your job in this problem is to read a number that is a column of an array where an operation will be performed, an uppercase character, indicating the operation to be performed and all elements of a bidimentional array M[12][12]. Then, you have to calculate and print the sum or average of all elements within the green area according to the case. The following figure illustrates the case when is entered the number 5 to the array column, showing all elements that must be considered in the operation.\n",
    "\n",
    "**Input:**\n",
    "The first line of the input contains a simple integer C (0 ≤ C ≤ 11) indicating the column to be considered in the operation. The second line of the input contains a single uppercase character T ('S' or 'M'), indicating the operation Sum or Average (Média in portuguese) to be performed with the elements of the array. Follow 144 floating-point numbers of the array.\n",
    "\n",
    "**Output:**\n",
    "Print the calculated result (sum or average), with one digit after the decimal point."
   ]
  },
  {
   "cell_type": "code",
   "execution_count": 3,
   "metadata": {},
   "outputs": [
    {
     "name": "stdout",
     "output_type": "stream",
     "text": [
      "1\n",
      "M\n",
      "1\n",
      "2\n",
      "3\n",
      "4\n",
      "5\n",
      "6\n",
      "7\n",
      "8\n",
      "9\n",
      "5.0\n"
     ]
    }
   ],
   "source": [
    "C = int(input())\n",
    "operation = input()\n",
    "result = 0\n",
    "\n",
    "#for x in range(12):\n",
    "for x in range(3):\n",
    "#    for y in range(12):\n",
    "    for y in range(3):\n",
    "        number = float(input())\n",
    "        if (y == C):\n",
    "            result += number\n",
    "    \n",
    "if(operation == 'S'):\n",
    "     print(\"%.1f\" %result)\n",
    "else:\n",
    "     #print(\"%.1f\" %(result/12.0))\n",
    "    print(\"%.1f\" %(result/3.0))"
   ]
  }
 ],
 "metadata": {
  "kernelspec": {
   "display_name": "Python 3",
   "language": "python",
   "name": "python3"
  },
  "language_info": {
   "codemirror_mode": {
    "name": "ipython",
    "version": 3
   },
   "file_extension": ".py",
   "mimetype": "text/x-python",
   "name": "python",
   "nbconvert_exporter": "python",
   "pygments_lexer": "ipython3",
   "version": "3.6.8"
  }
 },
 "nbformat": 4,
 "nbformat_minor": 2
}
