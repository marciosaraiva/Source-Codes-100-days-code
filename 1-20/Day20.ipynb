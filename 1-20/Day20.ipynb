{
 "cells": [
  {
   "cell_type": "markdown",
   "metadata": {},
   "source": [
    "**Exercise:Quadrant**\n",
    "    \n",
    "Write a program to read the coordinates (X, Y) of an indeterminate number of points in Cartesian system. For each point write the quadrant to which it belongs. The program finish when at least one of two coordinates is NULL (in this situation without writing any message).\n",
    "\n",
    "**Input:**\n",
    "The input contains several tests cases. Each test case contains two integer numbers.\n",
    "\n",
    "**Output:**\n",
    "For each test case, print the corresponding quadrant which these coordinates belong, as in the example."
   ]
  },
  {
   "cell_type": "code",
   "execution_count": 1,
   "metadata": {},
   "outputs": [
    {
     "name": "stdout",
     "output_type": "stream",
     "text": [
      "2 2\n",
      "primeiro\n",
      "-2 2\n",
      "segundo\n",
      "-2 -2\n",
      "terceiro\n",
      "2 -2\n",
      "quarto\n",
      "0 10\n"
     ]
    }
   ],
   "source": [
    "x, y = map(int, input().split())\n",
    "\n",
    "while x !=0 and y !=0:\n",
    "    if x>0 and y>0:\n",
    "        print(\"primeiro\")\n",
    "    elif x<0 and y>0:\n",
    "        print(\"segundo\")\n",
    "    elif x<0 and y<0:\n",
    "        print(\"terceiro\")\n",
    "    if x>0 and y<0:\n",
    "        print(\"quarto\")\n",
    "    x, y = map(int, input().split())"
   ]
  },
  {
   "cell_type": "markdown",
   "metadata": {},
   "source": [
    "**Exercise: Dividing X by Y**\n",
    "\n",
    "Write a program that read two numbers X and Y and print the result of dividing the X by Y. If it's not possible, print the message \"divisao impossivel\".\n",
    "\n",
    "**Input:**\n",
    "The input contains an integer number N. This N is the quantity of pairs of integer numbers X and Y read (dividend and divisor).\n",
    "\n",
    "**Output:**\n",
    "For each test case print the result of this division with one digit after the decimal point, or “divisao impossivel” if it isn't possible to perform the calculation.\n",
    "\n",
    "Obs.: Be carefull. The division between two integers in some languages generates another integer. Use cast:)"
   ]
  },
  {
   "cell_type": "code",
   "execution_count": null,
   "metadata": {},
   "outputs": [
    {
     "name": "stdout",
     "output_type": "stream",
     "text": [
      "4\n",
      "-2 3\n",
      "-0.7\n",
      "3 2\n",
      "1.5\n"
     ]
    }
   ],
   "source": [
    "for n in range(int(input())):\n",
    "    x, y = map(int, input().split())\n",
    "    if y!=0:\n",
    "        print(\"{:.1f}\".format(x/y))\n",
    "    else:\n",
    "        print(\"divisao impossivel\")"
   ]
  },
  {
   "cell_type": "markdown",
   "metadata": {},
   "source": [
    "**Exercise: Score Validation**\n",
    "\n",
    "Write a program that reads two scores of a student. Calculate and print the average of these scores. Your program must accept just valid scores [0..10]. Each score must be validated separately.\n",
    "\n",
    "**Input:**\n",
    "The input file contains many floating-point numbers​​, positive or negative. The program execution will be finished after the input of two valid scores.\n",
    "\n",
    "**Output:**\n",
    "When an invalid score is read, you should print the message \"nota invalida\".\n",
    "After the input of two valid scores, the message \"media = \" must be printed followed by the average of the student. The average must be printed with 2 numbers after the decimal point."
   ]
  },
  {
   "cell_type": "code",
   "execution_count": null,
   "metadata": {},
   "outputs": [],
   "source": [
    "count_valid_scores =0\n",
    "sum_scores=0\n",
    "while count_valid_scores<2:\n",
    "    score = float(input())\n",
    "    if 0<=score<=10:\n",
    "        sum_scores += score\n",
    "        count_valid_scores+=1\n",
    "    else:\n",
    "        print(\"nota invalida\")\n",
    "        \n",
    "print(\"media = {:.2f}\".format(sum_scores/2))"
   ]
  }
 ],
 "metadata": {
  "kernelspec": {
   "display_name": "Python 3",
   "language": "python",
   "name": "python3"
  },
  "language_info": {
   "codemirror_mode": {
    "name": "ipython",
    "version": 3
   },
   "file_extension": ".py",
   "mimetype": "text/x-python",
   "name": "python",
   "nbconvert_exporter": "python",
   "pygments_lexer": "ipython3",
   "version": "3.6.8"
  }
 },
 "nbformat": 4,
 "nbformat_minor": 2
}
