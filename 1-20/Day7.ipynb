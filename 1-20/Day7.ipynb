{
 "cells": [
  {
   "cell_type": "markdown",
   "metadata": {},
   "source": [
    "Exercise: **Snack**\n",
    "\n",
    "Using the following table, write a program that reads a code and the amount of an item. After, print the value to pay. This is a very simple program with the only intention of practice of selection commands.\n",
    "\n",
    "**Code** --- **Specification** ---  **Price**\n",
    "\n",
    "1 ---       Cachorro Quente --- R$ 4.00\n",
    "\n",
    "2 ---    X-Salada        --- R$ 4.50\n",
    "\n",
    "3 ---    X-Bacon         --- R$ 5.00\n",
    "\n",
    "4 ---    Torrada simples --- R$ 2.00\n",
    "\n",
    "5 ---    Refrigerante    --- R$ 1.5\n",
    "\n",
    "Input:\n",
    "The input file contains two integer numbers X and Y. X is the product code and Y is the quantity of this item according to the above table.\n",
    "\n",
    "Output:\n",
    "The output must be a message \"Total: R$ \" followed by the total value to be paid, with 2 digits after the decimal point."
   ]
  },
  {
   "cell_type": "code",
   "execution_count": 5,
   "metadata": {},
   "outputs": [
    {
     "name": "stdout",
     "output_type": "stream",
     "text": [
      "2 3\n",
      "Total: R$ 13.50\n"
     ]
    }
   ],
   "source": [
    "menu = {1:4, 2:4.5, 3:5, 4:2, 5:1.5}\n",
    "\n",
    "product_code,quantity = map(int,input().split())\n",
    "\n",
    "print(\"Total: R$ {:.2f}\".format(menu[product_code]*quantity))"
   ]
  },
  {
   "cell_type": "markdown",
   "metadata": {},
   "source": [
    "Exercise: **Average 3**\n",
    "\n",
    "Read four numbers (N1, N2, N3, N4), which one with 1 digit after the decimal point, corresponding to 4 scores obtained by a student. Calculate the average with weights 2, 3, 4 e 1 respectively, for these 4 scores and print the message \"Media: \" (Average), followed by the calculated result. If the average was 7.0 or more, print the message \"Aluno aprovado.\" (Approved Student). If the average was less than 5.0, print the message: \"Aluno reprovado.\" (Reproved Student). If the average was between 5.0 and 6.9, including these, the program must print the message \"Aluno em exame.\" (In exam student).\n",
    "\n",
    "In case of exam, read one more score. Print the message \"Nota do exame: \" (Exam score) followed by the typed score. Recalculate the average (sum the exam score with the previous calculated average and divide by 2) and print the message “Aluno aprovado.” (Approved student) in case of average 5.0 or more) or \"Aluno reprovado.\" (Reproved student) in case of average 4.9 or less. For these 2 cases (approved or reproved after the exam) print the message \"Media final: \" (Final average) followed by the final average for this student in the last line.\n",
    "\n",
    "Input:\n",
    "The input contains four floating point numbers that represent the students' grades.\n",
    "\n",
    "Output:\n",
    "Print all the answers with one digit after the decimal point."
   ]
  },
  {
   "cell_type": "code",
   "execution_count": 10,
   "metadata": {},
   "outputs": [
    {
     "name": "stdout",
     "output_type": "stream",
     "text": [
      "2.0 4.0 7.5 8.0\n",
      "Media: 5.4\n",
      "Aluno em exame.\n",
      "6.4\n",
      "Nota do exame: 6.4\n",
      "Aluno aprovado.\n",
      "Media final: 5.9\n"
     ]
    }
   ],
   "source": [
    "N1, N2, N3, N4 = map(float, input().split())\n",
    "\n",
    "average = (N1*2+N2*3+N3*4+N4)/10\n",
    "\n",
    "print(\"Media: {:.1f}\".format(average))\n",
    "\n",
    "if average>=7.0:\n",
    "    print(\"Aluno aprovado.\")\n",
    "elif average < 5.0:\n",
    "    print(\"Aluno reprovado.\")\n",
    "else:\n",
    "    print(\"Aluno em exame.\")\n",
    "    score = float(input())\n",
    "    print(\"Nota do exame: {:.1f}\".format(score))\n",
    "    average = (average+score)/2\n",
    "    if average>=5.0:\n",
    "        print(\"Aluno aprovado.\")\n",
    "    else:\n",
    "        print(\"Aluno reprovado.\")\n",
    "    print(\"Media final: {:.1f}\".format(average))"
   ]
  },
  {
   "cell_type": "markdown",
   "metadata": {},
   "source": [
    "Exercise: **Coordinates of a Point**\n",
    "\n",
    "Write an algorithm that reads two floating values (x and y), which should represent the coordinates of a point in a plane. Next, determine which quadrant the point belongs, or if you are over one of the Cartesian axes or the origin (x = y = 0).\n",
    "\n",
    "If the point is at the origin, write the message \"Origem\".\n",
    "\n",
    "If the point is over X axis write \"Eixo X\", else if the point is over Y axis write \"Eixo Y\".\n",
    "\n",
    "Input\n",
    "The input contains the coordinates of a point.\n",
    "\n",
    "Output\n",
    "The output should display the quadrant in which the point is."
   ]
  },
  {
   "cell_type": "code",
   "execution_count": 15,
   "metadata": {},
   "outputs": [
    {
     "name": "stdout",
     "output_type": "stream",
     "text": [
      "0 0\n",
      "Origem\n"
     ]
    }
   ],
   "source": [
    "x, y = map(float, input().split())\n",
    "\n",
    "if x==0 and y==0:\n",
    "    print(\"Origem\")\n",
    "elif x==0 and y!=0:\n",
    "    print(\"Eixo Y\")\n",
    "elif x!=0 and y==0:\n",
    "    print(\"Eixo X\")\n",
    "elif x>0 and y>0:\n",
    "    print(\"Q1\")\n",
    "elif x<0 and y>0:\n",
    "    print(\"Q2\")\n",
    "elif x<0 and y<0:\n",
    "    print(\"Q3\")\n",
    "elif x>0 and y<0:\n",
    "    print(\"Q4\")"
   ]
  }
 ],
 "metadata": {
  "kernelspec": {
   "display_name": "Python 3",
   "language": "python",
   "name": "python3"
  },
  "language_info": {
   "codemirror_mode": {
    "name": "ipython",
    "version": 3
   },
   "file_extension": ".py",
   "mimetype": "text/x-python",
   "name": "python",
   "nbconvert_exporter": "python",
   "pygments_lexer": "ipython3",
   "version": "3.6.8"
  }
 },
 "nbformat": 4,
 "nbformat_minor": 2
}
