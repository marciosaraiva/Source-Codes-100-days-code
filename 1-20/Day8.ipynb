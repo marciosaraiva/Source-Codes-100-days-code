{
 "cells": [
  {
   "cell_type": "markdown",
   "metadata": {},
   "source": [
    "Exercise: **Simple Sort**\n",
    "\n",
    "Read three integers and sort them in ascending order. After, print these values in ascending order, a blank line and then the values in the sequence as they were readed.\n",
    "\n",
    "Input:\n",
    "The input contains three integer numbers.\n",
    "\n",
    "Output:\n",
    "Present the output as requested above."
   ]
  },
  {
   "cell_type": "code",
   "execution_count": 1,
   "metadata": {},
   "outputs": [
    {
     "name": "stdout",
     "output_type": "stream",
     "text": [
      "7 21 -14\n",
      "-14\n",
      "7\n",
      "21\n",
      "\n",
      "7\n",
      "21\n",
      "-14\n"
     ]
    }
   ],
   "source": [
    "x, y , z = map(int, input().split())\n",
    "l = [x,y,z]\n",
    "for x in sorted(l):\n",
    "    print(x)\n",
    "\n",
    "print()\n",
    "\n",
    "for x in l:\n",
    "    print(x)"
   ]
  },
  {
   "cell_type": "markdown",
   "metadata": {},
   "source": [
    "Exercise: **Triangle**\n",
    "\n",
    "Read three point floating values (A, B and C) and verify if is possible to make a triangle with them. If it is possible, calculate the perimeter of the triangle and print the message:\n",
    "\n",
    "Perimetro = XX.X\n",
    "\n",
    "If it is not possible, calculate the area of the trapezium which basis A and B and C as height, and print the message:\n",
    "\n",
    "Area = XX.X\n",
    "\n",
    "Input:\n",
    "The input file has tree floating point numbers.\n",
    "\n",
    "Output:\n",
    "Print the result with one digit after the decimal point."
   ]
  },
  {
   "cell_type": "code",
   "execution_count": 2,
   "metadata": {},
   "outputs": [
    {
     "name": "stdout",
     "output_type": "stream",
     "text": [
      "6.0 4.0 2.0\n",
      "Area = 10.0\n"
     ]
    }
   ],
   "source": [
    "A, B, C = map(float, input().split())\n",
    "\n",
    "if A+B>C and A+C>B and B+C>A:\n",
    "    print(\"Perimetro = {:.1f}\".format(A+B+C))\n",
    "else:\n",
    "    print(\"Area = {:.1f}\".format(((A+B)/2)*C))"
   ]
  },
  {
   "cell_type": "markdown",
   "metadata": {},
   "source": [
    "Exercise: **Multiples**\n",
    "\n",
    "Read two integer values (A and B). After, the program should print the message \"Sao Multiplos\" (are multiples) or \"Nao sao Multiplos\" (aren’t multiples), corresponding to the read values.\n",
    "\n",
    "Input:\n",
    "The input has two integer numbers.\n",
    "\n",
    "Output:\n",
    "Print the relative message to the input as stated above."
   ]
  },
  {
   "cell_type": "code",
   "execution_count": 3,
   "metadata": {},
   "outputs": [
    {
     "name": "stdout",
     "output_type": "stream",
     "text": [
      "24 6\n",
      "Sao Multiplos\n"
     ]
    }
   ],
   "source": [
    "A, B = map(int, input().split())\n",
    "\n",
    "if A%B ==0 or B%A==0:\n",
    "    print(\"Sao Multiplos\")\n",
    "else:\n",
    "    print(\"Nao sao Multiplos\")"
   ]
  }
 ],
 "metadata": {
  "kernelspec": {
   "display_name": "Python 3",
   "language": "python",
   "name": "python3"
  },
  "language_info": {
   "codemirror_mode": {
    "name": "ipython",
    "version": 3
   },
   "file_extension": ".py",
   "mimetype": "text/x-python",
   "name": "python",
   "nbconvert_exporter": "python",
   "pygments_lexer": "ipython3",
   "version": "3.6.8"
  }
 },
 "nbformat": 4,
 "nbformat_minor": 2
}
