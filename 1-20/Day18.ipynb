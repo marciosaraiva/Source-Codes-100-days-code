{
 "cells": [
  {
   "cell_type": "markdown",
   "metadata": {},
   "source": [
    "**Exercise: Sequence IJ 3**\n",
    "\n",
    "Make a program that prints the sequence like the following exemple.\n",
    "\n",
    "I=1 J=7\n",
    "\n",
    "I=1 J=6\n",
    "\n",
    "I=1 J=5\n",
    "\n",
    "I=3 J=9\n",
    "\n",
    "I=3 J=8\n",
    "\n",
    "I=3 J=7\n",
    "\n",
    "...\n",
    "\n",
    "I=9 J=15\n",
    "\n",
    "I=9 J=14\n",
    "\n",
    "I=9 J=13\n",
    "\n",
    "\n",
    "**Input:**\n",
    "This problem doesn't have input.\n",
    "\n",
    "**Output:**\n",
    "Print the sequence like the example below."
   ]
  },
  {
   "cell_type": "code",
   "execution_count": 1,
   "metadata": {},
   "outputs": [
    {
     "name": "stdout",
     "output_type": "stream",
     "text": [
      "I=1 J=7\n",
      "I=1 J=6\n",
      "I=1 J=5\n",
      "I=3 J=9\n",
      "I=3 J=8\n",
      "I=3 J=7\n",
      "I=5 J=11\n",
      "I=5 J=10\n",
      "I=5 J=9\n",
      "I=7 J=13\n",
      "I=7 J=12\n",
      "I=7 J=11\n",
      "I=9 J=15\n",
      "I=9 J=14\n",
      "I=9 J=13\n"
     ]
    }
   ],
   "source": [
    "x=7\n",
    "for i in range(1,10,2):\n",
    "    print(\"I={} J={}\".format(i,x))\n",
    "    print(\"I={} J={}\".format(i,x-1))\n",
    "    print(\"I={} J={}\".format(i,x-2))\n",
    "    x+=2"
   ]
  },
  {
   "cell_type": "markdown",
   "metadata": {},
   "source": [
    "**Exercise: Sequence IJ 4**\n",
    "\n",
    "Make a program that prints the sequence like the following example.\n",
    "\n",
    "I=0 J=1\n",
    "\n",
    "I=0 J=2\n",
    "\n",
    "I=0 J=3\n",
    "\n",
    "I=0.2 J=1.2\n",
    "\n",
    "I=0.2 J=2.2\n",
    "\n",
    "I=0.2 J=3.2\n",
    "\n",
    ".....\n",
    "\n",
    "I=2 J=?\n",
    "\n",
    "I=2 J=?\n",
    "\n",
    "I=2 J=?\n",
    "\n",
    "**Input:**\n",
    "This problem doesn't have input.\n",
    "\n",
    "**Output:**\n",
    "Print the sequence like the example below."
   ]
  },
  {
   "cell_type": "code",
   "execution_count": 2,
   "metadata": {},
   "outputs": [
    {
     "name": "stdout",
     "output_type": "stream",
     "text": [
      "I=0 J=1\n",
      "I=0 J=2\n",
      "I=0 J=3\n",
      "I=0.2 J=1.2\n",
      "I=0.2 J=2.2\n",
      "I=0.2 J=3.2\n",
      "I=0.4 J=1.4\n",
      "I=0.4 J=2.4\n",
      "I=0.4 J=3.4\n",
      "I=0.6 J=1.6\n",
      "I=0.6 J=2.6\n",
      "I=0.6 J=3.6\n",
      "I=0.8 J=1.8\n",
      "I=0.8 J=2.8\n",
      "I=0.8 J=3.8\n",
      "I=1 J=2\n",
      "I=1 J=3\n",
      "I=1 J=4\n",
      "I=1.2 J=2.2\n",
      "I=1.2 J=3.2\n",
      "I=1.2 J=4.2\n",
      "I=1.4 J=2.4\n",
      "I=1.4 J=3.4\n",
      "I=1.4 J=4.4\n",
      "I=1.6 J=2.6\n",
      "I=1.6 J=3.6\n",
      "I=1.6 J=4.6\n",
      "I=1.8 J=2.8\n",
      "I=1.8 J=3.8\n",
      "I=1.8 J=4.8\n",
      "I=2 J=3\n",
      "I=2 J=4\n",
      "I=2 J=5\n"
     ]
    }
   ],
   "source": [
    "i = 0\n",
    "j = 1\n",
    "add = (0.2)\n",
    "n = 0\n",
    "while i <= 2:\n",
    "    for c in range(1,4):\n",
    "        if i > 2.19:\n",
    "            print('I={:.0f} J={:.0f}'.format(2,j))\n",
    "        if i == 1.0 or i == 0.0 or i > 1.8:\n",
    "            print('I={:.0f} J={:.0f}'.format(i,j))\n",
    "        elif i < 2:\n",
    "            print('I={:.1f} J={:.1f}'.format(i,j))\n",
    "        j = j + 1\n",
    "    i = i + add\n",
    "    j = 1 + i"
   ]
  },
  {
   "cell_type": "markdown",
   "metadata": {},
   "source": [
    "**Exercise: Sum of Consecutive Odd Numbers II**\n",
    "\n",
    "Read an integer N that is the number of test cases. Each test case is a line containing two integer numbers X and Y. Print the sum of all odd values between them, not including X and Y.\n",
    "\n",
    "**Input:**\n",
    "The first line of input is an integer N that is the number of test cases that follow. Each test case is a line containing two integer X and Y.\n",
    "\n",
    "**Output:**\n",
    "Print the sum of all odd numbers between X and Y."
   ]
  },
  {
   "cell_type": "code",
   "execution_count": 3,
   "metadata": {},
   "outputs": [
    {
     "name": "stdout",
     "output_type": "stream",
     "text": [
      "7\n",
      "4 5\n",
      "0\n",
      "13 10\n",
      "11\n",
      "6 4\n",
      "5\n",
      "3 3\n",
      "0\n",
      "3 5\n",
      "0\n",
      "3 4\n",
      "0\n",
      "3 8\n",
      "12\n"
     ]
    }
   ],
   "source": [
    "for N in range(int(input())):\n",
    "    x, y = map(int, input().split())\n",
    "    sum = 0\n",
    "    if x<y:\n",
    "        for num in range(x+1,y):\n",
    "            if num%2!=0:\n",
    "                sum+=num\n",
    "    else:\n",
    "        for num in range(y+1,x):\n",
    "            if num%2!=0:\n",
    "                sum+=num\n",
    "    print(sum)"
   ]
  }
 ],
 "metadata": {
  "kernelspec": {
   "display_name": "Python 3",
   "language": "python",
   "name": "python3"
  },
  "language_info": {
   "codemirror_mode": {
    "name": "ipython",
    "version": 3
   },
   "file_extension": ".py",
   "mimetype": "text/x-python",
   "name": "python",
   "nbconvert_exporter": "python",
   "pygments_lexer": "ipython3",
   "version": "3.6.8"
  }
 },
 "nbformat": 4,
 "nbformat_minor": 2
}
