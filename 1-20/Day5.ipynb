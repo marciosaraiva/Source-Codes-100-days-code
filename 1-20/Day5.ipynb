{
 "cells": [
  {
   "cell_type": "markdown",
   "metadata": {},
   "source": [
    "Exercise: **Consumption**\n",
    "\n",
    "Calculate a car's average consumption being provided the total distance traveled (in Km) and the spent fuel total (in liters).\n",
    "\n",
    "Input:\n",
    "The input file contains two values: one integer value X representing the total distance (in Km) and the second one is a floating point number Y  representing the spent fuel total, with a digit after the decimal point.\n",
    "\n",
    "Output:\n",
    "Present a value that represents the average consumption of a car with 3 digits after the decimal point, followed by the message \"km/l\"."
   ]
  },
  {
   "cell_type": "code",
   "execution_count": 1,
   "metadata": {},
   "outputs": [
    {
     "name": "stdout",
     "output_type": "stream",
     "text": [
      "2254\n",
      "124.4\n",
      "18.119 km/l\n"
     ]
    }
   ],
   "source": [
    "total_distance = int(input())\n",
    "spent_fuel = float(input())\n",
    "\n",
    "print(\"{:.3f} km/l\".format(total_distance/spent_fuel))"
   ]
  },
  {
   "cell_type": "markdown",
   "metadata": {},
   "source": [
    "Exercise: **Distance Between Two Points**\n",
    "\n",
    "Read the four values corresponding to the x and y axes of two points in the plane, p1 (x1, y1) and p2 (x2, y2) and calculate the distance between them, showing four decimal places after the comma.\n",
    "\n",
    "Input:\n",
    "The input file contains two lines of data. The first one contains two double values: x1 y1 and the second one also contains two double values with one digit after the decimal point: x2 y2.\n",
    "\n",
    "Output:\n",
    "Calculate and print the distance value using the provided formula, with 4 digits after the decimal point."
   ]
  },
  {
   "cell_type": "code",
   "execution_count": 2,
   "metadata": {},
   "outputs": [
    {
     "name": "stdout",
     "output_type": "stream",
     "text": [
      "-2.5 0.4\n",
      "12.1 7.3\n",
      "16.1484\n"
     ]
    }
   ],
   "source": [
    "import math\n",
    "\n",
    "x1, y1 = input().split()\n",
    "x2, y2 = input().split()\n",
    "\n",
    "distance = math.sqrt((float(x2)-float(x1))**2 +(float(y2)-float(y1))**2)\n",
    "\n",
    "print(\"{:.4f}\".format(distance))"
   ]
  },
  {
   "cell_type": "markdown",
   "metadata": {},
   "source": [
    "Exercise: **Distance**\n",
    "\n",
    "Two cars (X and Y) leave in the same direction. The car X leaves with a constant speed of 60 km/h and the car Y leaves with a constant speed of 90 km / h.\n",
    "\n",
    "In one hour (60 minutes) the car Y can get a distance of 30 kilometers from the X car, in other words, it can get away one kilometer for each 2 minutes.\n",
    "\n",
    "Read the distance (in km) and calculate how long it takes (in minutes) for the car Y to take this distance in relation to the other car.\n",
    "\n",
    "Input:\n",
    "The input file contains 1 integer value.\n",
    "\n",
    "Output:\n",
    "Print the necessary time followed by the message \"minutos\" that means minutes in Portuguese."
   ]
  },
  {
   "cell_type": "code",
   "execution_count": 3,
   "metadata": {},
   "outputs": [
    {
     "name": "stdout",
     "output_type": "stream",
     "text": [
      "110\n",
      "220 minutos\n"
     ]
    }
   ],
   "source": [
    "km = int(input())\n",
    "print(int((km/30)*60),\"minutos\")"
   ]
  }
 ],
 "metadata": {
  "kernelspec": {
   "display_name": "Python 3",
   "language": "python",
   "name": "python3"
  },
  "language_info": {
   "codemirror_mode": {
    "name": "ipython",
    "version": 3
   },
   "file_extension": ".py",
   "mimetype": "text/x-python",
   "name": "python",
   "nbconvert_exporter": "python",
   "pygments_lexer": "ipython3",
   "version": "3.6.8"
  }
 },
 "nbformat": 4,
 "nbformat_minor": 2
}
