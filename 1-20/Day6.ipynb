{
 "cells": [
  {
   "cell_type": "markdown",
   "metadata": {},
   "source": [
    "Exercise: **Selection Test 1**\n",
    "\n",
    "Read 4 integer values A, B, C and D. Then if B is greater than C and D is greater than A and if the sum of C and D is greater than the sum of A and B and if C and D were positives values and if A is even, write the message “Valores aceitos” (Accepted values). Otherwise, write the message “Valores nao aceitos” (Values not accepted).\n",
    "\n",
    "Input:\n",
    "Four integer numbers A, B, C and D.\n",
    "\n",
    "Output:\n",
    "Show the corresponding message after the validation of the values."
   ]
  },
  {
   "cell_type": "code",
   "execution_count": 3,
   "metadata": {},
   "outputs": [
    {
     "name": "stdout",
     "output_type": "stream",
     "text": [
      "5 6 7 8\n",
      "Valores nao aceitos\n"
     ]
    }
   ],
   "source": [
    "A, B, C, D = map(int, input().split())\n",
    "\n",
    "if B > C and D > A and C+D > A+B and C >0 and D>0 and A%2==0:\n",
    "    print(\"Valores aceitos\")\n",
    "else:\n",
    "    print(\"Valores nao aceitos\")"
   ]
  },
  {
   "cell_type": "markdown",
   "metadata": {},
   "source": [
    "Exercise: **Bhaskara's Formula**\n",
    "\n",
    "Read 3 floating-point numbers. After, print the roots of bhaskara’s formula. If it's impossible to calculate the roots because a division by zero or a square root of a negative number, presents the message “Impossivel calcular”.\n",
    "\n",
    "Input:\n",
    "Read 3 floating-point numbers A, B and C.\n",
    "\n",
    "Output:\n",
    "Print the result with 5 digits after the decimal point or the message if it is impossible to calculate."
   ]
  },
  {
   "cell_type": "code",
   "execution_count": 5,
   "metadata": {},
   "outputs": [
    {
     "name": "stdout",
     "output_type": "stream",
     "text": [
      "10.3 203.0 5.0\n",
      "R1 = -0.02466\n",
      "R2 = -19.68408\n"
     ]
    }
   ],
   "source": [
    "import math\n",
    "A, B, C = map(float, input().split())\n",
    "\n",
    "x=(B**2)-4*A*C\n",
    "if x<=0 or A==0:\n",
    "    print(\"Impossivel calcular\")\n",
    "else:\n",
    "    x=math.sqrt(x)\n",
    "    root1 = (-B+x)/(2*A)\n",
    "    root2 = (-B-x)/(2*A)\n",
    "    print(\"R1 = {:.5f}\".format(root1))\n",
    "    print(\"R2 = {:.5f}\".format(root2))\n",
    "\n"
   ]
  },
  {
   "cell_type": "markdown",
   "metadata": {},
   "source": [
    "Exercise: **Interval**\n",
    "\n",
    "You must make a program that read a float-point number and print a message saying in which of following intervals the number belongs: [0,25] (25,50], (50,75], (75,100]. If the read number is less than zero or greather than 100, the program must print the message “Fora de intervalo” that means \"Out of Interval\".\n",
    "\n",
    "The symbol '(' represents greather than. For example:\n",
    "[0,25] indicates numbers between 0 and 25.0000, including both.\n",
    "(25,50] indicates numbers greather than 25 (25.00001) up to 50.0000000.\n",
    "\n",
    "Input:\n",
    "The input file contains a floating-point number.\n",
    "\n",
    "Output:\n",
    "The output must be a message like following example."
   ]
  },
  {
   "cell_type": "code",
   "execution_count": 10,
   "metadata": {},
   "outputs": [
    {
     "name": "stdout",
     "output_type": "stream",
     "text": [
      "25.1\n",
      "(25,50]\n"
     ]
    }
   ],
   "source": [
    "number = float(input())\n",
    "if 0<=number<=25:\n",
    "    print(\"Intervalo [0,25]\")\n",
    "elif 25<number<=50:\n",
    "    print(\"Intervalo (25,50]\")\n",
    "elif 50<number<=75:\n",
    "    print(\"Intervalo (50,75]\")\n",
    "elif 75<number<=100:\n",
    "    print(\"Intervalo (75,100]\")\n",
    "else:\n",
    "    print(\"Fora de intervalo\")"
   ]
  }
 ],
 "metadata": {
  "kernelspec": {
   "display_name": "Python 3",
   "language": "python",
   "name": "python3"
  },
  "language_info": {
   "codemirror_mode": {
    "name": "ipython",
    "version": 3
   },
   "file_extension": ".py",
   "mimetype": "text/x-python",
   "name": "python",
   "nbconvert_exporter": "python",
   "pygments_lexer": "ipython3",
   "version": "3.6.8"
  }
 },
 "nbformat": 4,
 "nbformat_minor": 2
}
