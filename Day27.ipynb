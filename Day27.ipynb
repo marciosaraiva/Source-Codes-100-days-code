{
 "cells": [
  {
   "cell_type": "markdown",
   "metadata": {},
   "source": [
    "**Exercise: Sum of Consecutive Odd Numbers III**\n",
    "\n",
    "Read an integer N that is the number of test cases that follows. Each test case contains two integers X and Y. Print one output line for each test case that is the sum of Y odd numbers from X including it if is the case. For example:\n",
    "for the input 4 5, the output must be 45, that is: 5 + 7 + 9 + 11 + 13\n",
    "for the input 7 4, the output must be 40, that is: 7 + 9 + 11 + 13\n",
    "\n",
    "**Input:**\n",
    "The first line of the input is an integer N that is the number of test cases that follow. Each test case is a line containing two integer X and Y.\n",
    "\n",
    "**Output:**\n",
    "Print the sum of all consecutive odd numbers from X."
   ]
  },
  {
   "cell_type": "code",
   "execution_count": 1,
   "metadata": {},
   "outputs": [
    {
     "name": "stdout",
     "output_type": "stream",
     "text": [
      "2\n",
      "4 3\n",
      "21\n",
      "8 11\n",
      "209\n"
     ]
    }
   ],
   "source": [
    "n = int(input())\n",
    "\n",
    "for test in range(n):\n",
    "    sum_odd_numbers = 0\n",
    "    x, y = map(int, input().split())\n",
    "    for number in range(x, x+2*y):\n",
    "        if number%2!=0:\n",
    "            sum_odd_numbers+=number\n",
    "    print(sum_odd_numbers)"
   ]
  },
  {
   "cell_type": "markdown",
   "metadata": {},
   "source": [
    "**Exercise: Sum of Consecutive Even Numbers**\n",
    "\n",
    "The program must read an integer X indefinite times (stop when X=0). For each X, print the sum of five consecutive even numbers from X, including it if X is even. If the input number is 4, for example, the output must be 40, that is the result of the operation: 4+6+8+10+12. If the input number is 11, for example, the output must be 80, that is the result of 12+14+16+18+20.\n",
    "\n",
    "**Input:**\n",
    "The input file contains many integer numbers. The last one is zero.\n",
    "\n",
    "**Output:**\n",
    "Print the output according to the example below.\n",
    "\n"
   ]
  },
  {
   "cell_type": "code",
   "execution_count": 2,
   "metadata": {},
   "outputs": [
    {
     "name": "stdout",
     "output_type": "stream",
     "text": [
      "5\n",
      "50\n",
      "10\n",
      "70\n",
      "0\n"
     ]
    }
   ],
   "source": [
    "x = int(input())\n",
    "\n",
    "while x!=0:\n",
    "    sum_even_numbers = 0\n",
    "    for number in range(x, x+10):\n",
    "        if number%2==0:\n",
    "            sum_even_numbers+=number\n",
    "    print(sum_even_numbers)\n",
    "    x = int(input())"
   ]
  },
  {
   "cell_type": "markdown",
   "metadata": {},
   "source": [
    "**Exercise: Population Increase**\n",
    "\n",
    "Mariazinha wants to solve an interesting problem. Given the population and growing rate of 2 cities (A and B), she would like to know how many years would be necessary to the smaller city (always A) to be greater than the larger city (always B) in population. Of course, she only wants to know the result for cities that the growing rate for city A is bigger than the growing rate for city B, therefore, she separated these test cases for you. Your job is to build a program that print the time in years for each test case.\n",
    "\n",
    "However, in some cases the time can be so big and Mariazinha don't want to know the exact time for these cases. In this way, for these test cases, it is enough printing the message \"Mais de 1 seculo\", that means \"More than a Century\".\n",
    "\n",
    "**Input:**\n",
    "The first line of the input contains a single integer T, indicating the number of test cases (1 ≤ T ≤ 3000). Each test case contains four numbers: two integers PA and PB (100 ≤ PA < 1000000, 100 ≤ PB ≤ 1000000, PA < PB) indicating respectively the population of A and B and two numbers G1 and G2 (0.1 ≤ G1 ≤ 10.0, 0.0 ≤ G2 ≤ 10.0, G2 < G1) with one digit after the decimal point each, indicating the populational growing (in percentual) for A and B respectively.\n",
    "\n",
    "Pay attention please: The population always is an integer number. So, a growing of 2.5% over a population of 100 will result in 102 (instead of 102.5) and a growing of 2.5% over a population of 1000 will result in 1025. In addition, use double variables to the growing rate.\n",
    "\n",
    "**Output:**\n",
    "Print, for each test case, how many years would be necessary to the city A became greater than the city B (in inhabitants). Remember that if this time is greater than 100 it will be necessary printing the message: \"Mais de 1 seculo\". In each one of these cases, maybe would be interesting interrupt the counting, otherwise you'll get \"Time Limit Exceeded\"."
   ]
  },
  {
   "cell_type": "code",
   "execution_count": 3,
   "metadata": {},
   "outputs": [
    {
     "name": "stdout",
     "output_type": "stream",
     "text": [
      "6\n",
      "100 150 1.0 0\n",
      "51 anos.\n",
      "90000 120000 5.5 3.5\n",
      "16 anos.\n",
      "56700 72000 5.2 3.0\n",
      "12 anos.\n",
      "123 2000 3.0 2.0\n",
      "Mais de 1 seculo.\n",
      "100000 110000 1.5 0.5\n",
      "10 anos.\n",
      "62422 484317 3.1 1.0\n",
      "100 anos.\n"
     ]
    }
   ],
   "source": [
    "for tests in range(int(input())):\n",
    "    years = 0\n",
    "    PA, PB, GA, GB = map(float,input().split())\n",
    "    while PA <= PB:\n",
    "        PA = int(PA+PA*(GA/100))\n",
    "        PB = int(PB+PB*(GB/100))\n",
    "        years+=1\n",
    "        if years>100:\n",
    "            print(\"Mais de 1 seculo.\")\n",
    "            break\n",
    "    else:\n",
    "        print(years, \"anos.\")"
   ]
  }
 ],
 "metadata": {
  "kernelspec": {
   "display_name": "Python 3",
   "language": "python",
   "name": "python3"
  },
  "language_info": {
   "codemirror_mode": {
    "name": "ipython",
    "version": 3
   },
   "file_extension": ".py",
   "mimetype": "text/x-python",
   "name": "python",
   "nbconvert_exporter": "python",
   "pygments_lexer": "ipython3",
   "version": "3.6.8"
  }
 },
 "nbformat": 4,
 "nbformat_minor": 2
}
