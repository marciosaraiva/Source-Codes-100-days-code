{
 "cells": [
  {
   "cell_type": "markdown",
   "metadata": {},
   "source": [
    "Exercise: **Experiments**\n",
    "\n",
    "Maria has just started as graduate student in a medical school and she's needing your help to organize a laboratory experiment which she is responsible about. She wants to know, at the end of the year, how many animals were used in this laboratory and the percentage of each type of animal is used at all.\n",
    "\n",
    "This laboratory uses in particular three types of animals: frogs, rats and rabbits. To obtain this information, it knows exactly the number of experiments that were performed, the type and quantity of each animal is used in each experiment.\n",
    "\n",
    "**Input:**\n",
    "The first line of input contains an integer N indicating the number of test cases that follows. Each test case contains an integer Amount (1 ≤ Amount ≤ 15) which represents the amount of animal used and a character Type ('C', 'R' or 'S'), indicating the type of animal:\n",
    "- C: Coelho (rabbit in portuguese)\n",
    "- R: Rato (rat  in portuguese)\n",
    "- S: Sapo (frog in portuguese)\n",
    "\n",
    "**Output:**\n",
    "Print the total of animals used, the total of each type of animal and the percentual of each one in relation of the total of animals used. The percentual must be printed with 2 digits after the decimal point."
   ]
  },
  {
   "cell_type": "code",
   "execution_count": 1,
   "metadata": {},
   "outputs": [
    {
     "name": "stdout",
     "output_type": "stream",
     "text": [
      "10\n",
      "10 C\n",
      "6 R\n",
      "15 S\n",
      "5 C\n",
      "14 R\n",
      "9 C\n",
      "6 R\n",
      "8 S\n",
      "5 C\n",
      "14 R\n",
      "Total: 92 cobaias\n",
      "Total de coelhos: 29\n",
      "Total de ratos: 40\n",
      "Total de sapos: 23\n",
      "Percentual de coelhos: 31.52 %\n",
      "Percentual de ratos: 43.48 %\n",
      "Percentual de sapos: 25.00 %\n"
     ]
    }
   ],
   "source": [
    "rabbit = 0\n",
    "rat = 0\n",
    "frog = 0\n",
    "\n",
    "for test_case in range(int(input())):\n",
    "    qtd, animal = input().split()\n",
    "    if animal == 'C':\n",
    "        rabbit+=int(qtd)\n",
    "    elif animal == 'R':\n",
    "        rat+=int(qtd)\n",
    "    elif animal == 'S':\n",
    "        frog+=int(qtd)\n",
    "        \n",
    "total = rabbit+rat+frog\n",
    "print(\"Total: {} cobaias\".format(total))\n",
    "print(\"Total de coelhos: {}\".format(rabbit))\n",
    "print(\"Total de ratos: {}\".format(rat))\n",
    "print(\"Total de sapos: {}\".format(frog))\n",
    "\n",
    "print(\"Percentual de coelhos: {:.2f} %\".format((rabbit/total)*100))\n",
    "print(\"Percentual de ratos: {:.2f} %\".format((rat/total)*100))\n",
    "print(\"Percentual de sapos: {:.2f} %\".format((frog/total)*100))"
   ]
  },
  {
   "cell_type": "markdown",
   "metadata": {},
   "source": [
    "Exercise: **Sequence IJ 1**\n",
    "\n",
    "Make a program that prints the sequence like the following example.\n",
    "\n",
    "**Input:**\n",
    "This problem doesn't have input.\n",
    "\n",
    "**Output:**\n",
    "Print the sequence like the example below."
   ]
  },
  {
   "cell_type": "code",
   "execution_count": 2,
   "metadata": {},
   "outputs": [
    {
     "name": "stdout",
     "output_type": "stream",
     "text": [
      "I=1 J=60\n",
      "I=4 J=55\n",
      "I=7 J=50\n",
      "I=10 J=45\n",
      "I=13 J=40\n",
      "I=16 J=35\n",
      "I=19 J=30\n",
      "I=22 J=25\n",
      "I=25 J=20\n",
      "I=28 J=15\n",
      "I=31 J=10\n",
      "I=34 J=5\n",
      "I=37 J=0\n"
     ]
    }
   ],
   "source": [
    "i = 1\n",
    "j = 60\n",
    "while j!=-5:\n",
    "    print(\"I={} J={}\".format(i,j))\n",
    "    i+=3\n",
    "    j-=5"
   ]
  },
  {
   "cell_type": "markdown",
   "metadata": {},
   "source": [
    "Exercise: **Sequence IJ 2**\n",
    "\n",
    "Make a program that prints the sequence like the following exemple.\n",
    "\n",
    "**Input:**\n",
    "This problem doesn't have input.\n",
    "\n",
    "**Output:**\n",
    "Print the sequence like the example below."
   ]
  },
  {
   "cell_type": "code",
   "execution_count": 3,
   "metadata": {},
   "outputs": [
    {
     "name": "stdout",
     "output_type": "stream",
     "text": [
      "I=1 J=7\n",
      "I=1 J=6\n",
      "I=1 J=5\n",
      "I=3 J=7\n",
      "I=3 J=6\n",
      "I=3 J=5\n",
      "I=5 J=7\n",
      "I=5 J=6\n",
      "I=5 J=5\n",
      "I=7 J=7\n",
      "I=7 J=6\n",
      "I=7 J=5\n",
      "I=9 J=7\n",
      "I=9 J=6\n",
      "I=9 J=5\n"
     ]
    }
   ],
   "source": [
    "i = 1\n",
    "while i!=11:\n",
    "    j=7\n",
    "    for x in range(3):\n",
    "        print(\"I={} J={}\".format(i,j))\n",
    "        j-=1\n",
    "    i+=2"
   ]
  }
 ],
 "metadata": {
  "kernelspec": {
   "display_name": "Python 3",
   "language": "python",
   "name": "python3"
  },
  "language_info": {
   "codemirror_mode": {
    "name": "ipython",
    "version": 3
   },
   "file_extension": ".py",
   "mimetype": "text/x-python",
   "name": "python",
   "nbconvert_exporter": "python",
   "pygments_lexer": "ipython3",
   "version": "3.6.8"
  }
 },
 "nbformat": 4,
 "nbformat_minor": 2
}
