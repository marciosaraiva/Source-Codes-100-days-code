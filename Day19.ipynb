{
 "cells": [
  {
   "cell_type": "markdown",
   "metadata": {},
   "source": [
    "**Exercise: Sequence of Numbers and Sum**\n",
    "\n",
    "Read an undetermined number of pairs values M and N (stop when any of these values is less or equal to zero). For each pair, print the sequence from the smallest to the biggest (including both) and the sum of consecutive integers between them (including both).\n",
    "\n",
    "**Input:**\n",
    "The input file contains pairs of integer values M and N. The last line of the file contains a number zero or negative, or both.\n",
    "\n",
    "**Output:**\n",
    "For each pair of numbers, print the sequence from the smallest to the biggest and the sum of these values, as shown below."
   ]
  },
  {
   "cell_type": "code",
   "execution_count": 1,
   "metadata": {},
   "outputs": [
    {
     "name": "stdout",
     "output_type": "stream",
     "text": [
      "5 2\n",
      "2 3 4 5 Sum=14\n",
      "4 6\n",
      "4 5 6 Sum=15\n",
      "7 0\n"
     ]
    }
   ],
   "source": [
    "m, n = map(int, input().split())\n",
    "while m >0 and n>0:\n",
    "    sum =0\n",
    "    sequence = \"\"\n",
    "    if m>n:\n",
    "        for x in range(n,m+1):\n",
    "            sequence+=str(x)+\" \"\n",
    "            sum+=x\n",
    "        sequence+=\"Sum={}\".format(sum)\n",
    "        print(sequence)\n",
    "    else:\n",
    "        for x in range(m,n+1):\n",
    "            sequence+=str(x)+\" \"\n",
    "            sum+=x\n",
    "        sequence+=\"Sum={}\".format(sum)\n",
    "        print(sequence)\n",
    "    m, n = map(int, input().split())"
   ]
  },
  {
   "cell_type": "markdown",
   "metadata": {},
   "source": [
    "**Exercise: Ascending and Descending**\n",
    "\n",
    "Read an undetermined number of pairs of integer values. Write a message for each pair indicating if this two numbers are in ascending or descending order.\n",
    "\n",
    "**Input:**\n",
    "The input file contains several test cases. Each test case contains two integer numbers X and Y. The input will finished when X = Y.\n",
    "\n",
    "**Output:**\n",
    "For each test case print “Crescente”, if the values X and Y are in ascending order, otherwise print “Decrescente”.\n",
    "\n"
   ]
  },
  {
   "cell_type": "code",
   "execution_count": 2,
   "metadata": {},
   "outputs": [
    {
     "name": "stdout",
     "output_type": "stream",
     "text": [
      "3 8\n",
      "Crescente\n",
      "9 2\n",
      "Decrescente\n",
      "5 5\n"
     ]
    }
   ],
   "source": [
    "n1, n2 = map(int, input().split())\n",
    "\n",
    "while n1!=n2:\n",
    "    if n1<n2:\n",
    "        print(\"Crescente\")\n",
    "    else:\n",
    "        print(\"Decrescente\")\n",
    "    n1, n2 = map(int, input().split())"
   ]
  },
  {
   "cell_type": "markdown",
   "metadata": {},
   "source": [
    "**Exercise: Fixed Password**\n",
    "\n",
    "Write a program that keep reading a password until it is valid. For each wrong password read, write the message \"Senha inválida\". When the password is typed correctly print the message \"Acesso Permitido\" and finished the program. The correct password is the number 2002.\n",
    "\n",
    "**Input:**\n",
    "The input file contains several tests cases. Each test case contains only an integer number.\n",
    "\n",
    "**Output:**\n",
    "For each number read print a message corresponding to the description of the problem."
   ]
  },
  {
   "cell_type": "code",
   "execution_count": 3,
   "metadata": {},
   "outputs": [
    {
     "name": "stdout",
     "output_type": "stream",
     "text": [
      "2200\n",
      "Senha Invalida\n",
      "2020\n",
      "Senha Invalida\n",
      "2002\n",
      "Acesso Permitido\n"
     ]
    }
   ],
   "source": [
    "password = 0\n",
    "while (password!=2002):\n",
    "    password=int(input())\n",
    "    if password!=2002:\n",
    "        print(\"Senha Invalida\")\n",
    "print(\"Acesso Permitido\")"
   ]
  }
 ],
 "metadata": {
  "kernelspec": {
   "display_name": "Python 3",
   "language": "python",
   "name": "python3"
  },
  "language_info": {
   "codemirror_mode": {
    "name": "ipython",
    "version": 3
   },
   "file_extension": ".py",
   "mimetype": "text/x-python",
   "name": "python",
   "nbconvert_exporter": "python",
   "pygments_lexer": "ipython3",
   "version": "3.6.8"
  }
 },
 "nbformat": 4,
 "nbformat_minor": 2
}
